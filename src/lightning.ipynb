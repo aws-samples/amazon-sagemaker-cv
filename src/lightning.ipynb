{
 "cells": [
  {
   "cell_type": "code",
   "execution_count": null,
   "id": "b5eba495",
   "metadata": {},
   "outputs": [],
   "source": [
    "import argparse\n",
    "import random\n",
    "import os\n",
    "import torch\n",
    "import functools\n",
    "from maskrcnn_benchmark.config import cfg\n",
    "from maskrcnn_benchmark.data import make_data_loader\n",
    "from maskrcnn_benchmark.utils.comm import get_rank\n",
    "from maskrcnn_benchmark.utils.checkpoint import DetectronCheckpointer\n",
    "from maskrcnn_benchmark.utils.mlperf_logger import configure_logger\n",
    "from maskrcnn_benchmark.utils.mlperf_logger import log_start\n",
    "from maskrcnn_benchmark.modeling.detector import build_detection_model\n",
    "from maskrcnn_benchmark.solver import make_optimizer\n",
    "from maskrcnn_benchmark.solver import make_lr_scheduler\n",
    "from maskrcnn_benchmark.engine.trainer import do_train"
   ]
  },
  {
   "cell_type": "code",
   "execution_count": null,
   "id": "b1c094a5",
   "metadata": {},
   "outputs": [],
   "source": [
    "from mlperf_logging.mllog import constants"
   ]
  },
  {
   "cell_type": "code",
   "execution_count": null,
   "id": "b2f78de4",
   "metadata": {},
   "outputs": [],
   "source": [
    "import json"
   ]
  },
  {
   "cell_type": "code",
   "execution_count": null,
   "id": "194c4aba",
   "metadata": {},
   "outputs": [],
   "source": [
    "configure_logger(constants.MASKRCNN)\n",
    "num_gpus = int(os.environ[\"WORLD_SIZE\"]) if \"WORLD_SIZE\" in os.environ else 1\n",
    "distributed = num_gpus > 1"
   ]
  },
  {
   "cell_type": "code",
   "execution_count": null,
   "id": "749ddca6",
   "metadata": {},
   "outputs": [],
   "source": [
    "parser = argparse.ArgumentParser(description=\"PyTorch Object Detection Training\")\n",
    "parser.add_argument(\n",
    "        \"--config-file\",\n",
    "        default=\"\",\n",
    "        metavar=\"FILE\",\n",
    "        help=\"path to config file\",\n",
    "        type=str,\n",
    "    )\n",
    "parser.add_argument(\"--local_rank\", type=int, default=os.getenv('LOCAL_RANK', 0))\n",
    "parser.add_argument(\n",
    "    \"opts\",\n",
    "    help=\"Modify config options using the command-line\",\n",
    "    default=None,\n",
    "    nargs=argparse.REMAINDER,\n",
    ")\n",
    "\n",
    "# args = parser.parse_args()"
   ]
  },
  {
   "cell_type": "code",
   "execution_count": null,
   "id": "5ebada74",
   "metadata": {},
   "outputs": [],
   "source": [
    "args = parser.parse_args()"
   ]
  },
  {
   "cell_type": "code",
   "execution_count": null,
   "id": "aee713a6",
   "metadata": {},
   "outputs": [],
   "source": [
    "cfg.merge_from_file(\"configs/e2e_mask_rcnn_R_50_FPN_1x_1_node_test.yaml\")\n",
    "# cfg.merge_from_list(args.opts)\n",
    "cfg.freeze()"
   ]
  },
  {
   "cell_type": "code",
   "execution_count": null,
   "id": "3363f588",
   "metadata": {},
   "outputs": [],
   "source": [
    "if cfg.DATALOADER.ALWAYS_PAD_TO_MAX or cfg.USE_CUDA_GRAPH:\n",
    "    min_size = cfg.INPUT.MIN_SIZE_TRAIN[0] if isinstance(cfg.INPUT.MIN_SIZE_TRAIN, tuple) else cfg.INPUT.MIN_SIZE_TRAIN\n",
    "    max_size = cfg.INPUT.MAX_SIZE_TRAIN[0] if isinstance(cfg.INPUT.MAX_SIZE_TRAIN, tuple) else cfg.INPUT.MAX_SIZE_TRAIN\n",
    "    divisibility = max(1, cfg.DATALOADER.SIZE_DIVISIBILITY)\n",
    "    shapes_per_orientation = cfg.CUDA_GRAPH_NUM_SHAPES_PER_ORIENTATION\n",
    "\n",
    "    min_size = ((min_size + divisibility - 1) // divisibility) * divisibility\n",
    "    max_size = ((max_size + divisibility - 1) // divisibility) * divisibility\n",
    "    size_range = (max_size - min_size) // divisibility\n",
    "\n",
    "    shapes = []\n",
    "    for i in range(0,shapes_per_orientation):\n",
    "        size = min_size + ((i+1) * size_range // shapes_per_orientation) * divisibility\n",
    "        shapes.append( (min_size, size) )\n",
    "        shapes.append( (size, min_size) )\n",
    "    print(shapes)\n",
    "else:\n",
    "    shapes = None"
   ]
  },
  {
   "cell_type": "code",
   "execution_count": null,
   "id": "2e498e85",
   "metadata": {},
   "outputs": [],
   "source": [
    "master_seed = random.SystemRandom().randint(0, 2 ** 32 - 1)\n",
    "random_number_generator = random.Random(master_seed)\n",
    "data_loader, iters_per_epoch = make_data_loader(\n",
    "            cfg,\n",
    "            is_train=True,\n",
    "            is_distributed=distributed,\n",
    "            start_iter=0,\n",
    "            random_number_generator=random_number_generator,\n",
    "            seed=master_seed,\n",
    "            shapes=shapes,\n",
    "            hybrid_dataloader=None,\n",
    "        )"
   ]
  },
  {
   "cell_type": "code",
   "execution_count": null,
   "id": "556ae04f",
   "metadata": {},
   "outputs": [],
   "source": [
    "def mlperf_log_epoch_start(iteration, iters_per_epoch):\n",
    "    # First iteration:\n",
    "    #     Note we've started training & tag first epoch start\n",
    "    if iteration == 0:\n",
    "        log_start(key=constants.BLOCK_START, metadata={\"first_epoch_num\":1, \"epoch_count\":1})\n",
    "        log_start(key=constants.EPOCH_START, metadata={\"epoch_num\":1})\n",
    "        return\n",
    "    if iteration % iters_per_epoch == 0:\n",
    "        epoch = iteration // iters_per_epoch + 1\n",
    "        log_start(key=constants.BLOCK_START, metadata={\"first_epoch_num\": epoch, \"epoch_count\": 1})\n",
    "        log_start(key=constants.EPOCH_START, metadata={\"epoch_num\": epoch})"
   ]
  },
  {
   "cell_type": "code",
   "execution_count": null,
   "id": "01fc0273",
   "metadata": {
    "scrolled": true
   },
   "outputs": [],
   "source": [
    "model = build_detection_model(cfg)\n",
    "# device = torch.device(cfg.MODEL.DEVICE)\n",
    "# model.to(device)"
   ]
  },
  {
   "cell_type": "code",
   "execution_count": null,
   "id": "76317e76",
   "metadata": {},
   "outputs": [],
   "source": [
    "world_size = 1\n",
    "dedicated_evaluation_ranks = max(0,cfg.DEDICATED_EVALUATION_RANKS)\n",
    "num_training_ranks = world_size - dedicated_evaluation_ranks\n",
    "images_per_gpu_train = cfg.SOLVER.IMS_PER_BATCH"
   ]
  },
  {
   "cell_type": "code",
   "execution_count": null,
   "id": "bf76aa1b",
   "metadata": {
    "scrolled": true
   },
   "outputs": [],
   "source": [
    "# model.train()\n",
    "optimizer = make_optimizer(cfg, model)\n",
    "scheduler = make_lr_scheduler(cfg, optimizer)\n",
    "checkpoint_period = cfg.SOLVER.CHECKPOINT_PERIOD"
   ]
  },
  {
   "cell_type": "code",
   "execution_count": null,
   "id": "568b0535",
   "metadata": {},
   "outputs": [],
   "source": [
    "arguments = {}\n",
    "arguments[\"iteration\"] = 0\n",
    "arguments[\"nhwc\"] = cfg.NHWC\n",
    "arguments['ims_per_batch'] = cfg.SOLVER.IMS_PER_BATCH\n",
    "arguments[\"distributed\"] = distributed\n",
    "arguments[\"max_annotations_per_image\"] = cfg.DATALOADER.MAX_ANNOTATIONS_PER_IMAGE\n",
    "arguments[\"dedicated_evaluation_ranks\"] = dedicated_evaluation_ranks\n",
    "arguments[\"num_training_ranks\"] = num_training_ranks\n",
    "arguments[\"training_comm\"] = None if dedicated_evaluation_ranks == 0 else training_comm\n",
    "arguments[\"images_per_gpu_train\"] = images_per_gpu_train\n",
    "arguments[\"use_synthetic_input\"] = cfg.DATALOADER.USE_SYNTHETIC_INPUT\n",
    "assert not (cfg.DATALOADER.USE_SYNTHETIC_INPUT and cfg.DATALOADER.HYBRID), \"USE_SYNTHETIC_INPUT and HYBRID can't both be used together\"\n",
    "arguments[\"enable_nsys_profiling\"] = cfg.ENABLE_NSYS_PROFILING\n",
    "output_dir = cfg.OUTPUT_DIR\n",
    "\n",
    "save_to_disk = get_rank() == 0\n",
    "checkpointer = DetectronCheckpointer(\n",
    "    cfg, model, optimizer, scheduler, output_dir, save_to_disk\n",
    ")\n",
    "arguments[\"save_checkpoints\"] = cfg.SAVE_CHECKPOINTS\n",
    "\n",
    "extra_checkpoint_data = checkpointer.load(cfg.MODEL.WEIGHT, cfg.NHWC)\n",
    "arguments.update(extra_checkpoint_data)"
   ]
  },
  {
   "cell_type": "code",
   "execution_count": null,
   "id": "8606bdc9",
   "metadata": {},
   "outputs": [],
   "source": [
    "per_iter_callback_fn = None\n",
    "final_callback_fn=None\n",
    "rank=0"
   ]
  },
  {
   "cell_type": "code",
   "execution_count": null,
   "id": "4e6126c4",
   "metadata": {},
   "outputs": [],
   "source": [
    "success = do_train(\n",
    "            model,\n",
    "            data_loader,\n",
    "            optimizer,\n",
    "            scheduler,\n",
    "            checkpointer,\n",
    "            device,\n",
    "            checkpoint_period,\n",
    "            arguments,\n",
    "            cfg.DISABLE_REDUCED_LOGGING,\n",
    "            cfg.DISABLE_LOSS_LOGGING,\n",
    "            per_iter_start_callback_fn=functools.partial(mlperf_log_epoch_start, iters_per_epoch=iters_per_epoch),\n",
    "            per_iter_end_callback_fn=per_iter_callback_fn,\n",
    "            final_callback_fn=final_callback_fn,\n",
    "            rank=rank\n",
    "        )"
   ]
  },
  {
   "cell_type": "code",
   "execution_count": null,
   "id": "c8895f8a",
   "metadata": {},
   "outputs": [],
   "source": []
  }
 ],
 "metadata": {
  "kernelspec": {
   "display_name": "Python 3 (ipykernel)",
   "language": "python",
   "name": "python3"
  },
  "language_info": {
   "codemirror_mode": {
    "name": "ipython",
    "version": 3
   },
   "file_extension": ".py",
   "mimetype": "text/x-python",
   "name": "python",
   "nbconvert_exporter": "python",
   "pygments_lexer": "ipython3",
   "version": "3.8.13"
  }
 },
 "nbformat": 4,
 "nbformat_minor": 5
}
