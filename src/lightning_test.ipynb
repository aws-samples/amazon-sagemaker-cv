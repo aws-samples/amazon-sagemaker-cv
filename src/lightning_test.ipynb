{
 "cells": [
  {
   "cell_type": "code",
   "execution_count": null,
   "id": "55864465",
   "metadata": {},
   "outputs": [],
   "source": [
    "import argparse\n",
    "import random\n",
    "import os\n",
    "import torch\n",
    "import time\n",
    "import functools\n",
    "from maskrcnn_benchmark.config import cfg\n",
    "from maskrcnn_benchmark.data import make_data_loader\n",
    "from maskrcnn_benchmark.utils.comm import get_rank\n",
    "from maskrcnn_benchmark.utils.checkpoint import DetectronCheckpointer\n",
    "from maskrcnn_benchmark.utils.mlperf_logger import configure_logger\n",
    "from maskrcnn_benchmark.utils.mlperf_logger import log_start\n",
    "from maskrcnn_benchmark.modeling.detector import build_detection_model\n",
    "from maskrcnn_benchmark.solver import make_optimizer\n",
    "from maskrcnn_benchmark.solver import make_lr_scheduler\n",
    "from maskrcnn_benchmark.engine.trainer import do_train\n",
    "from scaleoutbridge import init_bridge, ScaleoutBridge as SBridge"
   ]
  },
  {
   "cell_type": "code",
   "execution_count": null,
   "id": "15e25954",
   "metadata": {},
   "outputs": [],
   "source": [
    "from mlperf_logging.mllog import constants"
   ]
  },
  {
   "cell_type": "code",
   "execution_count": null,
   "id": "9eabe771",
   "metadata": {},
   "outputs": [],
   "source": [
    "import json"
   ]
  },
  {
   "cell_type": "code",
   "execution_count": null,
   "id": "8bf8b9b7",
   "metadata": {},
   "outputs": [],
   "source": [
    "configure_logger(constants.MASKRCNN)\n",
    "num_gpus = int(os.environ[\"WORLD_SIZE\"]) if \"WORLD_SIZE\" in os.environ else 1\n",
    "distributed = num_gpus > 1"
   ]
  },
  {
   "cell_type": "code",
   "execution_count": null,
   "id": "0b413461",
   "metadata": {},
   "outputs": [],
   "source": [
    "parser = argparse.ArgumentParser(description=\"PyTorch Object Detection Training\")\n",
    "parser.add_argument(\n",
    "        \"--config-file\",\n",
    "        default=\"\",\n",
    "        metavar=\"FILE\",\n",
    "        help=\"path to config file\",\n",
    "        type=str,\n",
    "    )\n",
    "parser.add_argument(\"--local_rank\", type=int, default=os.getenv('LOCAL_RANK', 0))\n",
    "parser.add_argument(\n",
    "    \"opts\",\n",
    "    help=\"Modify config options using the command-line\",\n",
    "    default=None,\n",
    "    nargs=argparse.REMAINDER,\n",
    ")\n",
    "\n",
    "# args = parser.parse_args()"
   ]
  },
  {
   "cell_type": "code",
   "execution_count": null,
   "id": "51fcfda5",
   "metadata": {},
   "outputs": [],
   "source": [
    "cfg.merge_from_file(\"configs/e2e_mask_rcnn_R_50_FPN_1x_1_node_test.yaml\")\n",
    "# cfg.merge_from_list(args.opts)\n",
    "# cfg.freeze()"
   ]
  },
  {
   "cell_type": "code",
   "execution_count": null,
   "id": "4f69485d",
   "metadata": {},
   "outputs": [],
   "source": [
    "import pytorch_lightning as pl\n",
    "from rcnn_lightning import LightningGeneralizedRCNN"
   ]
  },
  {
   "cell_type": "code",
   "execution_count": null,
   "id": "592d71f3",
   "metadata": {
    "scrolled": true
   },
   "outputs": [],
   "source": [
    "model = LightningGeneralizedRCNN(cfg)\n",
    "trainer=pl.Trainer()"
   ]
  },
  {
   "cell_type": "code",
   "execution_count": null,
   "id": "49c10ea8",
   "metadata": {},
   "outputs": [],
   "source": [
    "trainer.fit(model)"
   ]
  },
  {
   "cell_type": "code",
   "execution_count": null,
   "id": "539b53df",
   "metadata": {},
   "outputs": [],
   "source": []
  }
 ],
 "metadata": {
  "kernelspec": {
   "display_name": "Python 3 (ipykernel)",
   "language": "python",
   "name": "python3"
  },
  "language_info": {
   "codemirror_mode": {
    "name": "ipython",
    "version": 3
   },
   "file_extension": ".py",
   "mimetype": "text/x-python",
   "name": "python",
   "nbconvert_exporter": "python",
   "pygments_lexer": "ipython3",
   "version": "3.8.13"
  }
 },
 "nbformat": 4,
 "nbformat_minor": 5
}
