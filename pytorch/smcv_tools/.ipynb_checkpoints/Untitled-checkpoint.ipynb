{
 "cells": [
  {
   "cell_type": "code",
   "execution_count": 1,
   "metadata": {},
   "outputs": [],
   "source": [
    "import resource\n",
    "rlimit = resource.getrlimit(resource.RLIMIT_NOFILE)\n",
    "resource.setrlimit(resource.RLIMIT_NOFILE, (4096, rlimit[1]))\n",
    "\n",
    "import sys\n",
    "import torch\n",
    "from sagemakercv.detection.detector import build_detection_model\n",
    "from utils import (unarchive_data, \n",
    "                   get_training_world, \n",
    "                   is_sm, \n",
    "                   is_sm_dist, \n",
    "                   get_herring_world)\n",
    "from sagemakercv.training import make_optimizer, make_lr_scheduler\n",
    "from sagemakercv.data import make_data_loader, Prefetcher\n",
    "from sagemakercv.utils.checkpoint import DetectronCheckpointer\n",
    "from sagemakercv.utils.runner import build_hooks, Runner\n",
    "from sagemakercv.utils.runner.hooks.checkpoint import DetectronCheckpointHook\n",
    "from sagemakercv.training.trainers import train_step\n",
    "import apex\n",
    "from configs import cfg\n",
    "from tqdm.auto import tqdm\n",
    "from statistics import mean\n",
    "\n",
    "if (torch._C, '_jit_set_profiling_executor') :\n",
    "    torch._C._jit_set_profiling_executor(False)\n",
    "if (torch._C, '_jit_set_profiling_mode') :\n",
    "    torch._C._jit_set_profiling_mode(False)\n",
    "    \n",
    "torch.backends.cuda.matmul.allow_tf32 = True"
   ]
  },
  {
   "cell_type": "code",
   "execution_count": 2,
   "metadata": {},
   "outputs": [],
   "source": [
    "cfg.merge_from_file('configs/ec2_mrcnn_bs8_O1.yaml')"
   ]
  },
  {
   "cell_type": "code",
   "execution_count": 3,
   "metadata": {},
   "outputs": [
    {
     "name": "stdout",
     "output_type": "stream",
     "text": [
      "NOTE! Installing ujson may make loading annotations faster.\n",
      "loading annotations into memory...\n",
      "Done (t=16.04s)\n",
      "creating index...\n",
      "index created!\n",
      "shapes=None\n",
      "passthrough=False\n"
     ]
    }
   ],
   "source": [
    "train_coco_loader, num_iterations = make_data_loader(cfg, is_distributed=False)"
   ]
  },
  {
   "cell_type": "code",
   "execution_count": 4,
   "metadata": {},
   "outputs": [
    {
     "name": "stdout",
     "output_type": "stream",
     "text": [
      "[2021-09-08 13:05:16.003 smcv-pt-1-9-ml-g4dn-12xlarge-df425b7e73d0c422dd55a6882a7b:1233 INFO utils.py:27] RULE_JOB_STOP_SIGNAL_FILENAME: None\n",
      "[2021-09-08 13:05:16.032 smcv-pt-1-9-ml-g4dn-12xlarge-df425b7e73d0c422dd55a6882a7b:1233 INFO profiler_config_parser.py:102] Unable to find config at /opt/ml/input/config/profilerconfig.json. Profiler is disabled.\n"
     ]
    }
   ],
   "source": [
    "device = torch.device(cfg.MODEL.DEVICE)\n",
    "train_iterator = Prefetcher(iter(train_coco_loader), device)"
   ]
  },
  {
   "cell_type": "code",
   "execution_count": 5,
   "metadata": {},
   "outputs": [],
   "source": [
    "model = build_detection_model(cfg)\n",
    "model.to(device)\n",
    "optimizer = make_optimizer(cfg, model)\n",
    "scheduler = make_lr_scheduler(cfg, optimizer)"
   ]
  },
  {
   "cell_type": "code",
   "execution_count": 6,
   "metadata": {},
   "outputs": [],
   "source": [
    "hooks = build_hooks(cfg)"
   ]
  },
  {
   "cell_type": "code",
   "execution_count": 7,
   "metadata": {},
   "outputs": [],
   "source": [
    "is_fp16 = (cfg.OPT_LEVEL == \"O4\")\n",
    "if is_fp16:\n",
    "    # convert model to FP16\n",
    "    model.half()"
   ]
  },
  {
   "cell_type": "code",
   "execution_count": 8,
   "metadata": {},
   "outputs": [],
   "source": [
    "runner = Runner(model, train_step, cfg, device, optimizer, scheduler)"
   ]
  },
  {
   "cell_type": "code",
   "execution_count": 9,
   "metadata": {},
   "outputs": [],
   "source": [
    "for hook in hooks:\n",
    "    runner.register_hook(hook, priority='HIGHEST' if isinstance(hook, DetectronCheckpointHook) else 'NORMAL')"
   ]
  },
  {
   "cell_type": "code",
   "execution_count": null,
   "metadata": {},
   "outputs": [
    {
     "name": "stdout",
     "output_type": "stream",
     "text": [
      "Start running, work_dir: /root/model_outputs\n"
     ]
    },
    {
     "name": "stderr",
     "output_type": "stream",
     "text": [
      "INFO:sagemakercv.utils.runner.runner:Start running, work_dir: /root/model_outputs\n"
     ]
    },
    {
     "name": "stdout",
     "output_type": "stream",
     "text": [
      "max: 2 epochs\n"
     ]
    },
    {
     "name": "stderr",
     "output_type": "stream",
     "text": [
      "INFO:sagemakercv.utils.runner.runner:max: 2 epochs\n",
      "INFO:sagemakercv.utils.checkpoint:Loading checkpoint from /home/sagemaker-user/data/weights/R-50.pkl\n",
      "INFO:sagemakercv.utils.c2_model_loading:Remapping C2 weights\n",
      "INFO:sagemakercv.utils.c2_model_loading:C2 name: conv1_b              mapped name: conv1.bias\n",
      "INFO:sagemakercv.utils.c2_model_loading:C2 name: conv1_w              mapped name: conv1.weight\n",
      "INFO:sagemakercv.utils.c2_model_loading:C2 name: fc1000_b             mapped name: fc1000.bias\n",
      "INFO:sagemakercv.utils.c2_model_loading:C2 name: fc1000_w             mapped name: fc1000.weight\n",
      "INFO:sagemakercv.utils.c2_model_loading:C2 name: res2_0_branch1_b     mapped name: layer1.0.downsample.0.bias\n",
      "INFO:sagemakercv.utils.c2_model_loading:C2 name: res2_0_branch1_bn_b  mapped name: layer1.0.downsample.1.bias\n",
      "INFO:sagemakercv.utils.c2_model_loading:C2 name: res2_0_branch1_bn_s  mapped name: layer1.0.downsample.1.weight\n",
      "INFO:sagemakercv.utils.c2_model_loading:C2 name: res2_0_branch1_w     mapped name: layer1.0.downsample.0.weight\n",
      "INFO:sagemakercv.utils.c2_model_loading:C2 name: res2_0_branch2a_b    mapped name: layer1.0.conv1.bias\n",
      "INFO:sagemakercv.utils.c2_model_loading:C2 name: res2_0_branch2a_bn_b mapped name: layer1.0.bn1.bias\n",
      "INFO:sagemakercv.utils.c2_model_loading:C2 name: res2_0_branch2a_bn_s mapped name: layer1.0.bn1.weight\n",
      "INFO:sagemakercv.utils.c2_model_loading:C2 name: res2_0_branch2a_w    mapped name: layer1.0.conv1.weight\n",
      "INFO:sagemakercv.utils.c2_model_loading:C2 name: res2_0_branch2b_b    mapped name: layer1.0.conv2.bias\n",
      "INFO:sagemakercv.utils.c2_model_loading:C2 name: res2_0_branch2b_bn_b mapped name: layer1.0.bn2.bias\n",
      "INFO:sagemakercv.utils.c2_model_loading:C2 name: res2_0_branch2b_bn_s mapped name: layer1.0.bn2.weight\n",
      "INFO:sagemakercv.utils.c2_model_loading:C2 name: res2_0_branch2b_w    mapped name: layer1.0.conv2.weight\n",
      "INFO:sagemakercv.utils.c2_model_loading:C2 name: res2_0_branch2c_b    mapped name: layer1.0.conv3.bias\n",
      "INFO:sagemakercv.utils.c2_model_loading:C2 name: res2_0_branch2c_bn_b mapped name: layer1.0.bn3.bias\n",
      "INFO:sagemakercv.utils.c2_model_loading:C2 name: res2_0_branch2c_bn_s mapped name: layer1.0.bn3.weight\n",
      "INFO:sagemakercv.utils.c2_model_loading:C2 name: res2_0_branch2c_w    mapped name: layer1.0.conv3.weight\n",
      "INFO:sagemakercv.utils.c2_model_loading:C2 name: res2_1_branch2a_b    mapped name: layer1.1.conv1.bias\n",
      "INFO:sagemakercv.utils.c2_model_loading:C2 name: res2_1_branch2a_bn_b mapped name: layer1.1.bn1.bias\n",
      "INFO:sagemakercv.utils.c2_model_loading:C2 name: res2_1_branch2a_bn_s mapped name: layer1.1.bn1.weight\n",
      "INFO:sagemakercv.utils.c2_model_loading:C2 name: res2_1_branch2a_w    mapped name: layer1.1.conv1.weight\n",
      "INFO:sagemakercv.utils.c2_model_loading:C2 name: res2_1_branch2b_b    mapped name: layer1.1.conv2.bias\n",
      "INFO:sagemakercv.utils.c2_model_loading:C2 name: res2_1_branch2b_bn_b mapped name: layer1.1.bn2.bias\n",
      "INFO:sagemakercv.utils.c2_model_loading:C2 name: res2_1_branch2b_bn_s mapped name: layer1.1.bn2.weight\n",
      "INFO:sagemakercv.utils.c2_model_loading:C2 name: res2_1_branch2b_w    mapped name: layer1.1.conv2.weight\n",
      "INFO:sagemakercv.utils.c2_model_loading:C2 name: res2_1_branch2c_b    mapped name: layer1.1.conv3.bias\n",
      "INFO:sagemakercv.utils.c2_model_loading:C2 name: res2_1_branch2c_bn_b mapped name: layer1.1.bn3.bias\n",
      "INFO:sagemakercv.utils.c2_model_loading:C2 name: res2_1_branch2c_bn_s mapped name: layer1.1.bn3.weight\n",
      "INFO:sagemakercv.utils.c2_model_loading:C2 name: res2_1_branch2c_w    mapped name: layer1.1.conv3.weight\n",
      "INFO:sagemakercv.utils.c2_model_loading:C2 name: res2_2_branch2a_b    mapped name: layer1.2.conv1.bias\n",
      "INFO:sagemakercv.utils.c2_model_loading:C2 name: res2_2_branch2a_bn_b mapped name: layer1.2.bn1.bias\n",
      "INFO:sagemakercv.utils.c2_model_loading:C2 name: res2_2_branch2a_bn_s mapped name: layer1.2.bn1.weight\n",
      "INFO:sagemakercv.utils.c2_model_loading:C2 name: res2_2_branch2a_w    mapped name: layer1.2.conv1.weight\n",
      "INFO:sagemakercv.utils.c2_model_loading:C2 name: res2_2_branch2b_b    mapped name: layer1.2.conv2.bias\n",
      "INFO:sagemakercv.utils.c2_model_loading:C2 name: res2_2_branch2b_bn_b mapped name: layer1.2.bn2.bias\n",
      "INFO:sagemakercv.utils.c2_model_loading:C2 name: res2_2_branch2b_bn_s mapped name: layer1.2.bn2.weight\n",
      "INFO:sagemakercv.utils.c2_model_loading:C2 name: res2_2_branch2b_w    mapped name: layer1.2.conv2.weight\n",
      "INFO:sagemakercv.utils.c2_model_loading:C2 name: res2_2_branch2c_b    mapped name: layer1.2.conv3.bias\n",
      "INFO:sagemakercv.utils.c2_model_loading:C2 name: res2_2_branch2c_bn_b mapped name: layer1.2.bn3.bias\n",
      "INFO:sagemakercv.utils.c2_model_loading:C2 name: res2_2_branch2c_bn_s mapped name: layer1.2.bn3.weight\n",
      "INFO:sagemakercv.utils.c2_model_loading:C2 name: res2_2_branch2c_w    mapped name: layer1.2.conv3.weight\n",
      "INFO:sagemakercv.utils.c2_model_loading:C2 name: res3_0_branch1_b     mapped name: layer2.0.downsample.0.bias\n",
      "INFO:sagemakercv.utils.c2_model_loading:C2 name: res3_0_branch1_bn_b  mapped name: layer2.0.downsample.1.bias\n",
      "INFO:sagemakercv.utils.c2_model_loading:C2 name: res3_0_branch1_bn_s  mapped name: layer2.0.downsample.1.weight\n",
      "INFO:sagemakercv.utils.c2_model_loading:C2 name: res3_0_branch1_w     mapped name: layer2.0.downsample.0.weight\n",
      "INFO:sagemakercv.utils.c2_model_loading:C2 name: res3_0_branch2a_b    mapped name: layer2.0.conv1.bias\n",
      "INFO:sagemakercv.utils.c2_model_loading:C2 name: res3_0_branch2a_bn_b mapped name: layer2.0.bn1.bias\n",
      "INFO:sagemakercv.utils.c2_model_loading:C2 name: res3_0_branch2a_bn_s mapped name: layer2.0.bn1.weight\n",
      "INFO:sagemakercv.utils.c2_model_loading:C2 name: res3_0_branch2a_w    mapped name: layer2.0.conv1.weight\n",
      "INFO:sagemakercv.utils.c2_model_loading:C2 name: res3_0_branch2b_b    mapped name: layer2.0.conv2.bias\n",
      "INFO:sagemakercv.utils.c2_model_loading:C2 name: res3_0_branch2b_bn_b mapped name: layer2.0.bn2.bias\n",
      "INFO:sagemakercv.utils.c2_model_loading:C2 name: res3_0_branch2b_bn_s mapped name: layer2.0.bn2.weight\n",
      "INFO:sagemakercv.utils.c2_model_loading:C2 name: res3_0_branch2b_w    mapped name: layer2.0.conv2.weight\n",
      "INFO:sagemakercv.utils.c2_model_loading:C2 name: res3_0_branch2c_b    mapped name: layer2.0.conv3.bias\n",
      "INFO:sagemakercv.utils.c2_model_loading:C2 name: res3_0_branch2c_bn_b mapped name: layer2.0.bn3.bias\n",
      "INFO:sagemakercv.utils.c2_model_loading:C2 name: res3_0_branch2c_bn_s mapped name: layer2.0.bn3.weight\n",
      "INFO:sagemakercv.utils.c2_model_loading:C2 name: res3_0_branch2c_w    mapped name: layer2.0.conv3.weight\n",
      "INFO:sagemakercv.utils.c2_model_loading:C2 name: res3_1_branch2a_b    mapped name: layer2.1.conv1.bias\n",
      "INFO:sagemakercv.utils.c2_model_loading:C2 name: res3_1_branch2a_bn_b mapped name: layer2.1.bn1.bias\n",
      "INFO:sagemakercv.utils.c2_model_loading:C2 name: res3_1_branch2a_bn_s mapped name: layer2.1.bn1.weight\n",
      "INFO:sagemakercv.utils.c2_model_loading:C2 name: res3_1_branch2a_w    mapped name: layer2.1.conv1.weight\n",
      "INFO:sagemakercv.utils.c2_model_loading:C2 name: res3_1_branch2b_b    mapped name: layer2.1.conv2.bias\n",
      "INFO:sagemakercv.utils.c2_model_loading:C2 name: res3_1_branch2b_bn_b mapped name: layer2.1.bn2.bias\n",
      "INFO:sagemakercv.utils.c2_model_loading:C2 name: res3_1_branch2b_bn_s mapped name: layer2.1.bn2.weight\n",
      "INFO:sagemakercv.utils.c2_model_loading:C2 name: res3_1_branch2b_w    mapped name: layer2.1.conv2.weight\n",
      "INFO:sagemakercv.utils.c2_model_loading:C2 name: res3_1_branch2c_b    mapped name: layer2.1.conv3.bias\n",
      "INFO:sagemakercv.utils.c2_model_loading:C2 name: res3_1_branch2c_bn_b mapped name: layer2.1.bn3.bias\n",
      "INFO:sagemakercv.utils.c2_model_loading:C2 name: res3_1_branch2c_bn_s mapped name: layer2.1.bn3.weight\n",
      "INFO:sagemakercv.utils.c2_model_loading:C2 name: res3_1_branch2c_w    mapped name: layer2.1.conv3.weight\n",
      "INFO:sagemakercv.utils.c2_model_loading:C2 name: res3_2_branch2a_b    mapped name: layer2.2.conv1.bias\n",
      "INFO:sagemakercv.utils.c2_model_loading:C2 name: res3_2_branch2a_bn_b mapped name: layer2.2.bn1.bias\n",
      "INFO:sagemakercv.utils.c2_model_loading:C2 name: res3_2_branch2a_bn_s mapped name: layer2.2.bn1.weight\n",
      "INFO:sagemakercv.utils.c2_model_loading:C2 name: res3_2_branch2a_w    mapped name: layer2.2.conv1.weight\n",
      "INFO:sagemakercv.utils.c2_model_loading:C2 name: res3_2_branch2b_b    mapped name: layer2.2.conv2.bias\n",
      "INFO:sagemakercv.utils.c2_model_loading:C2 name: res3_2_branch2b_bn_b mapped name: layer2.2.bn2.bias\n",
      "INFO:sagemakercv.utils.c2_model_loading:C2 name: res3_2_branch2b_bn_s mapped name: layer2.2.bn2.weight\n",
      "INFO:sagemakercv.utils.c2_model_loading:C2 name: res3_2_branch2b_w    mapped name: layer2.2.conv2.weight\n",
      "INFO:sagemakercv.utils.c2_model_loading:C2 name: res3_2_branch2c_b    mapped name: layer2.2.conv3.bias\n",
      "INFO:sagemakercv.utils.c2_model_loading:C2 name: res3_2_branch2c_bn_b mapped name: layer2.2.bn3.bias\n",
      "INFO:sagemakercv.utils.c2_model_loading:C2 name: res3_2_branch2c_bn_s mapped name: layer2.2.bn3.weight\n",
      "INFO:sagemakercv.utils.c2_model_loading:C2 name: res3_2_branch2c_w    mapped name: layer2.2.conv3.weight\n",
      "INFO:sagemakercv.utils.c2_model_loading:C2 name: res3_3_branch2a_b    mapped name: layer2.3.conv1.bias\n",
      "INFO:sagemakercv.utils.c2_model_loading:C2 name: res3_3_branch2a_bn_b mapped name: layer2.3.bn1.bias\n",
      "INFO:sagemakercv.utils.c2_model_loading:C2 name: res3_3_branch2a_bn_s mapped name: layer2.3.bn1.weight\n",
      "INFO:sagemakercv.utils.c2_model_loading:C2 name: res3_3_branch2a_w    mapped name: layer2.3.conv1.weight\n",
      "INFO:sagemakercv.utils.c2_model_loading:C2 name: res3_3_branch2b_b    mapped name: layer2.3.conv2.bias\n",
      "INFO:sagemakercv.utils.c2_model_loading:C2 name: res3_3_branch2b_bn_b mapped name: layer2.3.bn2.bias\n",
      "INFO:sagemakercv.utils.c2_model_loading:C2 name: res3_3_branch2b_bn_s mapped name: layer2.3.bn2.weight\n",
      "INFO:sagemakercv.utils.c2_model_loading:C2 name: res3_3_branch2b_w    mapped name: layer2.3.conv2.weight\n",
      "INFO:sagemakercv.utils.c2_model_loading:C2 name: res3_3_branch2c_b    mapped name: layer2.3.conv3.bias\n",
      "INFO:sagemakercv.utils.c2_model_loading:C2 name: res3_3_branch2c_bn_b mapped name: layer2.3.bn3.bias\n",
      "INFO:sagemakercv.utils.c2_model_loading:C2 name: res3_3_branch2c_bn_s mapped name: layer2.3.bn3.weight\n",
      "INFO:sagemakercv.utils.c2_model_loading:C2 name: res3_3_branch2c_w    mapped name: layer2.3.conv3.weight\n",
      "INFO:sagemakercv.utils.c2_model_loading:C2 name: res4_0_branch1_b     mapped name: layer3.0.downsample.0.bias\n",
      "INFO:sagemakercv.utils.c2_model_loading:C2 name: res4_0_branch1_bn_b  mapped name: layer3.0.downsample.1.bias\n",
      "INFO:sagemakercv.utils.c2_model_loading:C2 name: res4_0_branch1_bn_s  mapped name: layer3.0.downsample.1.weight\n",
      "INFO:sagemakercv.utils.c2_model_loading:C2 name: res4_0_branch1_w     mapped name: layer3.0.downsample.0.weight\n",
      "INFO:sagemakercv.utils.c2_model_loading:C2 name: res4_0_branch2a_b    mapped name: layer3.0.conv1.bias\n",
      "INFO:sagemakercv.utils.c2_model_loading:C2 name: res4_0_branch2a_bn_b mapped name: layer3.0.bn1.bias\n",
      "INFO:sagemakercv.utils.c2_model_loading:C2 name: res4_0_branch2a_bn_s mapped name: layer3.0.bn1.weight\n",
      "INFO:sagemakercv.utils.c2_model_loading:C2 name: res4_0_branch2a_w    mapped name: layer3.0.conv1.weight\n",
      "INFO:sagemakercv.utils.c2_model_loading:C2 name: res4_0_branch2b_b    mapped name: layer3.0.conv2.bias\n",
      "INFO:sagemakercv.utils.c2_model_loading:C2 name: res4_0_branch2b_bn_b mapped name: layer3.0.bn2.bias\n",
      "INFO:sagemakercv.utils.c2_model_loading:C2 name: res4_0_branch2b_bn_s mapped name: layer3.0.bn2.weight\n",
      "INFO:sagemakercv.utils.c2_model_loading:C2 name: res4_0_branch2b_w    mapped name: layer3.0.conv2.weight\n",
      "INFO:sagemakercv.utils.c2_model_loading:C2 name: res4_0_branch2c_b    mapped name: layer3.0.conv3.bias\n",
      "INFO:sagemakercv.utils.c2_model_loading:C2 name: res4_0_branch2c_bn_b mapped name: layer3.0.bn3.bias\n",
      "INFO:sagemakercv.utils.c2_model_loading:C2 name: res4_0_branch2c_bn_s mapped name: layer3.0.bn3.weight\n",
      "INFO:sagemakercv.utils.c2_model_loading:C2 name: res4_0_branch2c_w    mapped name: layer3.0.conv3.weight\n",
      "INFO:sagemakercv.utils.c2_model_loading:C2 name: res4_1_branch2a_b    mapped name: layer3.1.conv1.bias\n",
      "INFO:sagemakercv.utils.c2_model_loading:C2 name: res4_1_branch2a_bn_b mapped name: layer3.1.bn1.bias\n",
      "INFO:sagemakercv.utils.c2_model_loading:C2 name: res4_1_branch2a_bn_s mapped name: layer3.1.bn1.weight\n",
      "INFO:sagemakercv.utils.c2_model_loading:C2 name: res4_1_branch2a_w    mapped name: layer3.1.conv1.weight\n",
      "INFO:sagemakercv.utils.c2_model_loading:C2 name: res4_1_branch2b_b    mapped name: layer3.1.conv2.bias\n",
      "INFO:sagemakercv.utils.c2_model_loading:C2 name: res4_1_branch2b_bn_b mapped name: layer3.1.bn2.bias\n",
      "INFO:sagemakercv.utils.c2_model_loading:C2 name: res4_1_branch2b_bn_s mapped name: layer3.1.bn2.weight\n",
      "INFO:sagemakercv.utils.c2_model_loading:C2 name: res4_1_branch2b_w    mapped name: layer3.1.conv2.weight\n",
      "INFO:sagemakercv.utils.c2_model_loading:C2 name: res4_1_branch2c_b    mapped name: layer3.1.conv3.bias\n",
      "INFO:sagemakercv.utils.c2_model_loading:C2 name: res4_1_branch2c_bn_b mapped name: layer3.1.bn3.bias\n",
      "INFO:sagemakercv.utils.c2_model_loading:C2 name: res4_1_branch2c_bn_s mapped name: layer3.1.bn3.weight\n",
      "INFO:sagemakercv.utils.c2_model_loading:C2 name: res4_1_branch2c_w    mapped name: layer3.1.conv3.weight\n",
      "INFO:sagemakercv.utils.c2_model_loading:C2 name: res4_2_branch2a_b    mapped name: layer3.2.conv1.bias\n",
      "INFO:sagemakercv.utils.c2_model_loading:C2 name: res4_2_branch2a_bn_b mapped name: layer3.2.bn1.bias\n",
      "INFO:sagemakercv.utils.c2_model_loading:C2 name: res4_2_branch2a_bn_s mapped name: layer3.2.bn1.weight\n",
      "INFO:sagemakercv.utils.c2_model_loading:C2 name: res4_2_branch2a_w    mapped name: layer3.2.conv1.weight\n",
      "INFO:sagemakercv.utils.c2_model_loading:C2 name: res4_2_branch2b_b    mapped name: layer3.2.conv2.bias\n",
      "INFO:sagemakercv.utils.c2_model_loading:C2 name: res4_2_branch2b_bn_b mapped name: layer3.2.bn2.bias\n",
      "INFO:sagemakercv.utils.c2_model_loading:C2 name: res4_2_branch2b_bn_s mapped name: layer3.2.bn2.weight\n",
      "INFO:sagemakercv.utils.c2_model_loading:C2 name: res4_2_branch2b_w    mapped name: layer3.2.conv2.weight\n",
      "INFO:sagemakercv.utils.c2_model_loading:C2 name: res4_2_branch2c_b    mapped name: layer3.2.conv3.bias\n",
      "INFO:sagemakercv.utils.c2_model_loading:C2 name: res4_2_branch2c_bn_b mapped name: layer3.2.bn3.bias\n",
      "INFO:sagemakercv.utils.c2_model_loading:C2 name: res4_2_branch2c_bn_s mapped name: layer3.2.bn3.weight\n",
      "INFO:sagemakercv.utils.c2_model_loading:C2 name: res4_2_branch2c_w    mapped name: layer3.2.conv3.weight\n",
      "INFO:sagemakercv.utils.c2_model_loading:C2 name: res4_3_branch2a_b    mapped name: layer3.3.conv1.bias\n",
      "INFO:sagemakercv.utils.c2_model_loading:C2 name: res4_3_branch2a_bn_b mapped name: layer3.3.bn1.bias\n",
      "INFO:sagemakercv.utils.c2_model_loading:C2 name: res4_3_branch2a_bn_s mapped name: layer3.3.bn1.weight\n",
      "INFO:sagemakercv.utils.c2_model_loading:C2 name: res4_3_branch2a_w    mapped name: layer3.3.conv1.weight\n",
      "INFO:sagemakercv.utils.c2_model_loading:C2 name: res4_3_branch2b_b    mapped name: layer3.3.conv2.bias\n",
      "INFO:sagemakercv.utils.c2_model_loading:C2 name: res4_3_branch2b_bn_b mapped name: layer3.3.bn2.bias\n",
      "INFO:sagemakercv.utils.c2_model_loading:C2 name: res4_3_branch2b_bn_s mapped name: layer3.3.bn2.weight\n",
      "INFO:sagemakercv.utils.c2_model_loading:C2 name: res4_3_branch2b_w    mapped name: layer3.3.conv2.weight\n",
      "INFO:sagemakercv.utils.c2_model_loading:C2 name: res4_3_branch2c_b    mapped name: layer3.3.conv3.bias\n",
      "INFO:sagemakercv.utils.c2_model_loading:C2 name: res4_3_branch2c_bn_b mapped name: layer3.3.bn3.bias\n",
      "INFO:sagemakercv.utils.c2_model_loading:C2 name: res4_3_branch2c_bn_s mapped name: layer3.3.bn3.weight\n",
      "INFO:sagemakercv.utils.c2_model_loading:C2 name: res4_3_branch2c_w    mapped name: layer3.3.conv3.weight\n",
      "INFO:sagemakercv.utils.c2_model_loading:C2 name: res4_4_branch2a_b    mapped name: layer3.4.conv1.bias\n",
      "INFO:sagemakercv.utils.c2_model_loading:C2 name: res4_4_branch2a_bn_b mapped name: layer3.4.bn1.bias\n",
      "INFO:sagemakercv.utils.c2_model_loading:C2 name: res4_4_branch2a_bn_s mapped name: layer3.4.bn1.weight\n",
      "INFO:sagemakercv.utils.c2_model_loading:C2 name: res4_4_branch2a_w    mapped name: layer3.4.conv1.weight\n",
      "INFO:sagemakercv.utils.c2_model_loading:C2 name: res4_4_branch2b_b    mapped name: layer3.4.conv2.bias\n",
      "INFO:sagemakercv.utils.c2_model_loading:C2 name: res4_4_branch2b_bn_b mapped name: layer3.4.bn2.bias\n",
      "INFO:sagemakercv.utils.c2_model_loading:C2 name: res4_4_branch2b_bn_s mapped name: layer3.4.bn2.weight\n",
      "INFO:sagemakercv.utils.c2_model_loading:C2 name: res4_4_branch2b_w    mapped name: layer3.4.conv2.weight\n",
      "INFO:sagemakercv.utils.c2_model_loading:C2 name: res4_4_branch2c_b    mapped name: layer3.4.conv3.bias\n",
      "INFO:sagemakercv.utils.c2_model_loading:C2 name: res4_4_branch2c_bn_b mapped name: layer3.4.bn3.bias\n",
      "INFO:sagemakercv.utils.c2_model_loading:C2 name: res4_4_branch2c_bn_s mapped name: layer3.4.bn3.weight\n",
      "INFO:sagemakercv.utils.c2_model_loading:C2 name: res4_4_branch2c_w    mapped name: layer3.4.conv3.weight\n",
      "INFO:sagemakercv.utils.c2_model_loading:C2 name: res4_5_branch2a_b    mapped name: layer3.5.conv1.bias\n",
      "INFO:sagemakercv.utils.c2_model_loading:C2 name: res4_5_branch2a_bn_b mapped name: layer3.5.bn1.bias\n",
      "INFO:sagemakercv.utils.c2_model_loading:C2 name: res4_5_branch2a_bn_s mapped name: layer3.5.bn1.weight\n",
      "INFO:sagemakercv.utils.c2_model_loading:C2 name: res4_5_branch2a_w    mapped name: layer3.5.conv1.weight\n",
      "INFO:sagemakercv.utils.c2_model_loading:C2 name: res4_5_branch2b_b    mapped name: layer3.5.conv2.bias\n",
      "INFO:sagemakercv.utils.c2_model_loading:C2 name: res4_5_branch2b_bn_b mapped name: layer3.5.bn2.bias\n",
      "INFO:sagemakercv.utils.c2_model_loading:C2 name: res4_5_branch2b_bn_s mapped name: layer3.5.bn2.weight\n",
      "INFO:sagemakercv.utils.c2_model_loading:C2 name: res4_5_branch2b_w    mapped name: layer3.5.conv2.weight\n",
      "INFO:sagemakercv.utils.c2_model_loading:C2 name: res4_5_branch2c_b    mapped name: layer3.5.conv3.bias\n",
      "INFO:sagemakercv.utils.c2_model_loading:C2 name: res4_5_branch2c_bn_b mapped name: layer3.5.bn3.bias\n",
      "INFO:sagemakercv.utils.c2_model_loading:C2 name: res4_5_branch2c_bn_s mapped name: layer3.5.bn3.weight\n",
      "INFO:sagemakercv.utils.c2_model_loading:C2 name: res4_5_branch2c_w    mapped name: layer3.5.conv3.weight\n",
      "INFO:sagemakercv.utils.c2_model_loading:C2 name: res5_0_branch1_b     mapped name: layer4.0.downsample.0.bias\n",
      "INFO:sagemakercv.utils.c2_model_loading:C2 name: res5_0_branch1_bn_b  mapped name: layer4.0.downsample.1.bias\n",
      "INFO:sagemakercv.utils.c2_model_loading:C2 name: res5_0_branch1_bn_s  mapped name: layer4.0.downsample.1.weight\n",
      "INFO:sagemakercv.utils.c2_model_loading:C2 name: res5_0_branch1_w     mapped name: layer4.0.downsample.0.weight\n",
      "INFO:sagemakercv.utils.c2_model_loading:C2 name: res5_0_branch2a_b    mapped name: layer4.0.conv1.bias\n",
      "INFO:sagemakercv.utils.c2_model_loading:C2 name: res5_0_branch2a_bn_b mapped name: layer4.0.bn1.bias\n",
      "INFO:sagemakercv.utils.c2_model_loading:C2 name: res5_0_branch2a_bn_s mapped name: layer4.0.bn1.weight\n",
      "INFO:sagemakercv.utils.c2_model_loading:C2 name: res5_0_branch2a_w    mapped name: layer4.0.conv1.weight\n",
      "INFO:sagemakercv.utils.c2_model_loading:C2 name: res5_0_branch2b_b    mapped name: layer4.0.conv2.bias\n",
      "INFO:sagemakercv.utils.c2_model_loading:C2 name: res5_0_branch2b_bn_b mapped name: layer4.0.bn2.bias\n",
      "INFO:sagemakercv.utils.c2_model_loading:C2 name: res5_0_branch2b_bn_s mapped name: layer4.0.bn2.weight\n",
      "INFO:sagemakercv.utils.c2_model_loading:C2 name: res5_0_branch2b_w    mapped name: layer4.0.conv2.weight\n",
      "INFO:sagemakercv.utils.c2_model_loading:C2 name: res5_0_branch2c_b    mapped name: layer4.0.conv3.bias\n",
      "INFO:sagemakercv.utils.c2_model_loading:C2 name: res5_0_branch2c_bn_b mapped name: layer4.0.bn3.bias\n",
      "INFO:sagemakercv.utils.c2_model_loading:C2 name: res5_0_branch2c_bn_s mapped name: layer4.0.bn3.weight\n",
      "INFO:sagemakercv.utils.c2_model_loading:C2 name: res5_0_branch2c_w    mapped name: layer4.0.conv3.weight\n",
      "INFO:sagemakercv.utils.c2_model_loading:C2 name: res5_1_branch2a_b    mapped name: layer4.1.conv1.bias\n",
      "INFO:sagemakercv.utils.c2_model_loading:C2 name: res5_1_branch2a_bn_b mapped name: layer4.1.bn1.bias\n",
      "INFO:sagemakercv.utils.c2_model_loading:C2 name: res5_1_branch2a_bn_s mapped name: layer4.1.bn1.weight\n",
      "INFO:sagemakercv.utils.c2_model_loading:C2 name: res5_1_branch2a_w    mapped name: layer4.1.conv1.weight\n",
      "INFO:sagemakercv.utils.c2_model_loading:C2 name: res5_1_branch2b_b    mapped name: layer4.1.conv2.bias\n",
      "INFO:sagemakercv.utils.c2_model_loading:C2 name: res5_1_branch2b_bn_b mapped name: layer4.1.bn2.bias\n",
      "INFO:sagemakercv.utils.c2_model_loading:C2 name: res5_1_branch2b_bn_s mapped name: layer4.1.bn2.weight\n",
      "INFO:sagemakercv.utils.c2_model_loading:C2 name: res5_1_branch2b_w    mapped name: layer4.1.conv2.weight\n",
      "INFO:sagemakercv.utils.c2_model_loading:C2 name: res5_1_branch2c_b    mapped name: layer4.1.conv3.bias\n",
      "INFO:sagemakercv.utils.c2_model_loading:C2 name: res5_1_branch2c_bn_b mapped name: layer4.1.bn3.bias\n",
      "INFO:sagemakercv.utils.c2_model_loading:C2 name: res5_1_branch2c_bn_s mapped name: layer4.1.bn3.weight\n",
      "INFO:sagemakercv.utils.c2_model_loading:C2 name: res5_1_branch2c_w    mapped name: layer4.1.conv3.weight\n",
      "INFO:sagemakercv.utils.c2_model_loading:C2 name: res5_2_branch2a_b    mapped name: layer4.2.conv1.bias\n",
      "INFO:sagemakercv.utils.c2_model_loading:C2 name: res5_2_branch2a_bn_b mapped name: layer4.2.bn1.bias\n",
      "INFO:sagemakercv.utils.c2_model_loading:C2 name: res5_2_branch2a_bn_s mapped name: layer4.2.bn1.weight\n",
      "INFO:sagemakercv.utils.c2_model_loading:C2 name: res5_2_branch2a_w    mapped name: layer4.2.conv1.weight\n",
      "INFO:sagemakercv.utils.c2_model_loading:C2 name: res5_2_branch2b_b    mapped name: layer4.2.conv2.bias\n",
      "INFO:sagemakercv.utils.c2_model_loading:C2 name: res5_2_branch2b_bn_b mapped name: layer4.2.bn2.bias\n",
      "INFO:sagemakercv.utils.c2_model_loading:C2 name: res5_2_branch2b_bn_s mapped name: layer4.2.bn2.weight\n",
      "INFO:sagemakercv.utils.c2_model_loading:C2 name: res5_2_branch2b_w    mapped name: layer4.2.conv2.weight\n",
      "INFO:sagemakercv.utils.c2_model_loading:C2 name: res5_2_branch2c_b    mapped name: layer4.2.conv3.bias\n",
      "INFO:sagemakercv.utils.c2_model_loading:C2 name: res5_2_branch2c_bn_b mapped name: layer4.2.bn3.bias\n",
      "INFO:sagemakercv.utils.c2_model_loading:C2 name: res5_2_branch2c_bn_s mapped name: layer4.2.bn3.weight\n",
      "INFO:sagemakercv.utils.c2_model_loading:C2 name: res5_2_branch2c_w    mapped name: layer4.2.conv3.weight\n",
      "INFO:sagemakercv.utils.c2_model_loading:C2 name: res_conv1_bn_b       mapped name: bn1.bias\n",
      "INFO:sagemakercv.utils.c2_model_loading:C2 name: res_conv1_bn_s       mapped name: bn1.weight\n",
      "INFO:sagemakercv.utils.model_serialization:graphable.backbone.body.layer1.0.bn1.bias                  loaded from layer1.0.bn1.bias            of shape (64,)\n",
      "INFO:sagemakercv.utils.model_serialization:graphable.backbone.body.layer1.0.bn1.weight                loaded from layer1.0.bn1.weight          of shape (64,)\n",
      "INFO:sagemakercv.utils.model_serialization:graphable.backbone.body.layer1.0.bn2.bias                  loaded from layer1.0.bn2.bias            of shape (64,)\n",
      "INFO:sagemakercv.utils.model_serialization:graphable.backbone.body.layer1.0.bn2.weight                loaded from layer1.0.bn2.weight          of shape (64,)\n",
      "INFO:sagemakercv.utils.model_serialization:graphable.backbone.body.layer1.0.bn3.bias                  loaded from layer1.0.bn3.bias            of shape (256,)\n",
      "INFO:sagemakercv.utils.model_serialization:graphable.backbone.body.layer1.0.bn3.weight                loaded from layer1.0.bn3.weight          of shape (256,)\n",
      "INFO:sagemakercv.utils.model_serialization:graphable.backbone.body.layer1.0.conv1.weight              loaded from layer1.0.conv1.weight        of shape (64, 64, 1, 1)\n",
      "INFO:sagemakercv.utils.model_serialization:graphable.backbone.body.layer1.0.conv2.weight              loaded from layer1.0.conv2.weight        of shape (64, 64, 3, 3)\n",
      "INFO:sagemakercv.utils.model_serialization:graphable.backbone.body.layer1.0.conv3.weight              loaded from layer1.0.conv3.weight        of shape (256, 64, 1, 1)\n",
      "INFO:sagemakercv.utils.model_serialization:graphable.backbone.body.layer1.0.downsample.0.weight       loaded from layer1.0.downsample.0.weight of shape (256, 64, 1, 1)\n",
      "INFO:sagemakercv.utils.model_serialization:graphable.backbone.body.layer1.0.downsample.1.bias         loaded from layer1.0.downsample.1.bias   of shape (256,)\n",
      "INFO:sagemakercv.utils.model_serialization:graphable.backbone.body.layer1.0.downsample.1.weight       loaded from layer1.0.downsample.1.weight of shape (256,)\n",
      "INFO:sagemakercv.utils.model_serialization:graphable.backbone.body.layer1.1.bn1.bias                  loaded from layer1.1.bn1.bias            of shape (64,)\n",
      "INFO:sagemakercv.utils.model_serialization:graphable.backbone.body.layer1.1.bn1.weight                loaded from layer1.1.bn1.weight          of shape (64,)\n",
      "INFO:sagemakercv.utils.model_serialization:graphable.backbone.body.layer1.1.bn2.bias                  loaded from layer1.1.bn2.bias            of shape (64,)\n",
      "INFO:sagemakercv.utils.model_serialization:graphable.backbone.body.layer1.1.bn2.weight                loaded from layer1.1.bn2.weight          of shape (64,)\n",
      "INFO:sagemakercv.utils.model_serialization:graphable.backbone.body.layer1.1.bn3.bias                  loaded from layer1.1.bn3.bias            of shape (256,)\n",
      "INFO:sagemakercv.utils.model_serialization:graphable.backbone.body.layer1.1.bn3.weight                loaded from layer1.1.bn3.weight          of shape (256,)\n",
      "INFO:sagemakercv.utils.model_serialization:graphable.backbone.body.layer1.1.conv1.weight              loaded from layer1.1.conv1.weight        of shape (64, 256, 1, 1)\n",
      "INFO:sagemakercv.utils.model_serialization:graphable.backbone.body.layer1.1.conv2.weight              loaded from layer1.1.conv2.weight        of shape (64, 64, 3, 3)\n",
      "INFO:sagemakercv.utils.model_serialization:graphable.backbone.body.layer1.1.conv3.weight              loaded from layer1.1.conv3.weight        of shape (256, 64, 1, 1)\n",
      "INFO:sagemakercv.utils.model_serialization:graphable.backbone.body.layer1.2.bn1.bias                  loaded from layer1.2.bn1.bias            of shape (64,)\n",
      "INFO:sagemakercv.utils.model_serialization:graphable.backbone.body.layer1.2.bn1.weight                loaded from layer1.2.bn1.weight          of shape (64,)\n",
      "INFO:sagemakercv.utils.model_serialization:graphable.backbone.body.layer1.2.bn2.bias                  loaded from layer1.2.bn2.bias            of shape (64,)\n",
      "INFO:sagemakercv.utils.model_serialization:graphable.backbone.body.layer1.2.bn2.weight                loaded from layer1.2.bn2.weight          of shape (64,)\n",
      "INFO:sagemakercv.utils.model_serialization:graphable.backbone.body.layer1.2.bn3.bias                  loaded from layer1.2.bn3.bias            of shape (256,)\n",
      "INFO:sagemakercv.utils.model_serialization:graphable.backbone.body.layer1.2.bn3.weight                loaded from layer1.2.bn3.weight          of shape (256,)\n",
      "INFO:sagemakercv.utils.model_serialization:graphable.backbone.body.layer1.2.conv1.weight              loaded from layer1.2.conv1.weight        of shape (64, 256, 1, 1)\n",
      "INFO:sagemakercv.utils.model_serialization:graphable.backbone.body.layer1.2.conv2.weight              loaded from layer1.2.conv2.weight        of shape (64, 64, 3, 3)\n",
      "INFO:sagemakercv.utils.model_serialization:graphable.backbone.body.layer1.2.conv3.weight              loaded from layer1.2.conv3.weight        of shape (256, 64, 1, 1)\n",
      "INFO:sagemakercv.utils.model_serialization:graphable.backbone.body.layer2.0.bn1.bias                  loaded from layer2.0.bn1.bias            of shape (128,)\n",
      "INFO:sagemakercv.utils.model_serialization:graphable.backbone.body.layer2.0.bn1.weight                loaded from layer2.0.bn1.weight          of shape (128,)\n",
      "INFO:sagemakercv.utils.model_serialization:graphable.backbone.body.layer2.0.bn2.bias                  loaded from layer2.0.bn2.bias            of shape (128,)\n",
      "INFO:sagemakercv.utils.model_serialization:graphable.backbone.body.layer2.0.bn2.weight                loaded from layer2.0.bn2.weight          of shape (128,)\n",
      "INFO:sagemakercv.utils.model_serialization:graphable.backbone.body.layer2.0.bn3.bias                  loaded from layer2.0.bn3.bias            of shape (512,)\n",
      "INFO:sagemakercv.utils.model_serialization:graphable.backbone.body.layer2.0.bn3.weight                loaded from layer2.0.bn3.weight          of shape (512,)\n",
      "INFO:sagemakercv.utils.model_serialization:graphable.backbone.body.layer2.0.conv1.weight              loaded from layer2.0.conv1.weight        of shape (128, 256, 1, 1)\n",
      "INFO:sagemakercv.utils.model_serialization:graphable.backbone.body.layer2.0.conv2.weight              loaded from layer2.0.conv2.weight        of shape (128, 128, 3, 3)\n",
      "INFO:sagemakercv.utils.model_serialization:graphable.backbone.body.layer2.0.conv3.weight              loaded from layer2.0.conv3.weight        of shape (512, 128, 1, 1)\n",
      "INFO:sagemakercv.utils.model_serialization:graphable.backbone.body.layer2.0.downsample.0.weight       loaded from layer2.0.downsample.0.weight of shape (512, 256, 1, 1)\n",
      "INFO:sagemakercv.utils.model_serialization:graphable.backbone.body.layer2.0.downsample.1.bias         loaded from layer2.0.downsample.1.bias   of shape (512,)\n",
      "INFO:sagemakercv.utils.model_serialization:graphable.backbone.body.layer2.0.downsample.1.weight       loaded from layer2.0.downsample.1.weight of shape (512,)\n",
      "INFO:sagemakercv.utils.model_serialization:graphable.backbone.body.layer2.1.bn1.bias                  loaded from layer2.1.bn1.bias            of shape (128,)\n",
      "INFO:sagemakercv.utils.model_serialization:graphable.backbone.body.layer2.1.bn1.weight                loaded from layer2.1.bn1.weight          of shape (128,)\n",
      "INFO:sagemakercv.utils.model_serialization:graphable.backbone.body.layer2.1.bn2.bias                  loaded from layer2.1.bn2.bias            of shape (128,)\n",
      "INFO:sagemakercv.utils.model_serialization:graphable.backbone.body.layer2.1.bn2.weight                loaded from layer2.1.bn2.weight          of shape (128,)\n",
      "INFO:sagemakercv.utils.model_serialization:graphable.backbone.body.layer2.1.bn3.bias                  loaded from layer2.1.bn3.bias            of shape (512,)\n",
      "INFO:sagemakercv.utils.model_serialization:graphable.backbone.body.layer2.1.bn3.weight                loaded from layer2.1.bn3.weight          of shape (512,)\n",
      "INFO:sagemakercv.utils.model_serialization:graphable.backbone.body.layer2.1.conv1.weight              loaded from layer2.1.conv1.weight        of shape (128, 512, 1, 1)\n",
      "INFO:sagemakercv.utils.model_serialization:graphable.backbone.body.layer2.1.conv2.weight              loaded from layer2.1.conv2.weight        of shape (128, 128, 3, 3)\n",
      "INFO:sagemakercv.utils.model_serialization:graphable.backbone.body.layer2.1.conv3.weight              loaded from layer2.1.conv3.weight        of shape (512, 128, 1, 1)\n",
      "INFO:sagemakercv.utils.model_serialization:graphable.backbone.body.layer2.2.bn1.bias                  loaded from layer2.2.bn1.bias            of shape (128,)\n",
      "INFO:sagemakercv.utils.model_serialization:graphable.backbone.body.layer2.2.bn1.weight                loaded from layer2.2.bn1.weight          of shape (128,)\n",
      "INFO:sagemakercv.utils.model_serialization:graphable.backbone.body.layer2.2.bn2.bias                  loaded from layer2.2.bn2.bias            of shape (128,)\n",
      "INFO:sagemakercv.utils.model_serialization:graphable.backbone.body.layer2.2.bn2.weight                loaded from layer2.2.bn2.weight          of shape (128,)\n",
      "INFO:sagemakercv.utils.model_serialization:graphable.backbone.body.layer2.2.bn3.bias                  loaded from layer2.2.bn3.bias            of shape (512,)\n",
      "INFO:sagemakercv.utils.model_serialization:graphable.backbone.body.layer2.2.bn3.weight                loaded from layer2.2.bn3.weight          of shape (512,)\n",
      "INFO:sagemakercv.utils.model_serialization:graphable.backbone.body.layer2.2.conv1.weight              loaded from layer2.2.conv1.weight        of shape (128, 512, 1, 1)\n",
      "INFO:sagemakercv.utils.model_serialization:graphable.backbone.body.layer2.2.conv2.weight              loaded from layer2.2.conv2.weight        of shape (128, 128, 3, 3)\n",
      "INFO:sagemakercv.utils.model_serialization:graphable.backbone.body.layer2.2.conv3.weight              loaded from layer2.2.conv3.weight        of shape (512, 128, 1, 1)\n",
      "INFO:sagemakercv.utils.model_serialization:graphable.backbone.body.layer2.3.bn1.bias                  loaded from layer2.3.bn1.bias            of shape (128,)\n",
      "INFO:sagemakercv.utils.model_serialization:graphable.backbone.body.layer2.3.bn1.weight                loaded from layer2.3.bn1.weight          of shape (128,)\n",
      "INFO:sagemakercv.utils.model_serialization:graphable.backbone.body.layer2.3.bn2.bias                  loaded from layer2.3.bn2.bias            of shape (128,)\n",
      "INFO:sagemakercv.utils.model_serialization:graphable.backbone.body.layer2.3.bn2.weight                loaded from layer2.3.bn2.weight          of shape (128,)\n",
      "INFO:sagemakercv.utils.model_serialization:graphable.backbone.body.layer2.3.bn3.bias                  loaded from layer2.3.bn3.bias            of shape (512,)\n",
      "INFO:sagemakercv.utils.model_serialization:graphable.backbone.body.layer2.3.bn3.weight                loaded from layer2.3.bn3.weight          of shape (512,)\n",
      "INFO:sagemakercv.utils.model_serialization:graphable.backbone.body.layer2.3.conv1.weight              loaded from layer2.3.conv1.weight        of shape (128, 512, 1, 1)\n",
      "INFO:sagemakercv.utils.model_serialization:graphable.backbone.body.layer2.3.conv2.weight              loaded from layer2.3.conv2.weight        of shape (128, 128, 3, 3)\n",
      "INFO:sagemakercv.utils.model_serialization:graphable.backbone.body.layer2.3.conv3.weight              loaded from layer2.3.conv3.weight        of shape (512, 128, 1, 1)\n",
      "INFO:sagemakercv.utils.model_serialization:graphable.backbone.body.layer3.0.bn1.bias                  loaded from layer3.0.bn1.bias            of shape (256,)\n",
      "INFO:sagemakercv.utils.model_serialization:graphable.backbone.body.layer3.0.bn1.weight                loaded from layer3.0.bn1.weight          of shape (256,)\n",
      "INFO:sagemakercv.utils.model_serialization:graphable.backbone.body.layer3.0.bn2.bias                  loaded from layer3.0.bn2.bias            of shape (256,)\n",
      "INFO:sagemakercv.utils.model_serialization:graphable.backbone.body.layer3.0.bn2.weight                loaded from layer3.0.bn2.weight          of shape (256,)\n",
      "INFO:sagemakercv.utils.model_serialization:graphable.backbone.body.layer3.0.bn3.bias                  loaded from layer3.0.bn3.bias            of shape (1024,)\n",
      "INFO:sagemakercv.utils.model_serialization:graphable.backbone.body.layer3.0.bn3.weight                loaded from layer3.0.bn3.weight          of shape (1024,)\n",
      "INFO:sagemakercv.utils.model_serialization:graphable.backbone.body.layer3.0.conv1.weight              loaded from layer3.0.conv1.weight        of shape (256, 512, 1, 1)\n",
      "INFO:sagemakercv.utils.model_serialization:graphable.backbone.body.layer3.0.conv2.weight              loaded from layer3.0.conv2.weight        of shape (256, 256, 3, 3)\n",
      "INFO:sagemakercv.utils.model_serialization:graphable.backbone.body.layer3.0.conv3.weight              loaded from layer3.0.conv3.weight        of shape (1024, 256, 1, 1)\n",
      "INFO:sagemakercv.utils.model_serialization:graphable.backbone.body.layer3.0.downsample.0.weight       loaded from layer3.0.downsample.0.weight of shape (1024, 512, 1, 1)\n",
      "INFO:sagemakercv.utils.model_serialization:graphable.backbone.body.layer3.0.downsample.1.bias         loaded from layer3.0.downsample.1.bias   of shape (1024,)\n",
      "INFO:sagemakercv.utils.model_serialization:graphable.backbone.body.layer3.0.downsample.1.weight       loaded from layer3.0.downsample.1.weight of shape (1024,)\n",
      "INFO:sagemakercv.utils.model_serialization:graphable.backbone.body.layer3.1.bn1.bias                  loaded from layer3.1.bn1.bias            of shape (256,)\n",
      "INFO:sagemakercv.utils.model_serialization:graphable.backbone.body.layer3.1.bn1.weight                loaded from layer3.1.bn1.weight          of shape (256,)\n",
      "INFO:sagemakercv.utils.model_serialization:graphable.backbone.body.layer3.1.bn2.bias                  loaded from layer3.1.bn2.bias            of shape (256,)\n",
      "INFO:sagemakercv.utils.model_serialization:graphable.backbone.body.layer3.1.bn2.weight                loaded from layer3.1.bn2.weight          of shape (256,)\n",
      "INFO:sagemakercv.utils.model_serialization:graphable.backbone.body.layer3.1.bn3.bias                  loaded from layer3.1.bn3.bias            of shape (1024,)\n",
      "INFO:sagemakercv.utils.model_serialization:graphable.backbone.body.layer3.1.bn3.weight                loaded from layer3.1.bn3.weight          of shape (1024,)\n",
      "INFO:sagemakercv.utils.model_serialization:graphable.backbone.body.layer3.1.conv1.weight              loaded from layer3.1.conv1.weight        of shape (256, 1024, 1, 1)\n",
      "INFO:sagemakercv.utils.model_serialization:graphable.backbone.body.layer3.1.conv2.weight              loaded from layer3.1.conv2.weight        of shape (256, 256, 3, 3)\n",
      "INFO:sagemakercv.utils.model_serialization:graphable.backbone.body.layer3.1.conv3.weight              loaded from layer3.1.conv3.weight        of shape (1024, 256, 1, 1)\n",
      "INFO:sagemakercv.utils.model_serialization:graphable.backbone.body.layer3.2.bn1.bias                  loaded from layer3.2.bn1.bias            of shape (256,)\n",
      "INFO:sagemakercv.utils.model_serialization:graphable.backbone.body.layer3.2.bn1.weight                loaded from layer3.2.bn1.weight          of shape (256,)\n",
      "INFO:sagemakercv.utils.model_serialization:graphable.backbone.body.layer3.2.bn2.bias                  loaded from layer3.2.bn2.bias            of shape (256,)\n",
      "INFO:sagemakercv.utils.model_serialization:graphable.backbone.body.layer3.2.bn2.weight                loaded from layer3.2.bn2.weight          of shape (256,)\n",
      "INFO:sagemakercv.utils.model_serialization:graphable.backbone.body.layer3.2.bn3.bias                  loaded from layer3.2.bn3.bias            of shape (1024,)\n",
      "INFO:sagemakercv.utils.model_serialization:graphable.backbone.body.layer3.2.bn3.weight                loaded from layer3.2.bn3.weight          of shape (1024,)\n",
      "INFO:sagemakercv.utils.model_serialization:graphable.backbone.body.layer3.2.conv1.weight              loaded from layer3.2.conv1.weight        of shape (256, 1024, 1, 1)\n",
      "INFO:sagemakercv.utils.model_serialization:graphable.backbone.body.layer3.2.conv2.weight              loaded from layer3.2.conv2.weight        of shape (256, 256, 3, 3)\n",
      "INFO:sagemakercv.utils.model_serialization:graphable.backbone.body.layer3.2.conv3.weight              loaded from layer3.2.conv3.weight        of shape (1024, 256, 1, 1)\n",
      "INFO:sagemakercv.utils.model_serialization:graphable.backbone.body.layer3.3.bn1.bias                  loaded from layer3.3.bn1.bias            of shape (256,)\n",
      "INFO:sagemakercv.utils.model_serialization:graphable.backbone.body.layer3.3.bn1.weight                loaded from layer3.3.bn1.weight          of shape (256,)\n",
      "INFO:sagemakercv.utils.model_serialization:graphable.backbone.body.layer3.3.bn2.bias                  loaded from layer3.3.bn2.bias            of shape (256,)\n",
      "INFO:sagemakercv.utils.model_serialization:graphable.backbone.body.layer3.3.bn2.weight                loaded from layer3.3.bn2.weight          of shape (256,)\n",
      "INFO:sagemakercv.utils.model_serialization:graphable.backbone.body.layer3.3.bn3.bias                  loaded from layer3.3.bn3.bias            of shape (1024,)\n",
      "INFO:sagemakercv.utils.model_serialization:graphable.backbone.body.layer3.3.bn3.weight                loaded from layer3.3.bn3.weight          of shape (1024,)\n",
      "INFO:sagemakercv.utils.model_serialization:graphable.backbone.body.layer3.3.conv1.weight              loaded from layer3.3.conv1.weight        of shape (256, 1024, 1, 1)\n",
      "INFO:sagemakercv.utils.model_serialization:graphable.backbone.body.layer3.3.conv2.weight              loaded from layer3.3.conv2.weight        of shape (256, 256, 3, 3)\n",
      "INFO:sagemakercv.utils.model_serialization:graphable.backbone.body.layer3.3.conv3.weight              loaded from layer3.3.conv3.weight        of shape (1024, 256, 1, 1)\n",
      "INFO:sagemakercv.utils.model_serialization:graphable.backbone.body.layer3.4.bn1.bias                  loaded from layer3.4.bn1.bias            of shape (256,)\n",
      "INFO:sagemakercv.utils.model_serialization:graphable.backbone.body.layer3.4.bn1.weight                loaded from layer3.4.bn1.weight          of shape (256,)\n",
      "INFO:sagemakercv.utils.model_serialization:graphable.backbone.body.layer3.4.bn2.bias                  loaded from layer3.4.bn2.bias            of shape (256,)\n",
      "INFO:sagemakercv.utils.model_serialization:graphable.backbone.body.layer3.4.bn2.weight                loaded from layer3.4.bn2.weight          of shape (256,)\n",
      "INFO:sagemakercv.utils.model_serialization:graphable.backbone.body.layer3.4.bn3.bias                  loaded from layer3.4.bn3.bias            of shape (1024,)\n",
      "INFO:sagemakercv.utils.model_serialization:graphable.backbone.body.layer3.4.bn3.weight                loaded from layer3.4.bn3.weight          of shape (1024,)\n",
      "INFO:sagemakercv.utils.model_serialization:graphable.backbone.body.layer3.4.conv1.weight              loaded from layer3.4.conv1.weight        of shape (256, 1024, 1, 1)\n",
      "INFO:sagemakercv.utils.model_serialization:graphable.backbone.body.layer3.4.conv2.weight              loaded from layer3.4.conv2.weight        of shape (256, 256, 3, 3)\n",
      "INFO:sagemakercv.utils.model_serialization:graphable.backbone.body.layer3.4.conv3.weight              loaded from layer3.4.conv3.weight        of shape (1024, 256, 1, 1)\n",
      "INFO:sagemakercv.utils.model_serialization:graphable.backbone.body.layer3.5.bn1.bias                  loaded from layer3.5.bn1.bias            of shape (256,)\n",
      "INFO:sagemakercv.utils.model_serialization:graphable.backbone.body.layer3.5.bn1.weight                loaded from layer3.5.bn1.weight          of shape (256,)\n",
      "INFO:sagemakercv.utils.model_serialization:graphable.backbone.body.layer3.5.bn2.bias                  loaded from layer3.5.bn2.bias            of shape (256,)\n",
      "INFO:sagemakercv.utils.model_serialization:graphable.backbone.body.layer3.5.bn2.weight                loaded from layer3.5.bn2.weight          of shape (256,)\n",
      "INFO:sagemakercv.utils.model_serialization:graphable.backbone.body.layer3.5.bn3.bias                  loaded from layer3.5.bn3.bias            of shape (1024,)\n",
      "INFO:sagemakercv.utils.model_serialization:graphable.backbone.body.layer3.5.bn3.weight                loaded from layer3.5.bn3.weight          of shape (1024,)\n",
      "INFO:sagemakercv.utils.model_serialization:graphable.backbone.body.layer3.5.conv1.weight              loaded from layer3.5.conv1.weight        of shape (256, 1024, 1, 1)\n",
      "INFO:sagemakercv.utils.model_serialization:graphable.backbone.body.layer3.5.conv2.weight              loaded from layer3.5.conv2.weight        of shape (256, 256, 3, 3)\n",
      "INFO:sagemakercv.utils.model_serialization:graphable.backbone.body.layer3.5.conv3.weight              loaded from layer3.5.conv3.weight        of shape (1024, 256, 1, 1)\n",
      "INFO:sagemakercv.utils.model_serialization:graphable.backbone.body.layer4.0.bn1.bias                  loaded from layer4.0.bn1.bias            of shape (512,)\n",
      "INFO:sagemakercv.utils.model_serialization:graphable.backbone.body.layer4.0.bn1.weight                loaded from layer4.0.bn1.weight          of shape (512,)\n",
      "INFO:sagemakercv.utils.model_serialization:graphable.backbone.body.layer4.0.bn2.bias                  loaded from layer4.0.bn2.bias            of shape (512,)\n",
      "INFO:sagemakercv.utils.model_serialization:graphable.backbone.body.layer4.0.bn2.weight                loaded from layer4.0.bn2.weight          of shape (512,)\n",
      "INFO:sagemakercv.utils.model_serialization:graphable.backbone.body.layer4.0.bn3.bias                  loaded from layer4.0.bn3.bias            of shape (2048,)\n",
      "INFO:sagemakercv.utils.model_serialization:graphable.backbone.body.layer4.0.bn3.weight                loaded from layer4.0.bn3.weight          of shape (2048,)\n",
      "INFO:sagemakercv.utils.model_serialization:graphable.backbone.body.layer4.0.conv1.weight              loaded from layer4.0.conv1.weight        of shape (512, 1024, 1, 1)\n",
      "INFO:sagemakercv.utils.model_serialization:graphable.backbone.body.layer4.0.conv2.weight              loaded from layer4.0.conv2.weight        of shape (512, 512, 3, 3)\n",
      "INFO:sagemakercv.utils.model_serialization:graphable.backbone.body.layer4.0.conv3.weight              loaded from layer4.0.conv3.weight        of shape (2048, 512, 1, 1)\n",
      "INFO:sagemakercv.utils.model_serialization:graphable.backbone.body.layer4.0.downsample.0.weight       loaded from layer4.0.downsample.0.weight of shape (2048, 1024, 1, 1)\n",
      "INFO:sagemakercv.utils.model_serialization:graphable.backbone.body.layer4.0.downsample.1.bias         loaded from layer4.0.downsample.1.bias   of shape (2048,)\n",
      "INFO:sagemakercv.utils.model_serialization:graphable.backbone.body.layer4.0.downsample.1.weight       loaded from layer4.0.downsample.1.weight of shape (2048,)\n",
      "INFO:sagemakercv.utils.model_serialization:graphable.backbone.body.layer4.1.bn1.bias                  loaded from layer4.1.bn1.bias            of shape (512,)\n",
      "INFO:sagemakercv.utils.model_serialization:graphable.backbone.body.layer4.1.bn1.weight                loaded from layer4.1.bn1.weight          of shape (512,)\n",
      "INFO:sagemakercv.utils.model_serialization:graphable.backbone.body.layer4.1.bn2.bias                  loaded from layer4.1.bn2.bias            of shape (512,)\n",
      "INFO:sagemakercv.utils.model_serialization:graphable.backbone.body.layer4.1.bn2.weight                loaded from layer4.1.bn2.weight          of shape (512,)\n",
      "INFO:sagemakercv.utils.model_serialization:graphable.backbone.body.layer4.1.bn3.bias                  loaded from layer4.1.bn3.bias            of shape (2048,)\n",
      "INFO:sagemakercv.utils.model_serialization:graphable.backbone.body.layer4.1.bn3.weight                loaded from layer4.1.bn3.weight          of shape (2048,)\n",
      "INFO:sagemakercv.utils.model_serialization:graphable.backbone.body.layer4.1.conv1.weight              loaded from layer4.1.conv1.weight        of shape (512, 2048, 1, 1)\n",
      "INFO:sagemakercv.utils.model_serialization:graphable.backbone.body.layer4.1.conv2.weight              loaded from layer4.1.conv2.weight        of shape (512, 512, 3, 3)\n",
      "INFO:sagemakercv.utils.model_serialization:graphable.backbone.body.layer4.1.conv3.weight              loaded from layer4.1.conv3.weight        of shape (2048, 512, 1, 1)\n",
      "INFO:sagemakercv.utils.model_serialization:graphable.backbone.body.layer4.2.bn1.bias                  loaded from layer4.2.bn1.bias            of shape (512,)\n",
      "INFO:sagemakercv.utils.model_serialization:graphable.backbone.body.layer4.2.bn1.weight                loaded from layer4.2.bn1.weight          of shape (512,)\n",
      "INFO:sagemakercv.utils.model_serialization:graphable.backbone.body.layer4.2.bn2.bias                  loaded from layer4.2.bn2.bias            of shape (512,)\n",
      "INFO:sagemakercv.utils.model_serialization:graphable.backbone.body.layer4.2.bn2.weight                loaded from layer4.2.bn2.weight          of shape (512,)\n",
      "INFO:sagemakercv.utils.model_serialization:graphable.backbone.body.layer4.2.bn3.bias                  loaded from layer4.2.bn3.bias            of shape (2048,)\n",
      "INFO:sagemakercv.utils.model_serialization:graphable.backbone.body.layer4.2.bn3.weight                loaded from layer4.2.bn3.weight          of shape (2048,)\n",
      "INFO:sagemakercv.utils.model_serialization:graphable.backbone.body.layer4.2.conv1.weight              loaded from layer4.2.conv1.weight        of shape (512, 2048, 1, 1)\n",
      "INFO:sagemakercv.utils.model_serialization:graphable.backbone.body.layer4.2.conv2.weight              loaded from layer4.2.conv2.weight        of shape (512, 512, 3, 3)\n",
      "INFO:sagemakercv.utils.model_serialization:graphable.backbone.body.layer4.2.conv3.weight              loaded from layer4.2.conv3.weight        of shape (2048, 512, 1, 1)\n",
      "INFO:sagemakercv.utils.model_serialization:graphable.backbone.body.stem.bn1.bias                      loaded from bn1.bias                     of shape (64,)\n",
      "INFO:sagemakercv.utils.model_serialization:graphable.backbone.body.stem.bn1.weight                    loaded from bn1.weight                   of shape (64,)\n",
      "INFO:sagemakercv.utils.model_serialization:graphable.backbone.body.stem.conv1.weight                  loaded from conv1.weight                 of shape (64, 3, 7, 7)\n"
     ]
    },
    {
     "name": "stdout",
     "output_type": "stream",
     "text": [
      "Selected optimization level O1:  Insert automatic casts around Pytorch functions and Tensor methods.\n",
      "\n",
      "Defaults for this optimization level are:\n",
      "enabled                : True\n",
      "opt_level              : O1\n",
      "cast_model_type        : None\n",
      "patch_torch_functions  : True\n",
      "keep_batchnorm_fp32    : None\n",
      "master_weights         : None\n",
      "loss_scale             : dynamic\n",
      "Processing user overrides (additional kwargs that are not None)...\n",
      "After processing overrides, optimization options are:\n",
      "enabled                : True\n",
      "opt_level              : O1\n",
      "cast_model_type        : None\n",
      "patch_torch_functions  : True\n",
      "keep_batchnorm_fp32    : None\n",
      "master_weights         : None\n",
      "loss_scale             : dynamic\n",
      "Start time: 2021-09-08 13:05:19.205408\n"
     ]
    },
    {
     "name": "stderr",
     "output_type": "stream",
     "text": [
      "INFO:sagemakercv.utils.runner.runner:Start time: 2021-09-08 13:05:19.205408\n",
      "/opt/conda/lib/python3.8/site-packages/torch/nn/functional.py:718: UserWarning: Named tensors and all their associated APIs are an experimental feature and subject to change. Please do not use them for anything important until they are released as stable. (Triggered internally at  ../c10/core/TensorImpl.h:1153.)\n",
      "  return torch.max_pool2d(input, kernel_size, stride, padding, dilation, ceil_mode)\n"
     ]
    },
    {
     "name": "stdout",
     "output_type": "stream",
     "text": [
      "Gradient overflow.  Skipping step, loss scaler 0 reducing loss scale to 32768.0\n",
      "Gradient overflow.  Skipping step, loss scaler 0 reducing loss scale to 16384.0\n",
      "Gradient overflow.  Skipping step, loss scaler 0 reducing loss scale to 8192.0\n",
      "Epoch [1][50/14659]\tlr: 0.00156, eta: 6:25:15, step time: 1.405, loss_classifier: 0.8722, loss_box_reg: 0.1399, loss_carl: 0.1401, loss_mask: 0.8078, loss_objectness: 0.3445, loss_rpn_box_reg: 0.0274, total_loss: 2.3320\n"
     ]
    },
    {
     "name": "stderr",
     "output_type": "stream",
     "text": [
      "INFO:sagemakercv.utils.runner.runner:Epoch [1][50/14659]\tlr: 0.00156, eta: 6:25:15, step time: 1.405, loss_classifier: 0.8722, loss_box_reg: 0.1399, loss_carl: 0.1401, loss_mask: 0.8078, loss_objectness: 0.3445, loss_rpn_box_reg: 0.0274, total_loss: 2.3320\n"
     ]
    },
    {
     "name": "stdout",
     "output_type": "stream",
     "text": [
      "Epoch [1][100/14659]\tlr: 0.00299, eta: 6:21:30, step time: 1.396, loss_classifier: 0.4251, loss_box_reg: 0.2081, loss_carl: 0.2075, loss_mask: 0.6794, loss_objectness: 0.2636, loss_rpn_box_reg: 0.0185, total_loss: 1.8022\n"
     ]
    },
    {
     "name": "stderr",
     "output_type": "stream",
     "text": [
      "INFO:sagemakercv.utils.runner.runner:Epoch [1][100/14659]\tlr: 0.00299, eta: 6:21:30, step time: 1.396, loss_classifier: 0.4251, loss_box_reg: 0.2081, loss_carl: 0.2075, loss_mask: 0.6794, loss_objectness: 0.2636, loss_rpn_box_reg: 0.0185, total_loss: 1.8022\n"
     ]
    },
    {
     "name": "stdout",
     "output_type": "stream",
     "text": [
      "Epoch [1][150/14659]\tlr: 0.00442, eta: 6:26:43, step time: 1.419, loss_classifier: 0.4240, loss_box_reg: 0.2330, loss_carl: 0.2328, loss_mask: 0.6381, loss_objectness: 0.2590, loss_rpn_box_reg: 0.0246, total_loss: 1.8115\n"
     ]
    },
    {
     "name": "stderr",
     "output_type": "stream",
     "text": [
      "INFO:sagemakercv.utils.runner.runner:Epoch [1][150/14659]\tlr: 0.00442, eta: 6:26:43, step time: 1.419, loss_classifier: 0.4240, loss_box_reg: 0.2330, loss_carl: 0.2328, loss_mask: 0.6381, loss_objectness: 0.2590, loss_rpn_box_reg: 0.0246, total_loss: 1.8115\n"
     ]
    },
    {
     "name": "stdout",
     "output_type": "stream",
     "text": [
      "Epoch [1][200/14659]\tlr: 0.00585, eta: 6:26:52, step time: 1.424, loss_classifier: 0.4617, loss_box_reg: 0.2656, loss_carl: 0.2653, loss_mask: 0.6044, loss_objectness: 0.2527, loss_rpn_box_reg: 0.0169, total_loss: 1.8666\n"
     ]
    },
    {
     "name": "stderr",
     "output_type": "stream",
     "text": [
      "INFO:sagemakercv.utils.runner.runner:Epoch [1][200/14659]\tlr: 0.00585, eta: 6:26:52, step time: 1.424, loss_classifier: 0.4617, loss_box_reg: 0.2656, loss_carl: 0.2653, loss_mask: 0.6044, loss_objectness: 0.2527, loss_rpn_box_reg: 0.0169, total_loss: 1.8666\n"
     ]
    },
    {
     "name": "stdout",
     "output_type": "stream",
     "text": [
      "Epoch [1][250/14659]\tlr: 0.00728, eta: 6:22:40, step time: 1.413, loss_classifier: 0.4793, loss_box_reg: 0.2928, loss_carl: 0.2905, loss_mask: 0.5574, loss_objectness: 0.2489, loss_rpn_box_reg: 0.0196, total_loss: 1.8885\n"
     ]
    },
    {
     "name": "stderr",
     "output_type": "stream",
     "text": [
      "INFO:sagemakercv.utils.runner.runner:Epoch [1][250/14659]\tlr: 0.00728, eta: 6:22:40, step time: 1.413, loss_classifier: 0.4793, loss_box_reg: 0.2928, loss_carl: 0.2905, loss_mask: 0.5574, loss_objectness: 0.2489, loss_rpn_box_reg: 0.0196, total_loss: 1.8885\n"
     ]
    },
    {
     "name": "stdout",
     "output_type": "stream",
     "text": [
      "Epoch [1][300/14659]\tlr: 0.00871, eta: 6:17:15, step time: 1.397, loss_classifier: 0.4946, loss_box_reg: 0.2953, loss_carl: 0.2924, loss_mask: 0.5503, loss_objectness: 0.2426, loss_rpn_box_reg: 0.0168, total_loss: 1.8921\n"
     ]
    },
    {
     "name": "stderr",
     "output_type": "stream",
     "text": [
      "INFO:sagemakercv.utils.runner.runner:Epoch [1][300/14659]\tlr: 0.00871, eta: 6:17:15, step time: 1.397, loss_classifier: 0.4946, loss_box_reg: 0.2953, loss_carl: 0.2924, loss_mask: 0.5503, loss_objectness: 0.2426, loss_rpn_box_reg: 0.0168, total_loss: 1.8921\n"
     ]
    },
    {
     "name": "stdout",
     "output_type": "stream",
     "text": [
      "Epoch [1][350/14659]\tlr: 0.01014, eta: 6:20:00, step time: 1.412, loss_classifier: 0.4961, loss_box_reg: 0.3062, loss_carl: 0.3026, loss_mask: 0.5325, loss_objectness: 0.2463, loss_rpn_box_reg: 0.0205, total_loss: 1.9041\n"
     ]
    },
    {
     "name": "stderr",
     "output_type": "stream",
     "text": [
      "INFO:sagemakercv.utils.runner.runner:Epoch [1][350/14659]\tlr: 0.01014, eta: 6:20:00, step time: 1.412, loss_classifier: 0.4961, loss_box_reg: 0.3062, loss_carl: 0.3026, loss_mask: 0.5325, loss_objectness: 0.2463, loss_rpn_box_reg: 0.0205, total_loss: 1.9041\n"
     ]
    },
    {
     "name": "stdout",
     "output_type": "stream",
     "text": [
      "Epoch [1][400/14659]\tlr: 0.01157, eta: 6:21:22, step time: 1.421, loss_classifier: 0.5038, loss_box_reg: 0.3038, loss_carl: 0.2999, loss_mask: 0.5110, loss_objectness: 0.2535, loss_rpn_box_reg: 0.0224, total_loss: 1.8944\n"
     ]
    },
    {
     "name": "stderr",
     "output_type": "stream",
     "text": [
      "INFO:sagemakercv.utils.runner.runner:Epoch [1][400/14659]\tlr: 0.01157, eta: 6:21:22, step time: 1.421, loss_classifier: 0.5038, loss_box_reg: 0.3038, loss_carl: 0.2999, loss_mask: 0.5110, loss_objectness: 0.2535, loss_rpn_box_reg: 0.0224, total_loss: 1.8944\n"
     ]
    },
    {
     "name": "stdout",
     "output_type": "stream",
     "text": [
      "Epoch [1][450/14659]\tlr: 0.01300, eta: 6:13:46, step time: 1.397, loss_classifier: 0.4946, loss_box_reg: 0.2967, loss_carl: 0.2924, loss_mask: 0.5114, loss_objectness: 0.2493, loss_rpn_box_reg: 0.0178, total_loss: 1.8622\n"
     ]
    },
    {
     "name": "stderr",
     "output_type": "stream",
     "text": [
      "INFO:sagemakercv.utils.runner.runner:Epoch [1][450/14659]\tlr: 0.01300, eta: 6:13:46, step time: 1.397, loss_classifier: 0.4946, loss_box_reg: 0.2967, loss_carl: 0.2924, loss_mask: 0.5114, loss_objectness: 0.2493, loss_rpn_box_reg: 0.0178, total_loss: 1.8622\n"
     ]
    },
    {
     "name": "stdout",
     "output_type": "stream",
     "text": [
      "Epoch [1][500/14659]\tlr: 0.01443, eta: 6:07:33, step time: 1.378, loss_classifier: 0.4403, loss_box_reg: 0.2637, loss_carl: 0.2596, loss_mask: 0.4922, loss_objectness: 0.2487, loss_rpn_box_reg: 0.0230, total_loss: 1.7274\n"
     ]
    },
    {
     "name": "stderr",
     "output_type": "stream",
     "text": [
      "INFO:sagemakercv.utils.runner.runner:Epoch [1][500/14659]\tlr: 0.01443, eta: 6:07:33, step time: 1.378, loss_classifier: 0.4403, loss_box_reg: 0.2637, loss_carl: 0.2596, loss_mask: 0.4922, loss_objectness: 0.2487, loss_rpn_box_reg: 0.0230, total_loss: 1.7274\n"
     ]
    },
    {
     "name": "stdout",
     "output_type": "stream",
     "text": [
      "Epoch [1][550/14659]\tlr: 0.01586, eta: 6:13:08, step time: 1.404, loss_classifier: 0.4405, loss_box_reg: 0.2596, loss_carl: 0.2557, loss_mask: 0.4844, loss_objectness: 0.2422, loss_rpn_box_reg: 0.0189, total_loss: 1.7013\n"
     ]
    },
    {
     "name": "stderr",
     "output_type": "stream",
     "text": [
      "INFO:sagemakercv.utils.runner.runner:Epoch [1][550/14659]\tlr: 0.01586, eta: 6:13:08, step time: 1.404, loss_classifier: 0.4405, loss_box_reg: 0.2596, loss_carl: 0.2557, loss_mask: 0.4844, loss_objectness: 0.2422, loss_rpn_box_reg: 0.0189, total_loss: 1.7013\n"
     ]
    },
    {
     "name": "stdout",
     "output_type": "stream",
     "text": [
      "Epoch [1][600/14659]\tlr: 0.01729, eta: 6:12:08, step time: 1.404, loss_classifier: 0.4429, loss_box_reg: 0.2665, loss_carl: 0.2623, loss_mask: 0.4798, loss_objectness: 0.2550, loss_rpn_box_reg: 0.0256, total_loss: 1.7321\n"
     ]
    },
    {
     "name": "stderr",
     "output_type": "stream",
     "text": [
      "INFO:sagemakercv.utils.runner.runner:Epoch [1][600/14659]\tlr: 0.01729, eta: 6:12:08, step time: 1.404, loss_classifier: 0.4429, loss_box_reg: 0.2665, loss_carl: 0.2623, loss_mask: 0.4798, loss_objectness: 0.2550, loss_rpn_box_reg: 0.0256, total_loss: 1.7321\n"
     ]
    },
    {
     "name": "stdout",
     "output_type": "stream",
     "text": [
      "Epoch [1][650/14659]\tlr: 0.01800, eta: 6:16:10, step time: 1.424, loss_classifier: 0.4282, loss_box_reg: 0.2530, loss_carl: 0.2487, loss_mask: 0.4893, loss_objectness: 0.2512, loss_rpn_box_reg: 0.0266, total_loss: 1.6971\n"
     ]
    },
    {
     "name": "stderr",
     "output_type": "stream",
     "text": [
      "INFO:sagemakercv.utils.runner.runner:Epoch [1][650/14659]\tlr: 0.01800, eta: 6:16:10, step time: 1.424, loss_classifier: 0.4282, loss_box_reg: 0.2530, loss_carl: 0.2487, loss_mask: 0.4893, loss_objectness: 0.2512, loss_rpn_box_reg: 0.0266, total_loss: 1.6971\n"
     ]
    },
    {
     "name": "stdout",
     "output_type": "stream",
     "text": [
      "Epoch [1][700/14659]\tlr: 0.01800, eta: 6:09:40, step time: 1.404, loss_classifier: 0.4108, loss_box_reg: 0.2331, loss_carl: 0.2301, loss_mask: 0.4919, loss_objectness: 0.2517, loss_rpn_box_reg: 0.0262, total_loss: 1.6438\n"
     ]
    },
    {
     "name": "stderr",
     "output_type": "stream",
     "text": [
      "INFO:sagemakercv.utils.runner.runner:Epoch [1][700/14659]\tlr: 0.01800, eta: 6:09:40, step time: 1.404, loss_classifier: 0.4108, loss_box_reg: 0.2331, loss_carl: 0.2301, loss_mask: 0.4919, loss_objectness: 0.2517, loss_rpn_box_reg: 0.0262, total_loss: 1.6438\n"
     ]
    },
    {
     "name": "stdout",
     "output_type": "stream",
     "text": [
      "Epoch [1][750/14659]\tlr: 0.01800, eta: 6:16:03, step time: 1.433, loss_classifier: 0.4037, loss_box_reg: 0.2426, loss_carl: 0.2373, loss_mask: 0.4725, loss_objectness: 0.2529, loss_rpn_box_reg: 0.0259, total_loss: 1.6349\n"
     ]
    },
    {
     "name": "stderr",
     "output_type": "stream",
     "text": [
      "INFO:sagemakercv.utils.runner.runner:Epoch [1][750/14659]\tlr: 0.01800, eta: 6:16:03, step time: 1.433, loss_classifier: 0.4037, loss_box_reg: 0.2426, loss_carl: 0.2373, loss_mask: 0.4725, loss_objectness: 0.2529, loss_rpn_box_reg: 0.0259, total_loss: 1.6349\n"
     ]
    },
    {
     "name": "stdout",
     "output_type": "stream",
     "text": [
      "Epoch [1][800/14659]\tlr: 0.01799, eta: 6:13:58, step time: 1.429, loss_classifier: 0.4224, loss_box_reg: 0.2545, loss_carl: 0.2472, loss_mask: 0.4735, loss_objectness: 0.2500, loss_rpn_box_reg: 0.0270, total_loss: 1.6746\n"
     ]
    },
    {
     "name": "stderr",
     "output_type": "stream",
     "text": [
      "INFO:sagemakercv.utils.runner.runner:Epoch [1][800/14659]\tlr: 0.01799, eta: 6:13:58, step time: 1.429, loss_classifier: 0.4224, loss_box_reg: 0.2545, loss_carl: 0.2472, loss_mask: 0.4735, loss_objectness: 0.2500, loss_rpn_box_reg: 0.0270, total_loss: 1.6746\n"
     ]
    },
    {
     "name": "stdout",
     "output_type": "stream",
     "text": [
      "Epoch [1][850/14659]\tlr: 0.01799, eta: 6:09:48, step time: 1.418, loss_classifier: 0.4092, loss_box_reg: 0.2382, loss_carl: 0.2333, loss_mask: 0.4659, loss_objectness: 0.2539, loss_rpn_box_reg: 0.0238, total_loss: 1.6242\n"
     ]
    },
    {
     "name": "stderr",
     "output_type": "stream",
     "text": [
      "INFO:sagemakercv.utils.runner.runner:Epoch [1][850/14659]\tlr: 0.01799, eta: 6:09:48, step time: 1.418, loss_classifier: 0.4092, loss_box_reg: 0.2382, loss_carl: 0.2333, loss_mask: 0.4659, loss_objectness: 0.2539, loss_rpn_box_reg: 0.0238, total_loss: 1.6242\n"
     ]
    },
    {
     "name": "stdout",
     "output_type": "stream",
     "text": [
      "Epoch [1][900/14659]\tlr: 0.01799, eta: 6:07:40, step time: 1.414, loss_classifier: 0.3901, loss_box_reg: 0.2383, loss_carl: 0.2333, loss_mask: 0.4500, loss_objectness: 0.2420, loss_rpn_box_reg: 0.0207, total_loss: 1.5744\n"
     ]
    },
    {
     "name": "stderr",
     "output_type": "stream",
     "text": [
      "INFO:sagemakercv.utils.runner.runner:Epoch [1][900/14659]\tlr: 0.01799, eta: 6:07:40, step time: 1.414, loss_classifier: 0.3901, loss_box_reg: 0.2383, loss_carl: 0.2333, loss_mask: 0.4500, loss_objectness: 0.2420, loss_rpn_box_reg: 0.0207, total_loss: 1.5744\n"
     ]
    },
    {
     "name": "stdout",
     "output_type": "stream",
     "text": [
      "Epoch [1][950/14659]\tlr: 0.01798, eta: 6:09:40, step time: 1.426, loss_classifier: 0.3908, loss_box_reg: 0.2287, loss_carl: 0.2230, loss_mask: 0.4533, loss_objectness: 0.2496, loss_rpn_box_reg: 0.0266, total_loss: 1.5719\n"
     ]
    },
    {
     "name": "stderr",
     "output_type": "stream",
     "text": [
      "INFO:sagemakercv.utils.runner.runner:Epoch [1][950/14659]\tlr: 0.01798, eta: 6:09:40, step time: 1.426, loss_classifier: 0.3908, loss_box_reg: 0.2287, loss_carl: 0.2230, loss_mask: 0.4533, loss_objectness: 0.2496, loss_rpn_box_reg: 0.0266, total_loss: 1.5719\n"
     ]
    },
    {
     "name": "stdout",
     "output_type": "stream",
     "text": [
      "Epoch [1][1000/14659]\tlr: 0.01798, eta: 6:11:22, step time: 1.438, loss_classifier: 0.4065, loss_box_reg: 0.2332, loss_carl: 0.2276, loss_mask: 0.4589, loss_objectness: 0.2583, loss_rpn_box_reg: 0.0342, total_loss: 1.6187\n"
     ]
    },
    {
     "name": "stderr",
     "output_type": "stream",
     "text": [
      "INFO:sagemakercv.utils.runner.runner:Epoch [1][1000/14659]\tlr: 0.01798, eta: 6:11:22, step time: 1.438, loss_classifier: 0.4065, loss_box_reg: 0.2332, loss_carl: 0.2276, loss_mask: 0.4589, loss_objectness: 0.2583, loss_rpn_box_reg: 0.0342, total_loss: 1.6187\n"
     ]
    },
    {
     "name": "stdout",
     "output_type": "stream",
     "text": [
      "Epoch [1][1050/14659]\tlr: 0.01797, eta: 6:00:41, step time: 1.401, loss_classifier: 0.4022, loss_box_reg: 0.2326, loss_carl: 0.2276, loss_mask: 0.4271, loss_objectness: 0.2511, loss_rpn_box_reg: 0.0301, total_loss: 1.5708\n"
     ]
    },
    {
     "name": "stderr",
     "output_type": "stream",
     "text": [
      "INFO:sagemakercv.utils.runner.runner:Epoch [1][1050/14659]\tlr: 0.01797, eta: 6:00:41, step time: 1.401, loss_classifier: 0.4022, loss_box_reg: 0.2326, loss_carl: 0.2276, loss_mask: 0.4271, loss_objectness: 0.2511, loss_rpn_box_reg: 0.0301, total_loss: 1.5708\n"
     ]
    },
    {
     "name": "stdout",
     "output_type": "stream",
     "text": [
      "Epoch [1][1100/14659]\tlr: 0.01796, eta: 5:54:23, step time: 1.381, loss_classifier: 0.3993, loss_box_reg: 0.2396, loss_carl: 0.2322, loss_mask: 0.4434, loss_objectness: 0.2479, loss_rpn_box_reg: 0.0248, total_loss: 1.5872\n"
     ]
    },
    {
     "name": "stderr",
     "output_type": "stream",
     "text": [
      "INFO:sagemakercv.utils.runner.runner:Epoch [1][1100/14659]\tlr: 0.01796, eta: 5:54:23, step time: 1.381, loss_classifier: 0.3993, loss_box_reg: 0.2396, loss_carl: 0.2322, loss_mask: 0.4434, loss_objectness: 0.2479, loss_rpn_box_reg: 0.0248, total_loss: 1.5872\n"
     ]
    },
    {
     "name": "stdout",
     "output_type": "stream",
     "text": [
      "Epoch [1][1150/14659]\tlr: 0.01795, eta: 5:53:22, step time: 1.381, loss_classifier: 0.3814, loss_box_reg: 0.2297, loss_carl: 0.2243, loss_mask: 0.4438, loss_objectness: 0.2451, loss_rpn_box_reg: 0.0215, total_loss: 1.5457\n"
     ]
    },
    {
     "name": "stderr",
     "output_type": "stream",
     "text": [
      "INFO:sagemakercv.utils.runner.runner:Epoch [1][1150/14659]\tlr: 0.01795, eta: 5:53:22, step time: 1.381, loss_classifier: 0.3814, loss_box_reg: 0.2297, loss_carl: 0.2243, loss_mask: 0.4438, loss_objectness: 0.2451, loss_rpn_box_reg: 0.0215, total_loss: 1.5457\n"
     ]
    },
    {
     "name": "stdout",
     "output_type": "stream",
     "text": [
      "Epoch [1][1200/14659]\tlr: 0.01794, eta: 5:51:14, step time: 1.377, loss_classifier: 0.3884, loss_box_reg: 0.2248, loss_carl: 0.2183, loss_mask: 0.4434, loss_objectness: 0.2448, loss_rpn_box_reg: 0.0195, total_loss: 1.5393\n"
     ]
    },
    {
     "name": "stderr",
     "output_type": "stream",
     "text": [
      "INFO:sagemakercv.utils.runner.runner:Epoch [1][1200/14659]\tlr: 0.01794, eta: 5:51:14, step time: 1.377, loss_classifier: 0.3884, loss_box_reg: 0.2248, loss_carl: 0.2183, loss_mask: 0.4434, loss_objectness: 0.2448, loss_rpn_box_reg: 0.0195, total_loss: 1.5393\n"
     ]
    },
    {
     "name": "stdout",
     "output_type": "stream",
     "text": [
      "Epoch [1][1250/14659]\tlr: 0.01793, eta: 5:56:13, step time: 1.402, loss_classifier: 0.3768, loss_box_reg: 0.2305, loss_carl: 0.2225, loss_mask: 0.4357, loss_objectness: 0.2479, loss_rpn_box_reg: 0.0218, total_loss: 1.5352\n"
     ]
    },
    {
     "name": "stderr",
     "output_type": "stream",
     "text": [
      "INFO:sagemakercv.utils.runner.runner:Epoch [1][1250/14659]\tlr: 0.01793, eta: 5:56:13, step time: 1.402, loss_classifier: 0.3768, loss_box_reg: 0.2305, loss_carl: 0.2225, loss_mask: 0.4357, loss_objectness: 0.2479, loss_rpn_box_reg: 0.0218, total_loss: 1.5352\n"
     ]
    },
    {
     "name": "stdout",
     "output_type": "stream",
     "text": [
      "Epoch [1][1300/14659]\tlr: 0.01792, eta: 5:54:45, step time: 1.400, loss_classifier: 0.3826, loss_box_reg: 0.2201, loss_carl: 0.2126, loss_mask: 0.4320, loss_objectness: 0.2442, loss_rpn_box_reg: 0.0193, total_loss: 1.5109\n"
     ]
    },
    {
     "name": "stderr",
     "output_type": "stream",
     "text": [
      "INFO:sagemakercv.utils.runner.runner:Epoch [1][1300/14659]\tlr: 0.01792, eta: 5:54:45, step time: 1.400, loss_classifier: 0.3826, loss_box_reg: 0.2201, loss_carl: 0.2126, loss_mask: 0.4320, loss_objectness: 0.2442, loss_rpn_box_reg: 0.0193, total_loss: 1.5109\n"
     ]
    },
    {
     "name": "stdout",
     "output_type": "stream",
     "text": [
      "Epoch [1][1350/14659]\tlr: 0.01791, eta: 5:56:54, step time: 1.413, loss_classifier: 0.3866, loss_box_reg: 0.2267, loss_carl: 0.2198, loss_mask: 0.4306, loss_objectness: 0.2381, loss_rpn_box_reg: 0.0169, total_loss: 1.5186\n"
     ]
    },
    {
     "name": "stderr",
     "output_type": "stream",
     "text": [
      "INFO:sagemakercv.utils.runner.runner:Epoch [1][1350/14659]\tlr: 0.01791, eta: 5:56:54, step time: 1.413, loss_classifier: 0.3866, loss_box_reg: 0.2267, loss_carl: 0.2198, loss_mask: 0.4306, loss_objectness: 0.2381, loss_rpn_box_reg: 0.0169, total_loss: 1.5186\n"
     ]
    },
    {
     "name": "stdout",
     "output_type": "stream",
     "text": [
      "Epoch [1][1400/14659]\tlr: 0.01789, eta: 6:03:55, step time: 1.446, loss_classifier: 0.4014, loss_box_reg: 0.2408, loss_carl: 0.2336, loss_mask: 0.4386, loss_objectness: 0.2537, loss_rpn_box_reg: 0.0264, total_loss: 1.5946\n"
     ]
    },
    {
     "name": "stderr",
     "output_type": "stream",
     "text": [
      "INFO:sagemakercv.utils.runner.runner:Epoch [1][1400/14659]\tlr: 0.01789, eta: 6:03:55, step time: 1.446, loss_classifier: 0.4014, loss_box_reg: 0.2408, loss_carl: 0.2336, loss_mask: 0.4386, loss_objectness: 0.2537, loss_rpn_box_reg: 0.0264, total_loss: 1.5946\n"
     ]
    },
    {
     "name": "stdout",
     "output_type": "stream",
     "text": [
      "Epoch [1][1450/14659]\tlr: 0.01788, eta: 5:59:34, step time: 1.433, loss_classifier: 0.3811, loss_box_reg: 0.2287, loss_carl: 0.2207, loss_mask: 0.4252, loss_objectness: 0.2409, loss_rpn_box_reg: 0.0209, total_loss: 1.5175\n"
     ]
    },
    {
     "name": "stderr",
     "output_type": "stream",
     "text": [
      "INFO:sagemakercv.utils.runner.runner:Epoch [1][1450/14659]\tlr: 0.01788, eta: 5:59:34, step time: 1.433, loss_classifier: 0.3811, loss_box_reg: 0.2287, loss_carl: 0.2207, loss_mask: 0.4252, loss_objectness: 0.2409, loss_rpn_box_reg: 0.0209, total_loss: 1.5175\n"
     ]
    },
    {
     "name": "stdout",
     "output_type": "stream",
     "text": [
      "Epoch [1][1500/14659]\tlr: 0.01787, eta: 5:57:12, step time: 1.429, loss_classifier: 0.4058, loss_box_reg: 0.2434, loss_carl: 0.2360, loss_mask: 0.4341, loss_objectness: 0.2485, loss_rpn_box_reg: 0.0267, total_loss: 1.5944\n"
     ]
    },
    {
     "name": "stderr",
     "output_type": "stream",
     "text": [
      "INFO:sagemakercv.utils.runner.runner:Epoch [1][1500/14659]\tlr: 0.01787, eta: 5:57:12, step time: 1.429, loss_classifier: 0.4058, loss_box_reg: 0.2434, loss_carl: 0.2360, loss_mask: 0.4341, loss_objectness: 0.2485, loss_rpn_box_reg: 0.0267, total_loss: 1.5944\n"
     ]
    },
    {
     "name": "stdout",
     "output_type": "stream",
     "text": [
      "Epoch [1][1550/14659]\tlr: 0.01785, eta: 5:55:12, step time: 1.426, loss_classifier: 0.3770, loss_box_reg: 0.2241, loss_carl: 0.2162, loss_mask: 0.4307, loss_objectness: 0.2506, loss_rpn_box_reg: 0.0261, total_loss: 1.5248\n"
     ]
    },
    {
     "name": "stderr",
     "output_type": "stream",
     "text": [
      "INFO:sagemakercv.utils.runner.runner:Epoch [1][1550/14659]\tlr: 0.01785, eta: 5:55:12, step time: 1.426, loss_classifier: 0.3770, loss_box_reg: 0.2241, loss_carl: 0.2162, loss_mask: 0.4307, loss_objectness: 0.2506, loss_rpn_box_reg: 0.0261, total_loss: 1.5248\n"
     ]
    },
    {
     "name": "stdout",
     "output_type": "stream",
     "text": [
      "Epoch [1][1600/14659]\tlr: 0.01783, eta: 5:54:39, step time: 1.428, loss_classifier: 0.3770, loss_box_reg: 0.2371, loss_carl: 0.2291, loss_mask: 0.4215, loss_objectness: 0.2407, loss_rpn_box_reg: 0.0188, total_loss: 1.5242\n"
     ]
    },
    {
     "name": "stderr",
     "output_type": "stream",
     "text": [
      "INFO:sagemakercv.utils.runner.runner:Epoch [1][1600/14659]\tlr: 0.01783, eta: 5:54:39, step time: 1.428, loss_classifier: 0.3770, loss_box_reg: 0.2371, loss_carl: 0.2291, loss_mask: 0.4215, loss_objectness: 0.2407, loss_rpn_box_reg: 0.0188, total_loss: 1.5242\n"
     ]
    },
    {
     "name": "stdout",
     "output_type": "stream",
     "text": [
      "Epoch [1][1650/14659]\tlr: 0.01782, eta: 5:54:01, step time: 1.430, loss_classifier: 0.3722, loss_box_reg: 0.2226, loss_carl: 0.2152, loss_mask: 0.4285, loss_objectness: 0.2432, loss_rpn_box_reg: 0.0207, total_loss: 1.5024\n"
     ]
    },
    {
     "name": "stderr",
     "output_type": "stream",
     "text": [
      "INFO:sagemakercv.utils.runner.runner:Epoch [1][1650/14659]\tlr: 0.01782, eta: 5:54:01, step time: 1.430, loss_classifier: 0.3722, loss_box_reg: 0.2226, loss_carl: 0.2152, loss_mask: 0.4285, loss_objectness: 0.2432, loss_rpn_box_reg: 0.0207, total_loss: 1.5024\n"
     ]
    },
    {
     "name": "stdout",
     "output_type": "stream",
     "text": [
      "Epoch [1][1700/14659]\tlr: 0.01780, eta: 5:44:39, step time: 1.397, loss_classifier: 0.3735, loss_box_reg: 0.2257, loss_carl: 0.2183, loss_mask: 0.4092, loss_objectness: 0.2467, loss_rpn_box_reg: 0.0232, total_loss: 1.4966\n"
     ]
    },
    {
     "name": "stderr",
     "output_type": "stream",
     "text": [
      "INFO:sagemakercv.utils.runner.runner:Epoch [1][1700/14659]\tlr: 0.01780, eta: 5:44:39, step time: 1.397, loss_classifier: 0.3735, loss_box_reg: 0.2257, loss_carl: 0.2183, loss_mask: 0.4092, loss_objectness: 0.2467, loss_rpn_box_reg: 0.0232, total_loss: 1.4966\n"
     ]
    },
    {
     "name": "stdout",
     "output_type": "stream",
     "text": [
      "Epoch [1][1750/14659]\tlr: 0.01778, eta: 5:36:06, step time: 1.367, loss_classifier: 0.3748, loss_box_reg: 0.2292, loss_carl: 0.2206, loss_mask: 0.4167, loss_objectness: 0.2377, loss_rpn_box_reg: 0.0223, total_loss: 1.5011\n"
     ]
    },
    {
     "name": "stderr",
     "output_type": "stream",
     "text": [
      "INFO:sagemakercv.utils.runner.runner:Epoch [1][1750/14659]\tlr: 0.01778, eta: 5:36:06, step time: 1.367, loss_classifier: 0.3748, loss_box_reg: 0.2292, loss_carl: 0.2206, loss_mask: 0.4167, loss_objectness: 0.2377, loss_rpn_box_reg: 0.0223, total_loss: 1.5011\n"
     ]
    },
    {
     "name": "stdout",
     "output_type": "stream",
     "text": [
      "Epoch [1][1800/14659]\tlr: 0.01776, eta: 5:37:35, step time: 1.378, loss_classifier: 0.3870, loss_box_reg: 0.2362, loss_carl: 0.2265, loss_mask: 0.4013, loss_objectness: 0.2446, loss_rpn_box_reg: 0.0205, total_loss: 1.5162\n"
     ]
    },
    {
     "name": "stderr",
     "output_type": "stream",
     "text": [
      "INFO:sagemakercv.utils.runner.runner:Epoch [1][1800/14659]\tlr: 0.01776, eta: 5:37:35, step time: 1.378, loss_classifier: 0.3870, loss_box_reg: 0.2362, loss_carl: 0.2265, loss_mask: 0.4013, loss_objectness: 0.2446, loss_rpn_box_reg: 0.0205, total_loss: 1.5162\n"
     ]
    },
    {
     "name": "stdout",
     "output_type": "stream",
     "text": [
      "Epoch [1][1850/14659]\tlr: 0.01774, eta: 5:33:34, step time: 1.366, loss_classifier: 0.3558, loss_box_reg: 0.2175, loss_carl: 0.2102, loss_mask: 0.4087, loss_objectness: 0.2415, loss_rpn_box_reg: 0.0205, total_loss: 1.4543\n"
     ]
    },
    {
     "name": "stderr",
     "output_type": "stream",
     "text": [
      "INFO:sagemakercv.utils.runner.runner:Epoch [1][1850/14659]\tlr: 0.01774, eta: 5:33:34, step time: 1.366, loss_classifier: 0.3558, loss_box_reg: 0.2175, loss_carl: 0.2102, loss_mask: 0.4087, loss_objectness: 0.2415, loss_rpn_box_reg: 0.0205, total_loss: 1.4543\n"
     ]
    },
    {
     "name": "stdout",
     "output_type": "stream",
     "text": [
      "Epoch [1][1900/14659]\tlr: 0.01772, eta: 5:45:54, step time: 1.422, loss_classifier: 0.4113, loss_box_reg: 0.2481, loss_carl: 0.2394, loss_mask: 0.4196, loss_objectness: 0.2466, loss_rpn_box_reg: 0.0213, total_loss: 1.5862\n"
     ]
    },
    {
     "name": "stderr",
     "output_type": "stream",
     "text": [
      "INFO:sagemakercv.utils.runner.runner:Epoch [1][1900/14659]\tlr: 0.01772, eta: 5:45:54, step time: 1.422, loss_classifier: 0.4113, loss_box_reg: 0.2481, loss_carl: 0.2394, loss_mask: 0.4196, loss_objectness: 0.2466, loss_rpn_box_reg: 0.0213, total_loss: 1.5862\n"
     ]
    },
    {
     "name": "stdout",
     "output_type": "stream",
     "text": [
      "Epoch [1][1950/14659]\tlr: 0.01769, eta: 5:40:30, step time: 1.404, loss_classifier: 0.3746, loss_box_reg: 0.2330, loss_carl: 0.2257, loss_mask: 0.4170, loss_objectness: 0.2337, loss_rpn_box_reg: 0.0181, total_loss: 1.5021\n"
     ]
    },
    {
     "name": "stderr",
     "output_type": "stream",
     "text": [
      "INFO:sagemakercv.utils.runner.runner:Epoch [1][1950/14659]\tlr: 0.01769, eta: 5:40:30, step time: 1.404, loss_classifier: 0.3746, loss_box_reg: 0.2330, loss_carl: 0.2257, loss_mask: 0.4170, loss_objectness: 0.2337, loss_rpn_box_reg: 0.0181, total_loss: 1.5021\n"
     ]
    },
    {
     "name": "stdout",
     "output_type": "stream",
     "text": [
      "Epoch [1][2000/14659]\tlr: 0.01767, eta: 5:40:48, step time: 1.410, loss_classifier: 0.3438, loss_box_reg: 0.2149, loss_carl: 0.2065, loss_mask: 0.4059, loss_objectness: 0.2479, loss_rpn_box_reg: 0.0237, total_loss: 1.4427\n"
     ]
    },
    {
     "name": "stderr",
     "output_type": "stream",
     "text": [
      "INFO:sagemakercv.utils.runner.runner:Epoch [1][2000/14659]\tlr: 0.01767, eta: 5:40:48, step time: 1.410, loss_classifier: 0.3438, loss_box_reg: 0.2149, loss_carl: 0.2065, loss_mask: 0.4059, loss_objectness: 0.2479, loss_rpn_box_reg: 0.0237, total_loss: 1.4427\n"
     ]
    },
    {
     "name": "stdout",
     "output_type": "stream",
     "text": [
      "Epoch [1][2050/14659]\tlr: 0.01764, eta: 5:42:44, step time: 1.423, loss_classifier: 0.3734, loss_box_reg: 0.2330, loss_carl: 0.2234, loss_mask: 0.4137, loss_objectness: 0.2423, loss_rpn_box_reg: 0.0199, total_loss: 1.5057\n"
     ]
    },
    {
     "name": "stderr",
     "output_type": "stream",
     "text": [
      "INFO:sagemakercv.utils.runner.runner:Epoch [1][2050/14659]\tlr: 0.01764, eta: 5:42:44, step time: 1.423, loss_classifier: 0.3734, loss_box_reg: 0.2330, loss_carl: 0.2234, loss_mask: 0.4137, loss_objectness: 0.2423, loss_rpn_box_reg: 0.0199, total_loss: 1.5057\n"
     ]
    },
    {
     "name": "stdout",
     "output_type": "stream",
     "text": [
      "Epoch [1][2100/14659]\tlr: 0.01762, eta: 5:40:49, step time: 1.420, loss_classifier: 0.3832, loss_box_reg: 0.2401, loss_carl: 0.2304, loss_mask: 0.4059, loss_objectness: 0.2462, loss_rpn_box_reg: 0.0238, total_loss: 1.5294\n"
     ]
    },
    {
     "name": "stderr",
     "output_type": "stream",
     "text": [
      "INFO:sagemakercv.utils.runner.runner:Epoch [1][2100/14659]\tlr: 0.01762, eta: 5:40:49, step time: 1.420, loss_classifier: 0.3832, loss_box_reg: 0.2401, loss_carl: 0.2304, loss_mask: 0.4059, loss_objectness: 0.2462, loss_rpn_box_reg: 0.0238, total_loss: 1.5294\n"
     ]
    },
    {
     "name": "stdout",
     "output_type": "stream",
     "text": [
      "Epoch [1][2150/14659]\tlr: 0.01759, eta: 5:45:33, step time: 1.445, loss_classifier: 0.3489, loss_box_reg: 0.2120, loss_carl: 0.2024, loss_mask: 0.4057, loss_objectness: 0.2421, loss_rpn_box_reg: 0.0215, total_loss: 1.4326\n"
     ]
    },
    {
     "name": "stderr",
     "output_type": "stream",
     "text": [
      "INFO:sagemakercv.utils.runner.runner:Epoch [1][2150/14659]\tlr: 0.01759, eta: 5:45:33, step time: 1.445, loss_classifier: 0.3489, loss_box_reg: 0.2120, loss_carl: 0.2024, loss_mask: 0.4057, loss_objectness: 0.2421, loss_rpn_box_reg: 0.0215, total_loss: 1.4326\n"
     ]
    },
    {
     "name": "stdout",
     "output_type": "stream",
     "text": [
      "Epoch [1][2200/14659]\tlr: 0.01757, eta: 5:43:03, step time: 1.439, loss_classifier: 0.3773, loss_box_reg: 0.2347, loss_carl: 0.2266, loss_mask: 0.3944, loss_objectness: 0.2430, loss_rpn_box_reg: 0.0240, total_loss: 1.5000\n"
     ]
    },
    {
     "name": "stderr",
     "output_type": "stream",
     "text": [
      "INFO:sagemakercv.utils.runner.runner:Epoch [1][2200/14659]\tlr: 0.01757, eta: 5:43:03, step time: 1.439, loss_classifier: 0.3773, loss_box_reg: 0.2347, loss_carl: 0.2266, loss_mask: 0.3944, loss_objectness: 0.2430, loss_rpn_box_reg: 0.0240, total_loss: 1.5000\n"
     ]
    },
    {
     "name": "stdout",
     "output_type": "stream",
     "text": [
      "Epoch [1][2250/14659]\tlr: 0.01754, eta: 5:43:03, step time: 1.444, loss_classifier: 0.3735, loss_box_reg: 0.2349, loss_carl: 0.2256, loss_mask: 0.4041, loss_objectness: 0.2393, loss_rpn_box_reg: 0.0222, total_loss: 1.4996\n"
     ]
    },
    {
     "name": "stderr",
     "output_type": "stream",
     "text": [
      "INFO:sagemakercv.utils.runner.runner:Epoch [1][2250/14659]\tlr: 0.01754, eta: 5:43:03, step time: 1.444, loss_classifier: 0.3735, loss_box_reg: 0.2349, loss_carl: 0.2256, loss_mask: 0.4041, loss_objectness: 0.2393, loss_rpn_box_reg: 0.0222, total_loss: 1.4996\n"
     ]
    },
    {
     "name": "stdout",
     "output_type": "stream",
     "text": [
      "Epoch [1][2300/14659]\tlr: 0.01751, eta: 5:40:01, step time: 1.437, loss_classifier: 0.3966, loss_box_reg: 0.2548, loss_carl: 0.2447, loss_mask: 0.4029, loss_objectness: 0.2425, loss_rpn_box_reg: 0.0210, total_loss: 1.5624\n"
     ]
    },
    {
     "name": "stderr",
     "output_type": "stream",
     "text": [
      "INFO:sagemakercv.utils.runner.runner:Epoch [1][2300/14659]\tlr: 0.01751, eta: 5:40:01, step time: 1.437, loss_classifier: 0.3966, loss_box_reg: 0.2548, loss_carl: 0.2447, loss_mask: 0.4029, loss_objectness: 0.2425, loss_rpn_box_reg: 0.0210, total_loss: 1.5624\n"
     ]
    },
    {
     "name": "stdout",
     "output_type": "stream",
     "text": [
      "Epoch [1][2350/14659]\tlr: 0.01748, eta: 5:27:25, step time: 1.388, loss_classifier: 0.3592, loss_box_reg: 0.2256, loss_carl: 0.2152, loss_mask: 0.4095, loss_objectness: 0.2448, loss_rpn_box_reg: 0.0233, total_loss: 1.4775\n"
     ]
    },
    {
     "name": "stderr",
     "output_type": "stream",
     "text": [
      "INFO:sagemakercv.utils.runner.runner:Epoch [1][2350/14659]\tlr: 0.01748, eta: 5:27:25, step time: 1.388, loss_classifier: 0.3592, loss_box_reg: 0.2256, loss_carl: 0.2152, loss_mask: 0.4095, loss_objectness: 0.2448, loss_rpn_box_reg: 0.0233, total_loss: 1.4775\n"
     ]
    },
    {
     "name": "stdout",
     "output_type": "stream",
     "text": [
      "Epoch [1][2400/14659]\tlr: 0.01745, eta: 5:23:21, step time: 1.376, loss_classifier: 0.3609, loss_box_reg: 0.2302, loss_carl: 0.2199, loss_mask: 0.4090, loss_objectness: 0.2377, loss_rpn_box_reg: 0.0192, total_loss: 1.4768\n"
     ]
    },
    {
     "name": "stderr",
     "output_type": "stream",
     "text": [
      "INFO:sagemakercv.utils.runner.runner:Epoch [1][2400/14659]\tlr: 0.01745, eta: 5:23:21, step time: 1.376, loss_classifier: 0.3609, loss_box_reg: 0.2302, loss_carl: 0.2199, loss_mask: 0.4090, loss_objectness: 0.2377, loss_rpn_box_reg: 0.0192, total_loss: 1.4768\n"
     ]
    },
    {
     "name": "stdout",
     "output_type": "stream",
     "text": [
      "Epoch [1][2450/14659]\tlr: 0.01742, eta: 5:23:50, step time: 1.383, loss_classifier: 0.3464, loss_box_reg: 0.2222, loss_carl: 0.2136, loss_mask: 0.4040, loss_objectness: 0.2410, loss_rpn_box_reg: 0.0248, total_loss: 1.4519\n"
     ]
    },
    {
     "name": "stderr",
     "output_type": "stream",
     "text": [
      "INFO:sagemakercv.utils.runner.runner:Epoch [1][2450/14659]\tlr: 0.01742, eta: 5:23:50, step time: 1.383, loss_classifier: 0.3464, loss_box_reg: 0.2222, loss_carl: 0.2136, loss_mask: 0.4040, loss_objectness: 0.2410, loss_rpn_box_reg: 0.0248, total_loss: 1.4519\n"
     ]
    },
    {
     "name": "stdout",
     "output_type": "stream",
     "text": [
      "Epoch [1][2500/14659]\tlr: 0.01739, eta: 5:23:15, step time: 1.385, loss_classifier: 0.3736, loss_box_reg: 0.2397, loss_carl: 0.2302, loss_mask: 0.3944, loss_objectness: 0.2370, loss_rpn_box_reg: 0.0188, total_loss: 1.4938\n"
     ]
    },
    {
     "name": "stderr",
     "output_type": "stream",
     "text": [
      "INFO:sagemakercv.utils.runner.runner:Epoch [1][2500/14659]\tlr: 0.01739, eta: 5:23:15, step time: 1.385, loss_classifier: 0.3736, loss_box_reg: 0.2397, loss_carl: 0.2302, loss_mask: 0.3944, loss_objectness: 0.2370, loss_rpn_box_reg: 0.0188, total_loss: 1.4938\n"
     ]
    },
    {
     "name": "stdout",
     "output_type": "stream",
     "text": [
      "Epoch [1][2550/14659]\tlr: 0.01736, eta: 5:27:19, step time: 1.408, loss_classifier: 0.3721, loss_box_reg: 0.2331, loss_carl: 0.2229, loss_mask: 0.4048, loss_objectness: 0.2377, loss_rpn_box_reg: 0.0213, total_loss: 1.4919\n"
     ]
    },
    {
     "name": "stderr",
     "output_type": "stream",
     "text": [
      "INFO:sagemakercv.utils.runner.runner:Epoch [1][2550/14659]\tlr: 0.01736, eta: 5:27:19, step time: 1.408, loss_classifier: 0.3721, loss_box_reg: 0.2331, loss_carl: 0.2229, loss_mask: 0.4048, loss_objectness: 0.2377, loss_rpn_box_reg: 0.0213, total_loss: 1.4919\n"
     ]
    }
   ],
   "source": [
    "runner.run(train_iterator, num_iterations)"
   ]
  },
  {
   "cell_type": "code",
   "execution_count": null,
   "metadata": {},
   "outputs": [],
   "source": []
  }
 ],
 "metadata": {
  "instance_type": "ml.g4dn.12xlarge",
  "kernelspec": {
   "display_name": "python3 (smcv-pt-1-9/1)",
   "language": "python",
   "name": "python3__SAGEMAKER_INTERNAL__arn:aws:sagemaker:us-west-2:427566855058:image-version/smcv-pt-1-9/1"
  },
  "language_info": {
   "codemirror_mode": {
    "name": "ipython",
    "version": 3
   },
   "file_extension": ".py",
   "mimetype": "text/x-python",
   "name": "python",
   "nbconvert_exporter": "python",
   "pygments_lexer": "ipython3",
   "version": "3.8.10"
  }
 },
 "nbformat": 4,
 "nbformat_minor": 4
}
