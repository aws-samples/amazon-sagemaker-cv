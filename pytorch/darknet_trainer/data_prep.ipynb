{
 "cells": [
  {
   "cell_type": "code",
   "execution_count": 1,
   "id": "653d60c1-20ea-4ea8-823b-d7f435b78156",
   "metadata": {},
   "outputs": [],
   "source": [
    "import os\n",
    "from pathlib import Path\n",
    "from concurrent.futures import ThreadPoolExecutor\n",
    "import tarfile\n",
    "import urllib\n",
    "import shutil"
   ]
  },
  {
   "cell_type": "code",
   "execution_count": 2,
   "id": "700b3000-7c97-41f9-8f4c-1aac50c67f14",
   "metadata": {},
   "outputs": [],
   "source": [
    "validation_labels_url = 'https://raw.githubusercontent.com/fh295/semanticCNN/master/imagenet_labels/ILSVRC2012_validation_ground_truth.txt'\n",
    "validation_mapping_url = 'https://raw.githubusercontent.com/fh295/semanticCNN/master/imagenet_labels/ILSVRC2012_mapping.txt'\n",
    "root_dir = Path('/workspace/data/imagenet/')\n",
    "tar_file = list(Path(root_dir).glob('*.tar'))\n",
    "train_dir = root_dir.joinpath('train')\n",
    "validation_dir = root_dir.joinpath('validation')"
   ]
  },
  {
   "cell_type": "code",
   "execution_count": 4,
   "id": "ccdc7e89-24d8-4312-b431-49c6f334ef70",
   "metadata": {},
   "outputs": [],
   "source": [
    "validation_labels = urllib.request.urlopen(validation_labels_url).read().decode().split()\n",
    "mappings = [i.split(' ') for i in urllib.request.urlopen(validation_mapping_url).read().decode().split('\\n')]\n",
    "mappings = [i for i in mappings if len(i)==2]\n",
    "mappings = {i[0]: i[1] for i in mappings}\n",
    "validation_labels = [mappings[i] for i in validation_labels]"
   ]
  },
  {
   "cell_type": "code",
   "execution_count": 5,
   "id": "9ae73892-5cca-449d-84a2-b79678289c66",
   "metadata": {},
   "outputs": [],
   "source": [
    "validation_dir.mkdir()"
   ]
  },
  {
   "cell_type": "code",
   "execution_count": 6,
   "id": "06015531-20b6-4945-b40c-68a58dea32f1",
   "metadata": {},
   "outputs": [],
   "source": [
    "validation_tar = tarfile.open(root_dir.joinpath('ILSVRC2012_img_val.tar'))"
   ]
  },
  {
   "cell_type": "code",
   "execution_count": 7,
   "id": "56eb11bf-9c57-4f6d-befd-6fb8379f3532",
   "metadata": {},
   "outputs": [],
   "source": [
    "validation_tar.extractall(validation_dir)"
   ]
  },
  {
   "cell_type": "code",
   "execution_count": 8,
   "id": "8406608e-f1bd-4742-b1c5-e7c5f46986be",
   "metadata": {},
   "outputs": [],
   "source": [
    "def move_validation_image(image_file):\n",
    "    index = int(image_file.stem.split('_')[-1])-1\n",
    "    sysnet = validation_labels[index]\n",
    "    sysnet_dir = validation_dir.joinpath(sysnet)\n",
    "    if not sysnet_dir.exists():\n",
    "        sysnet_dir.mkdir()\n",
    "    shutil.move(image_file, sysnet_dir.joinpath(image_file.name))"
   ]
  },
  {
   "cell_type": "code",
   "execution_count": 9,
   "id": "55e8fed2-ee8c-48fd-9ef1-4dfec914b6c0",
   "metadata": {},
   "outputs": [],
   "source": [
    "val_images = validation_dir.glob('*.JPEG')"
   ]
  },
  {
   "cell_type": "code",
   "execution_count": 10,
   "id": "c1ee527d-652b-4cbd-98b0-dc49f381649c",
   "metadata": {},
   "outputs": [],
   "source": [
    "for i in val_images:\n",
    "    move_validation_image(i)"
   ]
  },
  {
   "cell_type": "code",
   "execution_count": 11,
   "id": "eb5f8a77-410a-486a-b692-a1f364bf792b",
   "metadata": {},
   "outputs": [],
   "source": [
    "root_dir.joinpath('ILSVRC2012_img_val.tar').unlink()"
   ]
  },
  {
   "cell_type": "code",
   "execution_count": 12,
   "id": "47912b9d-2cac-4373-aa59-d0e8833346ff",
   "metadata": {},
   "outputs": [
    {
     "data": {
      "text/plain": [
       "PosixPath('/workspace/data/imagenet/train/ILSVRC2012_img_train.tar')"
      ]
     },
     "execution_count": 12,
     "metadata": {},
     "output_type": "execute_result"
    }
   ],
   "source": [
    "train_dir.mkdir()\n",
    "shutil.move(root_dir.joinpath('ILSVRC2012_img_train.tar'), train_dir.joinpath('ILSVRC2012_img_train.tar'))"
   ]
  },
  {
   "cell_type": "code",
   "execution_count": 13,
   "id": "fde7d3c9-5583-4c08-b4b8-f601077afda8",
   "metadata": {},
   "outputs": [],
   "source": [
    "tarfile.open(train_dir.joinpath('ILSVRC2012_img_train.tar')).extractall(train_dir)"
   ]
  },
  {
   "cell_type": "code",
   "execution_count": 14,
   "id": "0e48cc49-5820-40f4-b9e4-c36198dd946f",
   "metadata": {},
   "outputs": [],
   "source": [
    "def extract_tar(tar_file):\n",
    "    tarfile.open(tar_file).extractall(train_dir.joinpath(tar_file.stem))\n",
    "    tar_file.unlink()"
   ]
  },
  {
   "cell_type": "code",
   "execution_count": 15,
   "id": "57180b63-95f7-4637-aaab-22d448f4dcbf",
   "metadata": {},
   "outputs": [],
   "source": [
    "pool = ThreadPoolExecutor()"
   ]
  },
  {
   "cell_type": "code",
   "execution_count": 16,
   "id": "4cace41e-b547-4883-87a7-226f8a42506d",
   "metadata": {},
   "outputs": [],
   "source": [
    "train_dir.joinpath('ILSVRC2012_img_train.tar').unlink()"
   ]
  },
  {
   "cell_type": "code",
   "execution_count": 17,
   "id": "ae408a9e-7572-470b-9c40-c9af7e02ecae",
   "metadata": {},
   "outputs": [],
   "source": [
    "threads = [pool.submit(extract_tar, tar_file) for tar_file in train_dir.glob('*.tar')]"
   ]
  },
  {
   "cell_type": "code",
   "execution_count": 48,
   "id": "0a90d035-a5fb-4976-a6ba-40929bc37f02",
   "metadata": {},
   "outputs": [
    {
     "data": {
      "text/plain": [
       "1000"
      ]
     },
     "execution_count": 48,
     "metadata": {},
     "output_type": "execute_result"
    }
   ],
   "source": [
    "sum([i.done() for i in threads])"
   ]
  },
  {
   "cell_type": "code",
   "execution_count": null,
   "id": "4f438a37-5387-405c-aae9-ce83f3affca8",
   "metadata": {},
   "outputs": [],
   "source": []
  }
 ],
 "metadata": {
  "kernelspec": {
   "display_name": "Python 3",
   "language": "python",
   "name": "python3"
  },
  "language_info": {
   "codemirror_mode": {
    "name": "ipython",
    "version": 3
   },
   "file_extension": ".py",
   "mimetype": "text/x-python",
   "name": "python",
   "nbconvert_exporter": "python",
   "pygments_lexer": "ipython3",
   "version": "3.6.13"
  }
 },
 "nbformat": 4,
 "nbformat_minor": 5
}
