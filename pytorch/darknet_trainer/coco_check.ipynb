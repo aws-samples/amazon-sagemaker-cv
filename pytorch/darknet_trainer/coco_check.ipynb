{
 "cells": [
  {
   "cell_type": "code",
   "execution_count": 2,
   "id": "52e00c6a-e5b7-495a-af31-5f7f39f9df77",
   "metadata": {},
   "outputs": [],
   "source": [
    "# We need to see how the coco data reader is reading in images, and match that in the imagenet trainer\n",
    "import sys\n",
    "import torch\n",
    "\n",
    "sys.path.append('/workspace/sagemakercv/pytorch/tools')\n",
    "from sagemakercv.data import make_data_loader\n",
    "from sagemakercv.data.utils import prefetcher\n",
    "from configs import cfg\n",
    "\n",
    "if (torch._C, '_jit_set_profiling_executor') :\n",
    "    torch._C._jit_set_profiling_executor(False)\n",
    "if (torch._C, '_jit_set_profiling_mode') :\n",
    "    torch._C._jit_set_profiling_mode(False)"
   ]
  },
  {
   "cell_type": "code",
   "execution_count": 3,
   "id": "94a9ea7e-313b-414b-b2cb-4b14c1c7b391",
   "metadata": {},
   "outputs": [],
   "source": [
    "cfg.merge_from_file('/workspace/sagemakercv/pytorch/tools/configs/st_yolo_bs256.yaml')\n",
    "cfg.SOLVER.IMS_PER_BATCH = 8"
   ]
  },
  {
   "cell_type": "code",
   "execution_count": 4,
   "id": "3740cd88-615b-4884-aa7e-77c406ced401",
   "metadata": {},
   "outputs": [
    {
     "name": "stdout",
     "output_type": "stream",
     "text": [
      "NOTE! Installing ujson may make loading annotations faster.\n",
      "loading annotations into memory...\n",
      "Done (t=17.05s)\n",
      "creating index...\n",
      "index created!\n",
      "[2021-08-20 10:50:14.990 ip-172-31-0-120:992 INFO utils.py:27] RULE_JOB_STOP_SIGNAL_FILENAME: None\n",
      "[2021-08-20 10:50:15.038 ip-172-31-0-120:992 INFO profiler_config_parser.py:102] Unable to find config at /opt/ml/input/config/profilerconfig.json. Profiler is disabled.\n"
     ]
    }
   ],
   "source": [
    "train_coco_loader, num_iterations = make_data_loader(cfg)\n",
    "device = torch.device(cfg.MODEL.DEVICE)\n",
    "train_iterator = prefetcher(iter(train_coco_loader), device)"
   ]
  },
  {
   "cell_type": "code",
   "execution_count": 8,
   "id": "a3c6653c-bf05-4752-b673-639ae8b0072c",
   "metadata": {},
   "outputs": [],
   "source": [
    "image_list, boxes = next(train_iterator)"
   ]
  },
  {
   "cell_type": "code",
   "execution_count": 23,
   "id": "a2bb2776-94d6-43f1-a563-a5cbd2664e5d",
   "metadata": {},
   "outputs": [
    {
     "data": {
      "text/plain": [
       "tensor(-24.6178, device='cuda:0')"
      ]
     },
     "execution_count": 23,
     "metadata": {},
     "output_type": "execute_result"
    }
   ],
   "source": [
    "image_list.tensors[3].mean()"
   ]
  },
  {
   "cell_type": "code",
   "execution_count": 25,
   "id": "c165b58e-21d5-4f2e-b03f-5c6ea9ec2dee",
   "metadata": {},
   "outputs": [
    {
     "data": {
      "text/plain": [
       "103.53"
      ]
     },
     "execution_count": 25,
     "metadata": {},
     "output_type": "execute_result"
    }
   ],
   "source": [
    "0.406 * 255"
   ]
  },
  {
   "cell_type": "code",
   "execution_count": null,
   "id": "c9e1f061-b397-4b58-a8b7-62c3b88e58f5",
   "metadata": {},
   "outputs": [],
   "source": []
  }
 ],
 "metadata": {
  "kernelspec": {
   "display_name": "Python 3",
   "language": "python",
   "name": "python3"
  },
  "language_info": {
   "codemirror_mode": {
    "name": "ipython",
    "version": 3
   },
   "file_extension": ".py",
   "mimetype": "text/x-python",
   "name": "python",
   "nbconvert_exporter": "python",
   "pygments_lexer": "ipython3",
   "version": "3.6.13"
  }
 },
 "nbformat": 4,
 "nbformat_minor": 5
}
