{
 "cells": [
  {
   "cell_type": "markdown",
   "id": "60f754b5",
   "metadata": {},
   "source": [
    "## SageMaker Yolo\n",
    "\n",
    "This notebook details how to launch YOLO training on SageMaker, including how to train with multinode, EFA, SageMaker Data Parallel, and SageMaker Debugger.\n",
    "\n",
    "### Prerequisites\n",
    "\n",
    "Before running this notebook, make sure to follow the SageMaker instructions in the repo README in order to build your Docker image for training. You should upload this image to your ECR repo.\n",
    "\n",
    "Second, you need to have the COCO data and labels stored on S3. The dataset is available at the [COCO website](https://cocodataset.org/#home). You'll also need to convert the COCO labels into the YOLO format. The COCO labels are stored in a json file with boxes in the format (x1, y1, x2, y2) describing the corners of the box. YOLO expects a text files for each image with a line for each object specifying category, and box in the format (x, y, w, h) where x and y are the box center. For example, if image `1234.jpg` has 2 people and 1 bicycle, the file `1234.txt` will have three lines\n",
    "\n",
    "```\n",
    "1 0.500000 0.842305 1.000000 0.315391\n",
    "1 0.531875 0.465930 0.712083 0.782422\n",
    "2 0.540583 0.837477 0.457042 0.300234\n",
    "```\n",
    "\n",
    "If you want to generate these labels yourself, or have your own dataset, [this repo](https://github.com/qwirky-yuzu/COCO-to-YOLO) contains a conversion script. If you just want to train on YOLO, you can find labels [here](https://github.com/johnbensnyder/ScaledYOLOv4/releases/download/labels/coco2017labels.tar.gz). Your data should have the following file structure:\n",
    "\n",
    "```\n",
    "coco    \n",
    "│\n",
    "└───annotations\n",
    "│   │   instances_val2017.json\n",
    "│   \n",
    "└───images\n",
    "│   │\n",
    "│   └───train2017\n",
    "│   │   │   0001.jpg\n",
    "│   │   │   0002.jpg\n",
    "│   │   │   ...\n",
    "│   │\n",
    "│   └───val2017\n",
    "│       │   5001.jpg\n",
    "│       │   5002.jpg\n",
    "│       │   ...\n",
    "│\n",
    "└───labels\n",
    "│   │\n",
    "│   └───train2017\n",
    "│   │   │   0001.txt\n",
    "│   │   │   0002.txt\n",
    "│   │   │   ...\n",
    "│   │\n",
    "│   └───val2017\n",
    "│       │   5001.txt\n",
    "│       │   5002.txt\n",
    "│       │   ...\n",
    "│   train2017.txt (list of all image files)\n",
    "│   val2017.txt \n",
    "```\n",
    "\n",
    "In order to speed up startup time, we recommend tarring this entire directory, and uploading it to S3. At the start of training, this tar file will be downloaded to each SageMaker instance. Downloading as a single archive is much faster than downloading all ~250,000 files.\n",
    "\n",
    "### SageMaker Debugger\n",
    "\n",
    "This training uses SageMaker's \"Bring your own container\" functionality. Using debugger in this scenario requires a small modification to the training script. This imports the Debugger, and wraps the model with it when it finds a json config file in the expected location. The json file is generated when your training job starts based on the configuration you give in this notebook. These changes can be found on lines 31 and 206 of `train.py`.\n",
    "\n",
    "```\n",
    "import smdebug.pytorch as smd\n",
    "from smdebug.core.config_constants import DEFAULT_CONFIG_FILE_PATH\n",
    "\n",
    "...\n",
    "\n",
    "    # wrap model in debugger\n",
    "    if Path(DEFAULT_CONFIG_FILE_PATH).exists() and int(os.environ.get(\"RANK\", 0))==0:\n",
    "        hook = smd.get_hook(create_if_not_exists=True)\n",
    "        hook.register_module(model)\n",
    "```\n",
    "\n",
    "You might also want to wrap your loss function to collect training progress. On many models this can be done in the same file by simply adding `hook.register_loss(loss_func)` after wrapping your model. This case is slightly more complicated, since Yolo uses a more complex loss. In this model, loss is generated in the `compute_loss` function which comes from `utils.general`. In that file, we'll again add the same imports, and wrap the loss fucntions on line 456. \n",
    "\n",
    "```\n",
    "    # Wrap loss functions in debug hook\n",
    "    if Path(DEFAULT_CONFIG_FILE_PATH).exists() and int(os.environ.get(\"RANK\", 0))==0:\n",
    "        hook = smd.get_hook(create_if_not_exists=True)\n",
    "        hook.register_loss(BCEcls)\n",
    "        hook.register_loss(BCEobj)\n",
    "```\n",
    "\n",
    "The `get_hook` class method will check global variables for an existing hook, and grab the same hook we used for the model. Notice we only wrapped the class and object loss functions in this case. This is one limitation for monitoring loss. The debugger expects loss functions to be a subclass of the `torch.module` class. The current model uses GIOU loss for box prediction, which is not written as a subclass of `torch.module`. This is not a major change, and will be updated in a future version."
   ]
  },
  {
   "cell_type": "code",
   "execution_count": 1,
   "id": "7865ad07",
   "metadata": {},
   "outputs": [
    {
     "name": "stderr",
     "output_type": "stream",
     "text": [
      "/opt/conda/lib/python3.8/site-packages/tqdm/auto.py:22: TqdmWarning: IProgress not found. Please update jupyter and ipywidgets. See https://ipywidgets.readthedocs.io/en/stable/user_install.html\n",
      "  from .autonotebook import tqdm as notebook_tqdm\n"
     ]
    }
   ],
   "source": [
    "import os\n",
    "from datetime import datetime\n",
    "\n",
    "import boto3\n",
    "from sagemaker import analytics, image_uris\n",
    "from sagemaker.pytorch import PyTorch\n",
    "from smexperiments.experiment import Experiment\n",
    "from smexperiments.trial import Trial\n",
    "from smexperiments.trial_component import TrialComponent\n",
    "from smexperiments.tracker import Tracker\n",
    "from sagemaker import get_execution_role\n",
    "from sagemaker.debugger import (\n",
    "    Rule,\n",
    "    DebuggerHookConfig,\n",
    "    TensorBoardOutputConfig,\n",
    "    CollectionConfig,\n",
    "    ProfilerConfig,\n",
    "    FrameworkProfile,\n",
    "    DetailedProfilingConfig,\n",
    "    DataloaderProfilingConfig,\n",
    "    rule_configs,\n",
    ")\n",
    "from smdebug.core.collection import CollectionKeys\n",
    "\n"
   ]
  },
  {
   "cell_type": "markdown",
   "id": "1730e77c",
   "metadata": {},
   "source": [
    "### S3 Setup\n",
    "\n",
    "The paragraph below sets up your S3 bucket, output locations, and SageMaker job name. This is optional, but makes it easier to keep track of multiple training jobs."
   ]
  },
  {
   "cell_type": "code",
   "execution_count": 2,
   "id": "4c2e7b03",
   "metadata": {},
   "outputs": [],
   "source": [
    "time_str = datetime.now().strftime(\"%d-%m-%Y-%H-%M-%S\")\n",
    "\n",
    "region = \"us-east-1\" #boto3.session.Session().region_name\n",
    "os.environ['AWS_DEFAULT_REGION'] = region\n",
    "boto_sess = boto3.Session()\n",
    "sm = boto_sess.client('sagemaker')\n",
    "\n",
    "s3_bucket = \"s3://[your bucket]/\"\n",
    "\n",
    "base_job_name = \"[job name]\"\n",
    "date_str = datetime.now().strftime(\"%d-%m-%Y\")\n",
    "time_str = datetime.now().strftime(\"%d-%m-%Y-%H-%M-%S\")\n",
    "job_name = f\"{base_job_name}-{time_str}\"\n",
    "\n",
    "output_path = os.path.join(s3_bucket, \"sagemaker-output\", date_str, job_name)\n",
    "code_location = os.path.join(s3_bucket, \"sagemaker-code\", date_str, job_name)"
   ]
  },
  {
   "cell_type": "markdown",
   "id": "3e21c012",
   "metadata": {},
   "source": [
    "### Tensorboard\n",
    "\n",
    "This will tell the Debugger hook where to store Tensorboard events files. In this case, it will create a `tensorboard` directory in S3 at the output_path specified above."
   ]
  },
  {
   "cell_type": "code",
   "execution_count": 3,
   "id": "465490a9",
   "metadata": {},
   "outputs": [],
   "source": [
    "tensorboard_output_config = TensorBoardOutputConfig(s3_output_path=os.path.join(output_path, 'tensorboard'))"
   ]
  },
  {
   "cell_type": "markdown",
   "id": "6de14cf6",
   "metadata": {},
   "source": [
    "### Debugger Hooks\n",
    "\n",
    "Here we specify the collections for debugger. We collect loss information every 25 steps, and gradients and weights every 500 steps. We don't apply any reductions, so all model gradients and weights will be saved to S3."
   ]
  },
  {
   "cell_type": "code",
   "execution_count": 4,
   "id": "f0cbb371",
   "metadata": {},
   "outputs": [],
   "source": [
    "collection_configs=[\n",
    "    CollectionConfig(\n",
    "        name=CollectionKeys.LOSSES,\n",
    "        parameters={\n",
    "            \"train.save_interval\": \"10\",\n",
    "            \"eval.save_interval\": \"1\",\n",
    "        }\n",
    "    ),\n",
    "    CollectionConfig(\n",
    "        name=\"inputs\",\n",
    "        parameters={\n",
    "            \"train.save_interval\": \"50\",\n",
    "            \"eval.save_interval\": \"10\",\n",
    "            \"include_regex\": 'model.0.conv.*', # First layer of model\n",
    "        }\n",
    "    ),\n",
    "    CollectionConfig(\n",
    "        name=\"outputs\",\n",
    "        parameters={\n",
    "            \"train.save_interval\": \"50\",\n",
    "            \"eval.save_interval\": \"10\",\n",
    "            \"include_regex\": 'model.31.m.2.*', # Last layer of model\n",
    "        }\n",
    "    ),\n",
    "    CollectionConfig(\n",
    "        name=CollectionKeys.WEIGHTS,\n",
    "        parameters={\n",
    "            \"train.save_interval\": \"100\",\n",
    "            \"eval.save_interval\": \"10\",\n",
    "            \"reductions\": \"mean\",\n",
    "        }\n",
    "    ),\n",
    "    CollectionConfig(\n",
    "        name=CollectionKeys.GRADIENTS,\n",
    "        parameters={\n",
    "            \"train.save_interval\": \"100\",\n",
    "            \"eval.save_interval\": \"10\",\n",
    "            \"reductions\": \"mean\",\n",
    "        }\n",
    "    ),\n",
    "]\n",
    "\n",
    "debugger_hook_config=DebuggerHookConfig(\n",
    "    collection_configs=collection_configs\n",
    ")"
   ]
  },
  {
   "cell_type": "markdown",
   "id": "90b71b1f",
   "metadata": {},
   "source": [
    "### System Profiler\n",
    "\n",
    "We collect system level performance data every 500 ms."
   ]
  },
  {
   "cell_type": "code",
   "execution_count": 5,
   "id": "bc475643",
   "metadata": {},
   "outputs": [],
   "source": [
    "profiler_config=ProfilerConfig(\n",
    "    system_monitor_interval_millis=500,\n",
    ")\n"
   ]
  },
  {
   "cell_type": "markdown",
   "id": "c2064212",
   "metadata": {},
   "source": [
    "### Model hyperparameters\n",
    "\n",
    "These will be passed to training as command line arguments.\n",
    "\n",
    "The `s3_tarfile` parameter will tell the instance to download the coco data and annotations from S3 and untar it. This tends to be slightly faster than downloading the small data files prior to training. Leave this blank in order to use channels to load data instead."
   ]
  },
  {
   "cell_type": "code",
   "execution_count": 6,
   "id": "64e9b7c8",
   "metadata": {},
   "outputs": [],
   "source": [
    "hyperparameters = {\"batch-size\": 512,\n",
    "                   \"epochs\": 100,\n",
    "                   \"data\": \"coco_sagemaker.yaml\",\n",
    "                   \"sync-bn\": \"True\",\n",
    "                   \"label-smoothing\": 0.1,\n",
    "                   \"hyp\": \"hyp.sm.yaml\",\n",
    "                   \"dist\": \"nccl\", # Need to debug SMDDP installation in NGC container\n",
    "                   \"opt\": \"AdamW\",\n",
    "                   \"s3_tarfile\": \"[s3 tarfile location, leave blank to use channels instead]\"\n",
    "                   }"
   ]
  },
  {
   "cell_type": "markdown",
   "id": "31f5c427",
   "metadata": {},
   "source": [
    "### Distributed training\n",
    "\n",
    "For distributed training, we'll use ddp and torchrun. SageMaker does not currently have direct support for torchrun, instead favoring mpi. So what we can do is turn off SageMaker's distribution, and set it up ourselves with the `launch_ddp.py` script. Instead of directly calling our `train.py`, this file will setup EFA, grab the SageMaker environment variables for distributed training, and launch our training script as a subprocess."
   ]
  },
  {
   "cell_type": "code",
   "execution_count": 7,
   "id": "5889369c",
   "metadata": {},
   "outputs": [],
   "source": [
    "if hyperparameters['dist'] == 'nccl':\n",
    "    distribution=None\n",
    "    entry_point=\"launch_ddp.py\"\n",
    "elif hyperparameters['dist'] == 'smddp':\n",
    "    distribution={ \"smdistributed\": { \"dataparallel\": { \"enabled\": True } } }\n",
    "    entry_point=\"train.py\"    \n",
    "else:\n",
    "    distribution=None\n",
    "    entry_point=\"train.py\""
   ]
  },
  {
   "cell_type": "markdown",
   "id": "3ddb40a5",
   "metadata": {},
   "source": [
    "### Cluster config and image\n",
    "\n",
    "Set what type of instance you want, and how many. \n",
    "\n",
    "Grab the account number from the current instance in order to get your image from ECR."
   ]
  },
  {
   "cell_type": "code",
   "execution_count": 8,
   "id": "0b6cdc83",
   "metadata": {},
   "outputs": [],
   "source": [
    "instance_type = 'ml.p4d.24xlarge'\n",
    "# instance_type = 'local_gpu'\n",
    "instance_count = 1\n",
    "\n",
    "repo = \"jbsnyder\"\n",
    "tag = \"pytorch-yolo\"\n",
    "account = os.popen(f\"aws sts get-caller-identity --region {region} --endpoint-url https://sts.{region}.amazonaws.com --query Account --output text\").read().strip()\n",
    "image_uri = f\"{account}.dkr.ecr.{region}.amazonaws.com/{repo}:{tag}\""
   ]
  },
  {
   "cell_type": "markdown",
   "id": "3c8c6de1",
   "metadata": {},
   "source": [
    "### Setup Estimator"
   ]
  },
  {
   "cell_type": "code",
   "execution_count": 9,
   "id": "37317b59",
   "metadata": {},
   "outputs": [],
   "source": [
    "estimator = PyTorch(\n",
    "    source_dir=\".\",\n",
    "    entry_point=entry_point,\n",
    "    base_job_name=job_name,\n",
    "    role=get_execution_role(),\n",
    "    instance_count=instance_count,\n",
    "    instance_type=instance_type,\n",
    "    distribution=distribution,\n",
    "    volume_size=400,\n",
    "    max_run=7200,\n",
    "    hyperparameters=hyperparameters,\n",
    "    image_uri=image_uri,\n",
    "    output_path=os.path.join(output_path, 'training-output'),\n",
    "    checkpoint_s3_uri=os.path.join(output_path, 'training-checkpoints'),\n",
    "    model_dir=os.path.join(output_path, 'training-model'),\n",
    "    code_location=code_location,\n",
    "    ## Debugger parameters\n",
    "    #metric_definitions=metric_definitions,\n",
    "    enable_sagemaker_metrics=True,\n",
    "    #rules=rules,\n",
    "    debugger_hook_config=debugger_hook_config,\n",
    "    disable_profiler=False,\n",
    "    tensorboard_output_config=tensorboard_output_config,\n",
    "    profiler_config=profiler_config,\n",
    "    input_mode='File',\n",
    ")"
   ]
  },
  {
   "cell_type": "markdown",
   "id": "9e923063",
   "metadata": {},
   "source": [
    "### Data channels\n",
    "\n",
    "This should be the location of the coco.tar file you created earlier."
   ]
  },
  {
   "cell_type": "code",
   "execution_count": 10,
   "id": "1d603acd",
   "metadata": {},
   "outputs": [],
   "source": [
    "channels=None # {\"all_data\": \"s3://[your-s3-bucket]/data/yolo/\"}"
   ]
  },
  {
   "cell_type": "markdown",
   "id": "de14037e",
   "metadata": {},
   "source": [
    "### Launch training"
   ]
  },
  {
   "cell_type": "code",
   "execution_count": 12,
   "id": "0bd5d61c",
   "metadata": {},
   "outputs": [
    {
     "name": "stderr",
     "output_type": "stream",
     "text": [
      "INFO:sagemaker.image_uris:Defaulting to the only supported framework/algorithm version: latest.\n",
      "INFO:sagemaker.image_uris:Ignoring unnecessary instance type: None.\n",
      "INFO:sagemaker:Creating training-job with name: jbsnyder-yolov5-20-07-2022-22-39-52\n"
     ]
    }
   ],
   "source": [
    "# Run training\n",
    "estimator.fit(\n",
    "    inputs=channels,\n",
    "    wait=False,\n",
    "    job_name=job_name,\n",
    ")"
   ]
  },
  {
   "cell_type": "code",
   "execution_count": null,
   "id": "99cc52c1",
   "metadata": {},
   "outputs": [
    {
     "name": "stdout",
     "output_type": "stream",
     "text": [
      "2022-07-20 22:40:20 Starting - Starting the training job...ProfilerReport-1658356820: InProgress\n",
      "...\n",
      "2022-07-20 22:41:17 Starting - Preparing the instances for training..........."
     ]
    }
   ],
   "source": [
    "estimator.logs()"
   ]
  },
  {
   "cell_type": "code",
   "execution_count": null,
   "id": "0c68252e",
   "metadata": {},
   "outputs": [],
   "source": []
  }
 ],
 "metadata": {
  "kernelspec": {
   "display_name": "Python 3 (ipykernel)",
   "language": "python",
   "name": "python3"
  },
  "language_info": {
   "codemirror_mode": {
    "name": "ipython",
    "version": 3
   },
   "file_extension": ".py",
   "mimetype": "text/x-python",
   "name": "python",
   "nbconvert_exporter": "python",
   "pygments_lexer": "ipython3",
   "version": "3.8.13"
  }
 },
 "nbformat": 4,
 "nbformat_minor": 5
}
