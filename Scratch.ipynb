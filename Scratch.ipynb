{
 "cells": [
  {
   "cell_type": "code",
   "execution_count": 2,
   "metadata": {},
   "outputs": [],
   "source": [
    "#!pip install ./src"
   ]
  },
  {
   "cell_type": "code",
   "execution_count": 1,
   "metadata": {},
   "outputs": [],
   "source": [
    "import sys\n",
    "sys.path.append(\"/workspace/maskrcnn/pytorch/\")\n",
    "import argparse\n",
    "import os\n",
    "import functools\n",
    "import logging\n",
    "import random\n",
    "import datetime\n",
    "import time\n",
    "import gc\n",
    "import numpy as np\n",
    "\n",
    "import torch\n",
    "import apex_C, amp_C\n",
    "\n",
    "from s3fs import S3FileSystem"
   ]
  },
  {
   "cell_type": "code",
   "execution_count": 2,
   "metadata": {},
   "outputs": [],
   "source": [
    "# Get weights and annotations from S3\n",
    "s3 = S3FileSystem()\n",
    "anno_dir = \"/opt/ml/input/data/annotations\"\n",
    "weights_dir = \"/opt/ml/input/data/weights\"\n",
    "weights_file = \"resnet50.pkl\"\n",
    "# os.makedirs(weights_dir, exist_ok=True)\n",
    "# os.makedirs(anno_dir, exist_ok=True)\n",
    "# s3.get(\"s3://jbsnyder-sagemaker-us-east/data/weights/resnet50.pkl\", os.path.join(weights_dir, weights_file))\n",
    "# s3.get(\"s3://jbsnyder-sagemaker-us-east/data/coco/annotations/\", anno_dir, recursive=True)"
   ]
  },
  {
   "cell_type": "code",
   "execution_count": 3,
   "metadata": {},
   "outputs": [],
   "source": [
    "from apex.multi_tensor_apply import multi_tensor_applier"
   ]
  },
  {
   "cell_type": "code",
   "execution_count": 4,
   "metadata": {},
   "outputs": [],
   "source": [
    "from maskrcnn_benchmark.config import cfg\n",
    "from src.build import make_data_loader\n",
    "from maskrcnn_benchmark.data.datasets.coco import HybridDataLoader3\n",
    "from maskrcnn_benchmark.solver import make_lr_scheduler\n",
    "from maskrcnn_benchmark.solver import make_optimizer\n",
    "from maskrcnn_benchmark.engine.inference import inference\n",
    "from maskrcnn_benchmark.engine.trainer import do_train\n",
    "from maskrcnn_benchmark.engine.tester import test\n",
    "from maskrcnn_benchmark.modeling.detector import build_detection_model\n",
    "from maskrcnn_benchmark.utils.checkpoint import DetectronCheckpointer\n",
    "from maskrcnn_benchmark.utils.collect_env import collect_env_info\n",
    "from maskrcnn_benchmark.utils.comm import synchronize, get_rank, is_main_process, get_world_size, is_main_evaluation_process\n",
    "from maskrcnn_benchmark.utils.imports import import_file\n",
    "from maskrcnn_benchmark.utils.logger import setup_logger\n",
    "from maskrcnn_benchmark.utils.miscellaneous import mkdir\n",
    "from maskrcnn_benchmark.utils.mlperf_logger import log_end, log_start, log_event, generate_seeds, broadcast_seeds, barrier, configure_logger\n",
    "from maskrcnn_benchmark.utils.async_evaluator import init, get_evaluator, set_epoch_tag, get_tag\n",
    "from maskrcnn_benchmark.utils.timed_section import TimedSection"
   ]
  },
  {
   "cell_type": "code",
   "execution_count": 5,
   "metadata": {},
   "outputs": [],
   "source": [
    "from fp16_optimizer import FP16_Optimizer\n",
    "from apex import amp\n",
    "from apex.parallel import DistributedDataParallel as DDP"
   ]
  },
  {
   "cell_type": "code",
   "execution_count": 6,
   "metadata": {},
   "outputs": [],
   "source": [
    "num_gpus = int(os.environ[\"WORLD_SIZE\"]) if \"WORLD_SIZE\" in os.environ else 1\n",
    "distributed = num_gpus > 1"
   ]
  },
  {
   "cell_type": "code",
   "execution_count": 7,
   "metadata": {},
   "outputs": [],
   "source": [
    "world_size = 1\n",
    "rank = 0\n",
    "# random master seed, random.SystemRandom() uses /dev/urandom on Unix\n",
    "master_seed = random.SystemRandom().randint(0, 2 ** 32 - 1)\n",
    "random_number_generator = random.Random(master_seed)"
   ]
  },
  {
   "cell_type": "code",
   "execution_count": 8,
   "metadata": {},
   "outputs": [],
   "source": [
    "cfg.merge_from_file('src/configs/e2e_mask_rcnn_R_50_FPN_1x.yaml')\n",
    "cfg.PATHS_CATALOG = \"src/s3_paths_catalog.py\"\n",
    "# cfg.freeze()"
   ]
  },
  {
   "cell_type": "code",
   "execution_count": 9,
   "metadata": {},
   "outputs": [],
   "source": [
    "cfg.MODEL.WEIGHT = os.path.join(weights_dir, weights_file)"
   ]
  },
  {
   "cell_type": "code",
   "execution_count": 10,
   "metadata": {},
   "outputs": [
    {
     "name": "stdout",
     "output_type": "stream",
     "text": [
      ":::MLLOG {\"namespace\": \"\", \"time_ms\": 1652237660216, \"event_type\": \"POINT_IN_TIME\", \"key\": \"weights_initialization\", \"value\": null, \"metadata\": {\"file\": \"/workspace/maskrcnn/pytorch/maskrcnn_benchmark/modeling/backbone/fpn.py\", \"lineno\": 44, \"tensor\": \"FPN_inner_block1\"}}\n",
      ":::MLLOG {\"namespace\": \"\", \"time_ms\": 1652237660317, \"event_type\": \"POINT_IN_TIME\", \"key\": \"weights_initialization\", \"value\": null, \"metadata\": {\"file\": \"/workspace/maskrcnn/pytorch/maskrcnn_benchmark/modeling/backbone/fpn.py\", \"lineno\": 47, \"tensor\": \"FPN_layer_block1\"}}\n",
      ":::MLLOG {\"namespace\": \"\", \"time_ms\": 1652237660320, \"event_type\": \"POINT_IN_TIME\", \"key\": \"weights_initialization\", \"value\": null, \"metadata\": {\"file\": \"/workspace/maskrcnn/pytorch/maskrcnn_benchmark/modeling/backbone/fpn.py\", \"lineno\": 44, \"tensor\": \"FPN_inner_block2\"}}\n",
      ":::MLLOG {\"namespace\": \"\", \"time_ms\": 1652237660330, \"event_type\": \"POINT_IN_TIME\", \"key\": \"weights_initialization\", \"value\": null, \"metadata\": {\"file\": \"/workspace/maskrcnn/pytorch/maskrcnn_benchmark/modeling/backbone/fpn.py\", \"lineno\": 47, \"tensor\": \"FPN_layer_block2\"}}\n",
      ":::MLLOG {\"namespace\": \"\", \"time_ms\": 1652237660334, \"event_type\": \"POINT_IN_TIME\", \"key\": \"weights_initialization\", \"value\": null, \"metadata\": {\"file\": \"/workspace/maskrcnn/pytorch/maskrcnn_benchmark/modeling/backbone/fpn.py\", \"lineno\": 44, \"tensor\": \"FPN_inner_block3\"}}\n",
      ":::MLLOG {\"namespace\": \"\", \"time_ms\": 1652237660344, \"event_type\": \"POINT_IN_TIME\", \"key\": \"weights_initialization\", \"value\": null, \"metadata\": {\"file\": \"/workspace/maskrcnn/pytorch/maskrcnn_benchmark/modeling/backbone/fpn.py\", \"lineno\": 47, \"tensor\": \"FPN_layer_block3\"}}\n",
      ":::MLLOG {\"namespace\": \"\", \"time_ms\": 1652237660351, \"event_type\": \"POINT_IN_TIME\", \"key\": \"weights_initialization\", \"value\": null, \"metadata\": {\"file\": \"/workspace/maskrcnn/pytorch/maskrcnn_benchmark/modeling/backbone/fpn.py\", \"lineno\": 44, \"tensor\": \"FPN_inner_block4\"}}\n",
      ":::MLLOG {\"namespace\": \"\", \"time_ms\": 1652237660360, \"event_type\": \"POINT_IN_TIME\", \"key\": \"weights_initialization\", \"value\": null, \"metadata\": {\"file\": \"/workspace/maskrcnn/pytorch/maskrcnn_benchmark/modeling/backbone/fpn.py\", \"lineno\": 47, \"tensor\": \"FPN_layer_block4\"}}\n",
      ":::MLLOG {\"namespace\": \"\", \"time_ms\": 1652237660372, \"event_type\": \"POINT_IN_TIME\", \"key\": \"weights_initialization\", \"value\": null, \"metadata\": {\"file\": \"/workspace/maskrcnn/pytorch/maskrcnn_benchmark/modeling/rpn/rpn.py\", \"lineno\": 44, \"tensor\": \"RPNHead_conv\"}}\n",
      ":::MLLOG {\"namespace\": \"\", \"time_ms\": 1652237660372, \"event_type\": \"POINT_IN_TIME\", \"key\": \"weights_initialization\", \"value\": null, \"metadata\": {\"file\": \"/workspace/maskrcnn/pytorch/maskrcnn_benchmark/modeling/rpn/rpn.py\", \"lineno\": 45, \"tensor\": \"RPNHead_cls\"}}\n",
      ":::MLLOG {\"namespace\": \"\", \"time_ms\": 1652237660373, \"event_type\": \"POINT_IN_TIME\", \"key\": \"weights_initialization\", \"value\": null, \"metadata\": {\"file\": \"/workspace/maskrcnn/pytorch/maskrcnn_benchmark/modeling/rpn/rpn.py\", \"lineno\": 46, \"tensor\": \"RPNHead_bbox\"}}\n",
      ":::MLLOG {\"namespace\": \"\", \"time_ms\": 1652237663415, \"event_type\": \"POINT_IN_TIME\", \"key\": \"weights_initialization\", \"value\": null, \"metadata\": {\"file\": \"/workspace/maskrcnn/pytorch/maskrcnn_benchmark/modeling/roi_heads/box_head/roi_box_feature_extractors.py\", \"lineno\": 83, \"tensor\": \"ROI_BOX_FEATURE_EXTRACTOR_fc6\"}}\n",
      ":::MLLOG {\"namespace\": \"\", \"time_ms\": 1652237663430, \"event_type\": \"POINT_IN_TIME\", \"key\": \"weights_initialization\", \"value\": null, \"metadata\": {\"file\": \"/workspace/maskrcnn/pytorch/maskrcnn_benchmark/modeling/roi_heads/box_head/roi_box_feature_extractors.py\", \"lineno\": 86, \"tensor\": \"ROI_BOX_FEATURE_EXTRACTOR_fc7\"}}\n",
      ":::MLLOG {\"namespace\": \"\", \"time_ms\": 1652237663434, \"event_type\": \"POINT_IN_TIME\", \"key\": \"weights_initialization\", \"value\": null, \"metadata\": {\"file\": \"/workspace/maskrcnn/pytorch/maskrcnn_benchmark/modeling/roi_heads/box_head/roi_box_predictors.py\", \"lineno\": 50, \"tensor\": \"ROI_BOX_PREDICTOR_cls\"}}\n",
      ":::MLLOG {\"namespace\": \"\", \"time_ms\": 1652237663438, \"event_type\": \"POINT_IN_TIME\", \"key\": \"weights_initialization\", \"value\": null, \"metadata\": {\"file\": \"/workspace/maskrcnn/pytorch/maskrcnn_benchmark/modeling/roi_heads/box_head/roi_box_predictors.py\", \"lineno\": 52, \"tensor\": \"ROI_BOX_PREDICTOR_bbox\"}}\n",
      ":::MLLOG {\"namespace\": \"\", \"time_ms\": 1652237663451, \"event_type\": \"POINT_IN_TIME\", \"key\": \"weights_initialization\", \"value\": null, \"metadata\": {\"file\": \"/workspace/maskrcnn/pytorch/maskrcnn_benchmark/modeling/roi_heads/mask_head/roi_mask_feature_extractors.py\", \"lineno\": 52, \"tensor\": \"ROI_MASK_FEATURE_EXTRACTOR_fcn1\"}}\n",
      ":::MLLOG {\"namespace\": \"\", \"time_ms\": 1652237663464, \"event_type\": \"POINT_IN_TIME\", \"key\": \"weights_initialization\", \"value\": null, \"metadata\": {\"file\": \"/workspace/maskrcnn/pytorch/maskrcnn_benchmark/modeling/roi_heads/mask_head/roi_mask_feature_extractors.py\", \"lineno\": 52, \"tensor\": \"ROI_MASK_FEATURE_EXTRACTOR_fcn2\"}}\n",
      ":::MLLOG {\"namespace\": \"\", \"time_ms\": 1652237663476, \"event_type\": \"POINT_IN_TIME\", \"key\": \"weights_initialization\", \"value\": null, \"metadata\": {\"file\": \"/workspace/maskrcnn/pytorch/maskrcnn_benchmark/modeling/roi_heads/mask_head/roi_mask_feature_extractors.py\", \"lineno\": 52, \"tensor\": \"ROI_MASK_FEATURE_EXTRACTOR_fcn3\"}}\n",
      ":::MLLOG {\"namespace\": \"\", \"time_ms\": 1652237663487, \"event_type\": \"POINT_IN_TIME\", \"key\": \"weights_initialization\", \"value\": null, \"metadata\": {\"file\": \"/workspace/maskrcnn/pytorch/maskrcnn_benchmark/modeling/roi_heads/mask_head/roi_mask_feature_extractors.py\", \"lineno\": 52, \"tensor\": \"ROI_MASK_FEATURE_EXTRACTOR_fcn4\"}}\n",
      ":::MLLOG {\"namespace\": \"\", \"time_ms\": 1652237663493, \"event_type\": \"POINT_IN_TIME\", \"key\": \"weights_initialization\", \"value\": null, \"metadata\": {\"file\": \"/workspace/maskrcnn/pytorch/maskrcnn_benchmark/modeling/roi_heads/mask_head/roi_mask_predictors.py\", \"lineno\": 42, \"tensor\": \"ROI_MASK_PREDICTOR_fcn5\"}}\n",
      ":::MLLOG {\"namespace\": \"\", \"time_ms\": 1652237663494, \"event_type\": \"POINT_IN_TIME\", \"key\": \"weights_initialization\", \"value\": null, \"metadata\": {\"file\": \"/workspace/maskrcnn/pytorch/maskrcnn_benchmark/modeling/roi_heads/mask_head/roi_mask_predictors.py\", \"lineno\": 43, \"tensor\": \"ROI_MASK_PREDICTOR_fcn_logits\"}}\n"
     ]
    },
    {
     "name": "stderr",
     "output_type": "stream",
     "text": [
      "/opt/conda/lib/python3.8/site-packages/torch/nn/modules/conv.py:1092: UserWarning: _ConvTransposeMixin is a deprecated internal class. Please consider using public APIs.\n",
      "  warnings.warn(\n"
     ]
    }
   ],
   "source": [
    "model = build_detection_model(cfg)"
   ]
  },
  {
   "cell_type": "code",
   "execution_count": 11,
   "metadata": {},
   "outputs": [],
   "source": [
    "device = torch.device(cfg.MODEL.DEVICE)"
   ]
  },
  {
   "cell_type": "code",
   "execution_count": 15,
   "metadata": {},
   "outputs": [
    {
     "data": {
      "text/plain": [
       "'data_loader, iters_per_epoch = make_data_loader(\\n        cfg,\\n        is_train=True,\\n        is_distributed=distributed,\\n        start_iter=0,\\n        random_number_generator=random_number_generator,\\n        seed=master_seed,\\n        shapes=None,\\n        hybrid_dataloader=None,\\n    )'"
      ]
     },
     "execution_count": 15,
     "metadata": {},
     "output_type": "execute_result"
    }
   ],
   "source": [
    "data_loader, iters_per_epoch = make_data_loader(\n",
    "        cfg,\n",
    "        is_train=True,\n",
    "        is_distributed=distributed,\n",
    "        start_iter=0,\n",
    "        random_number_generator=random_number_generator,\n",
    "        seed=master_seed,\n",
    "        shapes=None,\n",
    "        hybrid_dataloader=None,\n",
    "    )"
   ]
  },
  {
   "cell_type": "code",
   "execution_count": null,
   "metadata": {},
   "outputs": [],
   "source": []
  }
 ],
 "metadata": {
  "instance_type": "ml.g4dn.xlarge",
  "kernelspec": {
   "display_name": "conda_pytorch_p38",
   "language": "python",
   "name": "conda_pytorch_p38"
  },
  "language_info": {
   "codemirror_mode": {
    "name": "ipython",
    "version": 3
   },
   "file_extension": ".py",
   "mimetype": "text/x-python",
   "name": "python",
   "nbconvert_exporter": "python",
   "pygments_lexer": "ipython3",
   "version": "3.8.12"
  }
 },
 "nbformat": 4,
 "nbformat_minor": 4
}
