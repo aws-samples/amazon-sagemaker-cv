{
 "cells": [
  {
   "cell_type": "markdown",
   "metadata": {},
   "source": [
    "## Nvidia MLPerf on SageMaker"
   ]
  },
  {
   "cell_type": "code",
   "execution_count": null,
   "metadata": {},
   "outputs": [],
   "source": [
    "import os\n",
    "from datetime import datetime\n",
    "import boto3\n",
    "from sagemaker.pytorch import PyTorch\n",
    "from sagemaker import get_execution_role"
   ]
  },
  {
   "cell_type": "code",
   "execution_count": null,
   "metadata": {},
   "outputs": [],
   "source": [
    "time_str = datetime.now().strftime(\"%d-%m-%Y-%H-%M-%S\")\n",
    "\n",
    "region = boto3.session.Session().region_name\n",
    "boto_sess = boto3.Session()\n",
    "sm = boto_sess.client('sagemaker')\n",
    "\n",
    "s3_bucket = \"s3://jbsnyder-sagemaker-us-east/\"\n",
    "\n",
    "base_job_name = \"jbsnyder-mlperf-mrcnn\"\n",
    "date_str = datetime.now().strftime(\"%d-%m-%Y\")\n",
    "time_str = datetime.now().strftime(\"%d-%m-%Y-%H-%M-%S\")\n",
    "job_name = f\"{base_job_name}-{time_str}\"\n",
    "\n",
    "output_path = os.path.join(s3_bucket, \"sagemaker-output\", date_str, job_name)\n",
    "code_location = os.path.join(s3_bucket, \"sagemaker-code\", date_str, job_name)"
   ]
  },
  {
   "cell_type": "code",
   "execution_count": null,
   "metadata": {},
   "outputs": [],
   "source": [
    "instance_type = 'ml.p4d.24xlarge'\n",
    "instance_count = 1\n",
    "repo = \"jbsnyder\"\n",
    "tag = \"pytorch-mrcnn\"\n",
    "#account = os.popen(f\"aws sts get-caller-identity --region {region} --endpoint-url https://sts.{region}.amazonaws.com --query Account --output text\").read().strip()\n",
    "#image_uri = f\"{account}.dkr.ecr.{region}.amazonaws.com/{repo}:{tag}\"\n",
    "image_uri = \"account.dkr.ecr.us-east-1.amazonaws.com/jbsnyder:pytorch-mrcnn\""
   ]
  },
  {
   "cell_type": "code",
   "execution_count": null,
   "metadata": {},
   "outputs": [],
   "source": [
    "dist_strategy = \"nccl\"\n",
    "# assert dist_strategy in [\"smddp\", \"nccl\"]\n",
    "# For now, just using NCCL not SMDDP\n",
    "assert dist_strategy in [\"nccl\"]\n",
    "hyperparameters = {\"config-file\": f'configs/e2e_mask_rcnn_R_50_FPN_1x_{instance_count}_node.yaml'}"
   ]
  },
  {
   "cell_type": "code",
   "execution_count": null,
   "metadata": {},
   "outputs": [],
   "source": [
    "if dist_strategy==\"nccl\":\n",
    "    distribution=None\n",
    "    entry_point=\"launch_ddp.py\"\n",
    "    # hyperparameters['training_script']=\"aws_train_mlperf.py\"\n",
    "else:\n",
    "    distribution={ \"smdistributed\": { \"dataparallel\": { \"enabled\": True } } }\n",
    "    entry_point = \"aws_train_mlperf.py\""
   ]
  },
  {
   "cell_type": "code",
   "execution_count": null,
   "metadata": {},
   "outputs": [],
   "source": [
    "channels = {\"all_data\": os.path.join(s3_bucket, \"data\", \"yolo/\"),\n",
    "            \"annotations\": os.path.join(s3_bucket, \"data\", \"coco\", \"annotations/\"),\n",
    "            \"weights\": os.path.join(s3_bucket, \"data\", \"weights\", \"pt-resnet/\")}"
   ]
  },
  {
   "cell_type": "code",
   "execution_count": null,
   "metadata": {},
   "outputs": [],
   "source": [
    "estimator = PyTorch(\n",
    "    source_dir=\"./src\",\n",
    "    entry_point=entry_point,\n",
    "    base_job_name=job_name,\n",
    "    role=get_execution_role(),\n",
    "    instance_count=instance_count,\n",
    "    instance_type=instance_type,\n",
    "    distribution=distribution,\n",
    "    # volume_size=400, # Not necessary for P4d\n",
    "    max_run=7200,\n",
    "    hyperparameters=hyperparameters,\n",
    "    image_uri=image_uri,\n",
    "    output_path=os.path.join(output_path, 'training-output'),\n",
    "    checkpoint_s3_uri=os.path.join(output_path, 'training-checkpoints'),\n",
    "    model_dir=os.path.join(output_path, 'training-model'),\n",
    "    code_location=code_location,\n",
    "    input_mode='File',\n",
    ")"
   ]
  },
  {
   "cell_type": "code",
   "execution_count": null,
   "metadata": {},
   "outputs": [],
   "source": [
    "estimator.fit(\n",
    "    inputs=channels,\n",
    "    wait=False,\n",
    "    job_name=job_name,\n",
    ")"
   ]
  },
  {
   "cell_type": "code",
   "execution_count": null,
   "metadata": {},
   "outputs": [],
   "source": [
    "estimator.logs()"
   ]
  },
  {
   "cell_type": "code",
   "execution_count": null,
   "metadata": {},
   "outputs": [],
   "source": []
  }
 ],
 "metadata": {
  "instance_type": "ml.g4dn.xlarge",
  "kernelspec": {
   "display_name": "Python 3 (ipykernel)",
   "language": "python",
   "name": "python3"
  },
  "language_info": {
   "codemirror_mode": {
    "name": "ipython",
    "version": 3
   },
   "file_extension": ".py",
   "mimetype": "text/x-python",
   "name": "python",
   "nbconvert_exporter": "python",
   "pygments_lexer": "ipython3",
   "version": "3.8.13"
  }
 },
 "nbformat": 4,
 "nbformat_minor": 4
}
