{
 "cells": [
  {
   "cell_type": "code",
   "execution_count": 1,
   "metadata": {},
   "outputs": [],
   "source": [
    "import sys\n",
    "sys.path.append('..')\n",
    "import tensorflow as tf\n",
    "from configs.default_config import _C as cfg\n",
    "cfg.merge_from_file('configs/ami_hvd_mrcnn_bs4_1x.yaml')\n",
    "from sagemakercv.detection import build_detector\n",
    "from sagemakercv.data import build_dataset\n",
    "from sagemakercv.training import build_optimizer, build_trainer\n",
    "from sagemakercv.utils.runner import build_hooks, Runner\n",
    "from sagemakercv.utils.dist_utils import get_dist_info\n",
    "from tqdm.notebook import tqdm"
   ]
  },
  {
   "cell_type": "code",
   "execution_count": 2,
   "metadata": {},
   "outputs": [],
   "source": [
    "rank, local_rank, size, local_size = get_dist_info()\n",
    "devices = tf.config.list_physical_devices('GPU')\n",
    "for device in devices:\n",
    "    tf.config.experimental.set_memory_growth(device, True)\n",
    "tf.config.set_visible_devices([devices[local_rank]], 'GPU')\n",
    "logical_devices = tf.config.list_logical_devices('GPU')\n",
    "tf.config.optimizer.set_experimental_options({\"auto_mixed_precision\": cfg.SOLVER.FP16})\n",
    "tf.config.optimizer.set_jit(cfg.SOLVER.XLA)"
   ]
  },
  {
   "cell_type": "code",
   "execution_count": 3,
   "metadata": {},
   "outputs": [
    {
     "name": "stdout",
     "output_type": "stream",
     "text": [
      "WARNING:tensorflow:From /home/ubuntu/anaconda3/envs/tensorflow2_latest_p37/gpu_cuda11.0/lib/python3.7/site-packages/tensorflow/python/util/deprecation.py:605: calling map_fn_v2 (from tensorflow.python.ops.map_fn) with dtype is deprecated and will be removed in a future version.\n",
      "Instructions for updating:\n",
      "Use fn_output_signature instead\n"
     ]
    }
   ],
   "source": [
    "dataset = iter(build_dataset(cfg))\n",
    "detector = build_detector(cfg)\n",
    "features, labels = next(dataset)\n",
    "result = detector(features, training=False)"
   ]
  },
  {
   "cell_type": "code",
   "execution_count": 4,
   "metadata": {},
   "outputs": [
    {
     "name": "stdout",
     "output_type": "stream",
     "text": [
      "[MaskRCNN] INFO    : Using Horovod For Distributed Training\n"
     ]
    }
   ],
   "source": [
    "optimizer = build_optimizer(cfg)\n",
    "trainer = build_trainer(cfg, detector, optimizer, dist=cfg.DISTRIBUTION)"
   ]
  },
  {
   "cell_type": "code",
   "execution_count": 5,
   "metadata": {},
   "outputs": [],
   "source": [
    "features, labels = next(dataset)\n",
    "result = trainer((features, labels), training=True)"
   ]
  },
  {
   "cell_type": "code",
   "execution_count": 21,
   "metadata": {},
   "outputs": [
    {
     "name": "stdout",
     "output_type": "stream",
     "text": [
      "65.6 ms ± 1.14 ms per loop (mean ± std. dev. of 7 runs, 10 loops each)\n"
     ]
    }
   ],
   "source": [
    "%%timeit\n",
    "#features, labels = next(dataset)\n",
    "result = trainer((features, labels), training=True)"
   ]
  },
  {
   "cell_type": "code",
   "execution_count": 10,
   "metadata": {},
   "outputs": [],
   "source": [
    "features, labels = next(dataset)\n",
    "result = trainer((features, labels), training=True)"
   ]
  },
  {
   "cell_type": "code",
   "execution_count": 16,
   "metadata": {},
   "outputs": [],
   "source": [
    "tf.profiler.experimental.start('/home/ubuntu/profiler/sgd_no_pipeline')\n",
    "for i in range(25):\n",
    "    #features, labels = next(dataset)\n",
    "    result = trainer((features, labels), training=True)\n",
    "tf.profiler.experimental.stop()"
   ]
  },
  {
   "cell_type": "code",
   "execution_count": 22,
   "metadata": {},
   "outputs": [],
   "source": [
    "from time import time\n",
    "\n"
   ]
  },
  {
   "cell_type": "code",
   "execution_count": 27,
   "metadata": {},
   "outputs": [
    {
     "name": "stdout",
     "output_type": "stream",
     "text": [
      "1.6097514629364014\n"
     ]
    }
   ],
   "source": [
    "start = time()\n",
    "for i in range(25):\n",
    "    #features, labels = next(dataset)\n",
    "    result = trainer((features, labels), training=True)\n",
    "print(time()-start)"
   ]
  },
  {
   "cell_type": "code",
   "execution_count": 28,
   "metadata": {},
   "outputs": [
    {
     "data": {
      "text/plain": [
       "0.0657578182220459"
      ]
     },
     "execution_count": 28,
     "metadata": {},
     "output_type": "execute_result"
    }
   ],
   "source": [
    "1.6439454555511475/25"
   ]
  },
  {
   "cell_type": "code",
   "execution_count": null,
   "metadata": {},
   "outputs": [],
   "source": []
  },
  {
   "cell_type": "code",
   "execution_count": null,
   "metadata": {},
   "outputs": [],
   "source": []
  },
  {
   "cell_type": "code",
   "execution_count": null,
   "metadata": {},
   "outputs": [],
   "source": []
  },
  {
   "cell_type": "code",
   "execution_count": null,
   "metadata": {},
   "outputs": [
    {
     "name": "stdout",
     "output_type": "stream",
     "text": [
      "[MaskRCNN] INFO    : Using Horovod For Distributed Training\n",
      "Start running, work_dir: /home/sagemaker-user/checkpoints\n"
     ]
    },
    {
     "name": "stderr",
     "output_type": "stream",
     "text": [
      "INFO:sagemakercv.utils.runner.runner:Start running, work_dir: /home/sagemaker-user/checkpoints\n"
     ]
    },
    {
     "name": "stdout",
     "output_type": "stream",
     "text": [
      "max: 13 epochs\n"
     ]
    },
    {
     "name": "stderr",
     "output_type": "stream",
     "text": [
      "INFO:sagemakercv.utils.runner.runner:max: 13 epochs\n"
     ]
    },
    {
     "name": "stdout",
     "output_type": "stream",
     "text": [
      "Loading checkpoint from /home/sagemaker-user/data/coco/weights/tf/resnet/resnet-nhwc-2018-02-07/model.ckpt-112603...\n"
     ]
    },
    {
     "name": "stderr",
     "output_type": "stream",
     "text": [
      "INFO:sagemakercv.utils.runner.runner:Loading checkpoint from /home/sagemaker-user/data/coco/weights/tf/resnet/resnet-nhwc-2018-02-07/model.ckpt-112603...\n"
     ]
    },
    {
     "name": "stdout",
     "output_type": "stream",
     "text": [
      "Start time: 2021-03-28 18:39:40.814098\n"
     ]
    },
    {
     "name": "stderr",
     "output_type": "stream",
     "text": [
      "INFO:sagemakercv.utils.runner.runner:Start time: 2021-03-28 18:39:40.814098\n"
     ]
    },
    {
     "name": "stdout",
     "output_type": "stream",
     "text": [
      "Starting epoch: 1 of 13\n"
     ]
    },
    {
     "name": "stderr",
     "output_type": "stream",
     "text": [
      "INFO:sagemakercv.utils.runner.runner:Starting epoch: 1 of 13\n"
     ]
    },
    {
     "name": "stdout",
     "output_type": "stream",
     "text": [
      "Tensor(\"two_stage_detector/CascadeRoIHead/proposal_label_2/Reshape_20:0\", shape=(4, 512), dtype=float32)\n",
      "[MaskRCNN] INFO    : Broadcasting model\n",
      "WARNING:tensorflow:AutoGraph could not transform <bound method Socket.send of <zmq.sugar.socket.Socket object at 0x7f5a22cfb600>> and will run it as-is.\n",
      "Please report this to the TensorFlow team. When filing the bug, set the verbosity to 10 (on Linux, `export AUTOGRAPH_VERBOSITY=10`) and attach the full output.\n",
      "Cause: module, class, method, function, traceback, frame, or code object was expected, got cython_function_or_method\n",
      "To silence this warning, decorate the function with @tf.autograph.experimental.do_not_convert\n"
     ]
    },
    {
     "name": "stderr",
     "output_type": "stream",
     "text": [
      "WARNING:tensorflow:AutoGraph could not transform <bound method Socket.send of <zmq.sugar.socket.Socket object at 0x7f5a22cfb600>> and will run it as-is.\n",
      "Please report this to the TensorFlow team. When filing the bug, set the verbosity to 10 (on Linux, `export AUTOGRAPH_VERBOSITY=10`) and attach the full output.\n",
      "Cause: module, class, method, function, traceback, frame, or code object was expected, got cython_function_or_method\n",
      "To silence this warning, decorate the function with @tf.autograph.experimental.do_not_convert\n"
     ]
    },
    {
     "name": "stdout",
     "output_type": "stream",
     "text": [
      "WARNING: AutoGraph could not transform <bound method Socket.send of <zmq.sugar.socket.Socket object at 0x7f5a22cfb600>> and will run it as-is.\n",
      "Please report this to the TensorFlow team. When filing the bug, set the verbosity to 10 (on Linux, `export AUTOGRAPH_VERBOSITY=10`) and attach the full output.\n",
      "Cause: module, class, method, function, traceback, frame, or code object was expected, got cython_function_or_method\n",
      "To silence this warning, decorate the function with @tf.autograph.experimental.do_not_convert\n",
      "Tensor(\"two_stage_detector/CascadeRoIHead/proposal_label_2/Reshape_20:0\", shape=(4, 512), dtype=float32)\n",
      "[MaskRCNN] INFO    : Broadcasting model\n",
      "WARNING:tensorflow:From /usr/local/lib/python3.7/site-packages/tensorflow/python/ops/summary_ops_v2.py:1297: start (from tensorflow.python.eager.profiler) is deprecated and will be removed after 2020-07-01.\n",
      "Instructions for updating:\n",
      "use `tf.profiler.experimental.start` instead.\n"
     ]
    },
    {
     "name": "stderr",
     "output_type": "stream",
     "text": [
      "WARNING:tensorflow:From /usr/local/lib/python3.7/site-packages/tensorflow/python/ops/summary_ops_v2.py:1297: start (from tensorflow.python.eager.profiler) is deprecated and will be removed after 2020-07-01.\n",
      "Instructions for updating:\n",
      "use `tf.profiler.experimental.start` instead.\n"
     ]
    },
    {
     "name": "stdout",
     "output_type": "stream",
     "text": [
      "Tensor(\"two_stage_detector/CascadeRoIHead/proposal_label_2/Reshape_20:0\", shape=(4, 512), dtype=float32)\n",
      "WARNING:tensorflow:From /usr/local/lib/python3.7/site-packages/tensorflow/python/ops/summary_ops_v2.py:1353: stop (from tensorflow.python.eager.profiler) is deprecated and will be removed after 2020-07-01.\n",
      "Instructions for updating:\n",
      "use `tf.profiler.experimental.stop` instead.\n"
     ]
    },
    {
     "name": "stderr",
     "output_type": "stream",
     "text": [
      "WARNING:tensorflow:From /usr/local/lib/python3.7/site-packages/tensorflow/python/ops/summary_ops_v2.py:1353: stop (from tensorflow.python.eager.profiler) is deprecated and will be removed after 2020-07-01.\n",
      "Instructions for updating:\n",
      "use `tf.profiler.experimental.stop` instead.\n"
     ]
    },
    {
     "name": "stdout",
     "output_type": "stream",
     "text": [
      "WARNING:tensorflow:From /usr/local/lib/python3.7/site-packages/tensorflow/python/ops/summary_ops_v2.py:1353: save (from tensorflow.python.eager.profiler) is deprecated and will be removed after 2020-07-01.\n",
      "Instructions for updating:\n",
      "`tf.python.eager.profiler` has deprecated, use `tf.profiler` instead.\n"
     ]
    },
    {
     "name": "stderr",
     "output_type": "stream",
     "text": [
      "WARNING:tensorflow:From /usr/local/lib/python3.7/site-packages/tensorflow/python/ops/summary_ops_v2.py:1353: save (from tensorflow.python.eager.profiler) is deprecated and will be removed after 2020-07-01.\n",
      "Instructions for updating:\n",
      "`tf.python.eager.profiler` has deprecated, use `tf.profiler` instead.\n"
     ]
    },
    {
     "name": "stdout",
     "output_type": "stream",
     "text": [
      "WARNING:tensorflow:From /usr/local/lib/python3.7/site-packages/tensorflow/python/eager/profiler.py:151: maybe_create_event_file (from tensorflow.python.eager.profiler) is deprecated and will be removed after 2020-07-01.\n",
      "Instructions for updating:\n",
      "`tf.python.eager.profiler` has deprecated, use `tf.profiler` instead.\n"
     ]
    },
    {
     "name": "stderr",
     "output_type": "stream",
     "text": [
      "WARNING:tensorflow:From /usr/local/lib/python3.7/site-packages/tensorflow/python/eager/profiler.py:151: maybe_create_event_file (from tensorflow.python.eager.profiler) is deprecated and will be removed after 2020-07-01.\n",
      "Instructions for updating:\n",
      "`tf.python.eager.profiler` has deprecated, use `tf.profiler` instead.\n"
     ]
    },
    {
     "name": "stdout",
     "output_type": "stream",
     "text": [
      "Epoch [1][200/29571]\tlr: 0.00230, eta: 6 days, 20:04:26, step time: 1.539, total_loss_0: 0.5328, class_loss_0: 0.2416, box_loss_0: 0.2912, total_loss_1: 0.2180, class_loss_1: 0.0962, box_loss_1: 0.1218, total_loss_2: 0.0727, class_loss_2: 0.0526, box_loss_2: 0.0201, mask_loss: 0.6846, total_rpn_loss: 0.1733, rpn_score_loss: 0.1184, rpn_box_loss: 0.0548, total_loss: 2.6761, l2_loss: 0.9947\n"
     ]
    },
    {
     "name": "stderr",
     "output_type": "stream",
     "text": [
      "INFO:sagemakercv.utils.runner.runner:Epoch [1][200/29571]\tlr: 0.00230, eta: 6 days, 20:04:26, step time: 1.539, total_loss_0: 0.5328, class_loss_0: 0.2416, box_loss_0: 0.2912, total_loss_1: 0.2180, class_loss_1: 0.0962, box_loss_1: 0.1218, total_loss_2: 0.0727, class_loss_2: 0.0526, box_loss_2: 0.0201, mask_loss: 0.6846, total_rpn_loss: 0.1733, rpn_score_loss: 0.1184, rpn_box_loss: 0.0548, total_loss: 2.6761, l2_loss: 0.9947\n"
     ]
    },
    {
     "name": "stdout",
     "output_type": "stream",
     "text": [
      "Epoch [1][400/29571]\tlr: 0.00410, eta: 2 days, 17:57:17, step time: 0.619, total_loss_0: 0.5536, class_loss_0: 0.2680, box_loss_0: 0.2856, total_loss_1: 0.2848, class_loss_1: 0.1107, box_loss_1: 0.1741, total_loss_2: 0.0991, class_loss_2: 0.0520, box_loss_2: 0.0470, mask_loss: 0.6368, total_rpn_loss: 0.1384, rpn_score_loss: 0.0856, rpn_box_loss: 0.0528, total_loss: 2.7065, l2_loss: 0.9938\n"
     ]
    },
    {
     "name": "stderr",
     "output_type": "stream",
     "text": [
      "INFO:sagemakercv.utils.runner.runner:Epoch [1][400/29571]\tlr: 0.00410, eta: 2 days, 17:57:17, step time: 0.619, total_loss_0: 0.5536, class_loss_0: 0.2680, box_loss_0: 0.2856, total_loss_1: 0.2848, class_loss_1: 0.1107, box_loss_1: 0.1741, total_loss_2: 0.0991, class_loss_2: 0.0520, box_loss_2: 0.0470, mask_loss: 0.6368, total_rpn_loss: 0.1384, rpn_score_loss: 0.0856, rpn_box_loss: 0.0528, total_loss: 2.7065, l2_loss: 0.9938\n"
     ]
    },
    {
     "name": "stdout",
     "output_type": "stream",
     "text": [
      "\n",
      "*** No instances to display *** \n",
      "\n",
      "\n",
      "*** No instances to display *** \n",
      "\n",
      "\n",
      "*** No instances to display *** \n",
      "\n",
      "\n",
      "*** No instances to display *** \n",
      "\n",
      "Epoch [1][600/29571]\tlr: 0.00500, eta: 2 days, 17:46:17, step time: 0.618, total_loss_0: 0.5515, class_loss_0: 0.2895, box_loss_0: 0.2620, total_loss_1: 0.3393, class_loss_1: 0.1349, box_loss_1: 0.2043, total_loss_2: 0.1384, class_loss_2: 0.0589, box_loss_2: 0.0796, mask_loss: 0.5730, total_rpn_loss: 0.1234, rpn_score_loss: 0.0696, rpn_box_loss: 0.0539, total_loss: 2.7179, l2_loss: 0.9923\n"
     ]
    },
    {
     "name": "stderr",
     "output_type": "stream",
     "text": [
      "INFO:sagemakercv.utils.runner.runner:Epoch [1][600/29571]\tlr: 0.00500, eta: 2 days, 17:46:17, step time: 0.618, total_loss_0: 0.5515, class_loss_0: 0.2895, box_loss_0: 0.2620, total_loss_1: 0.3393, class_loss_1: 0.1349, box_loss_1: 0.2043, total_loss_2: 0.1384, class_loss_2: 0.0589, box_loss_2: 0.0796, mask_loss: 0.5730, total_rpn_loss: 0.1234, rpn_score_loss: 0.0696, rpn_box_loss: 0.0539, total_loss: 2.7179, l2_loss: 0.9923\n"
     ]
    },
    {
     "name": "stdout",
     "output_type": "stream",
     "text": [
      "Epoch [1][800/29571]\tlr: 0.00500, eta: 2 days, 17:54:17, step time: 0.619, total_loss_0: 0.5444, class_loss_0: 0.2985, box_loss_0: 0.2460, total_loss_1: 0.3498, class_loss_1: 0.1469, box_loss_1: 0.2029, total_loss_2: 0.1603, class_loss_2: 0.0652, box_loss_2: 0.0951, mask_loss: 0.5124, total_rpn_loss: 0.1144, rpn_score_loss: 0.0643, rpn_box_loss: 0.0501, total_loss: 2.6717, l2_loss: 0.9905\n"
     ]
    },
    {
     "name": "stderr",
     "output_type": "stream",
     "text": [
      "INFO:sagemakercv.utils.runner.runner:Epoch [1][800/29571]\tlr: 0.00500, eta: 2 days, 17:54:17, step time: 0.619, total_loss_0: 0.5444, class_loss_0: 0.2985, box_loss_0: 0.2460, total_loss_1: 0.3498, class_loss_1: 0.1469, box_loss_1: 0.2029, total_loss_2: 0.1603, class_loss_2: 0.0652, box_loss_2: 0.0951, mask_loss: 0.5124, total_rpn_loss: 0.1144, rpn_score_loss: 0.0643, rpn_box_loss: 0.0501, total_loss: 2.6717, l2_loss: 0.9905\n"
     ]
    },
    {
     "name": "stdout",
     "output_type": "stream",
     "text": [
      "Epoch [1][1000/29571]\tlr: 0.00500, eta: 2 days, 18:14:54, step time: 0.623, total_loss_0: 0.5205, class_loss_0: 0.2871, box_loss_0: 0.2334, total_loss_1: 0.3391, class_loss_1: 0.1457, box_loss_1: 0.1934, total_loss_2: 0.1651, class_loss_2: 0.0677, box_loss_2: 0.0974, mask_loss: 0.4788, total_rpn_loss: 0.1126, rpn_score_loss: 0.0634, rpn_box_loss: 0.0492, total_loss: 2.6048, l2_loss: 0.9887\n"
     ]
    },
    {
     "name": "stderr",
     "output_type": "stream",
     "text": [
      "INFO:sagemakercv.utils.runner.runner:Epoch [1][1000/29571]\tlr: 0.00500, eta: 2 days, 18:14:54, step time: 0.623, total_loss_0: 0.5205, class_loss_0: 0.2871, box_loss_0: 0.2334, total_loss_1: 0.3391, class_loss_1: 0.1457, box_loss_1: 0.1934, total_loss_2: 0.1651, class_loss_2: 0.0677, box_loss_2: 0.0974, mask_loss: 0.4788, total_rpn_loss: 0.1126, rpn_score_loss: 0.0634, rpn_box_loss: 0.0492, total_loss: 2.6048, l2_loss: 0.9887\n"
     ]
    },
    {
     "name": "stdout",
     "output_type": "stream",
     "text": [
      "\n",
      "*** No instances to display *** \n",
      "\n",
      "\n",
      "*** No instances to display *** \n",
      "\n",
      "\n",
      "*** No instances to display *** \n",
      "\n",
      "Epoch [1][1200/29571]\tlr: 0.00500, eta: 3 days, 6:05:54, step time: 0.734, total_loss_0: 0.5146, class_loss_0: 0.2866, box_loss_0: 0.2280, total_loss_1: 0.3359, class_loss_1: 0.1468, box_loss_1: 0.1891, total_loss_2: 0.1682, class_loss_2: 0.0687, box_loss_2: 0.0995, mask_loss: 0.4498, total_rpn_loss: 0.1076, rpn_score_loss: 0.0594, rpn_box_loss: 0.0482, total_loss: 2.5630, l2_loss: 0.9869\n"
     ]
    },
    {
     "name": "stderr",
     "output_type": "stream",
     "text": [
      "INFO:sagemakercv.utils.runner.runner:Epoch [1][1200/29571]\tlr: 0.00500, eta: 3 days, 6:05:54, step time: 0.734, total_loss_0: 0.5146, class_loss_0: 0.2866, box_loss_0: 0.2280, total_loss_1: 0.3359, class_loss_1: 0.1468, box_loss_1: 0.1891, total_loss_2: 0.1682, class_loss_2: 0.0687, box_loss_2: 0.0995, mask_loss: 0.4498, total_rpn_loss: 0.1076, rpn_score_loss: 0.0594, rpn_box_loss: 0.0482, total_loss: 2.5630, l2_loss: 0.9869\n"
     ]
    },
    {
     "name": "stdout",
     "output_type": "stream",
     "text": [
      "Epoch [1][1400/29571]\tlr: 0.00500, eta: 2 days, 17:49:07, step time: 0.619, total_loss_0: 0.5165, class_loss_0: 0.2954, box_loss_0: 0.2211, total_loss_1: 0.3405, class_loss_1: 0.1519, box_loss_1: 0.1886, total_loss_2: 0.1713, class_loss_2: 0.0705, box_loss_2: 0.1009, mask_loss: 0.4248, total_rpn_loss: 0.0997, rpn_score_loss: 0.0540, rpn_box_loss: 0.0457, total_loss: 2.5379, l2_loss: 0.9852\n"
     ]
    },
    {
     "name": "stderr",
     "output_type": "stream",
     "text": [
      "INFO:sagemakercv.utils.runner.runner:Epoch [1][1400/29571]\tlr: 0.00500, eta: 2 days, 17:49:07, step time: 0.619, total_loss_0: 0.5165, class_loss_0: 0.2954, box_loss_0: 0.2211, total_loss_1: 0.3405, class_loss_1: 0.1519, box_loss_1: 0.1886, total_loss_2: 0.1713, class_loss_2: 0.0705, box_loss_2: 0.1009, mask_loss: 0.4248, total_rpn_loss: 0.0997, rpn_score_loss: 0.0540, rpn_box_loss: 0.0457, total_loss: 2.5379, l2_loss: 0.9852\n"
     ]
    },
    {
     "name": "stdout",
     "output_type": "stream",
     "text": [
      "\n",
      "*** No instances to display *** \n",
      "\n",
      "\n",
      "*** No instances to display *** \n",
      "\n",
      "\n",
      "*** No instances to display *** \n",
      "\n",
      "\n",
      "*** No instances to display *** \n",
      "\n",
      "Epoch [1][1600/29571]\tlr: 0.00500, eta: 2 days, 18:34:54, step time: 0.627, total_loss_0: 0.5076, class_loss_0: 0.2898, box_loss_0: 0.2179, total_loss_1: 0.3319, class_loss_1: 0.1486, box_loss_1: 0.1833, total_loss_2: 0.1699, class_loss_2: 0.0707, box_loss_2: 0.0992, mask_loss: 0.4134, total_rpn_loss: 0.1007, rpn_score_loss: 0.0554, rpn_box_loss: 0.0452, total_loss: 2.5068, l2_loss: 0.9834\n"
     ]
    },
    {
     "name": "stderr",
     "output_type": "stream",
     "text": [
      "INFO:sagemakercv.utils.runner.runner:Epoch [1][1600/29571]\tlr: 0.00500, eta: 2 days, 18:34:54, step time: 0.627, total_loss_0: 0.5076, class_loss_0: 0.2898, box_loss_0: 0.2179, total_loss_1: 0.3319, class_loss_1: 0.1486, box_loss_1: 0.1833, total_loss_2: 0.1699, class_loss_2: 0.0707, box_loss_2: 0.0992, mask_loss: 0.4134, total_rpn_loss: 0.1007, rpn_score_loss: 0.0554, rpn_box_loss: 0.0452, total_loss: 2.5068, l2_loss: 0.9834\n"
     ]
    },
    {
     "name": "stdout",
     "output_type": "stream",
     "text": [
      "Epoch [1][1800/29571]\tlr: 0.00500, eta: 2 days, 18:12:47, step time: 0.624, total_loss_0: 0.4863, class_loss_0: 0.2736, box_loss_0: 0.2127, total_loss_1: 0.3241, class_loss_1: 0.1423, box_loss_1: 0.1818, total_loss_2: 0.1683, class_loss_2: 0.0685, box_loss_2: 0.0998, mask_loss: 0.3984, total_rpn_loss: 0.0998, rpn_score_loss: 0.0539, rpn_box_loss: 0.0459, total_loss: 2.4586, l2_loss: 0.9817\n"
     ]
    },
    {
     "name": "stderr",
     "output_type": "stream",
     "text": [
      "INFO:sagemakercv.utils.runner.runner:Epoch [1][1800/29571]\tlr: 0.00500, eta: 2 days, 18:12:47, step time: 0.624, total_loss_0: 0.4863, class_loss_0: 0.2736, box_loss_0: 0.2127, total_loss_1: 0.3241, class_loss_1: 0.1423, box_loss_1: 0.1818, total_loss_2: 0.1683, class_loss_2: 0.0685, box_loss_2: 0.0998, mask_loss: 0.3984, total_rpn_loss: 0.0998, rpn_score_loss: 0.0539, rpn_box_loss: 0.0459, total_loss: 2.4586, l2_loss: 0.9817\n"
     ]
    },
    {
     "name": "stdout",
     "output_type": "stream",
     "text": [
      "Epoch [1][2000/29571]\tlr: 0.00500, eta: 2 days, 18:45:53, step time: 0.629, total_loss_0: 0.4632, class_loss_0: 0.2586, box_loss_0: 0.2046, total_loss_1: 0.3123, class_loss_1: 0.1358, box_loss_1: 0.1765, total_loss_2: 0.1642, class_loss_2: 0.0656, box_loss_2: 0.0987, mask_loss: 0.3808, total_rpn_loss: 0.0948, rpn_score_loss: 0.0510, rpn_box_loss: 0.0438, total_loss: 2.3954, l2_loss: 0.9800\n"
     ]
    },
    {
     "name": "stderr",
     "output_type": "stream",
     "text": [
      "INFO:sagemakercv.utils.runner.runner:Epoch [1][2000/29571]\tlr: 0.00500, eta: 2 days, 18:45:53, step time: 0.629, total_loss_0: 0.4632, class_loss_0: 0.2586, box_loss_0: 0.2046, total_loss_1: 0.3123, class_loss_1: 0.1358, box_loss_1: 0.1765, total_loss_2: 0.1642, class_loss_2: 0.0656, box_loss_2: 0.0987, mask_loss: 0.3808, total_rpn_loss: 0.0948, rpn_score_loss: 0.0510, rpn_box_loss: 0.0438, total_loss: 2.3954, l2_loss: 0.9800\n"
     ]
    },
    {
     "name": "stdout",
     "output_type": "stream",
     "text": [
      "\n",
      "*** No instances to display *** \n",
      "\n",
      "Epoch [1][2200/29571]\tlr: 0.00500, eta: 2 days, 18:36:21, step time: 0.628, total_loss_0: 0.4578, class_loss_0: 0.2531, box_loss_0: 0.2047, total_loss_1: 0.3073, class_loss_1: 0.1327, box_loss_1: 0.1746, total_loss_2: 0.1621, class_loss_2: 0.0643, box_loss_2: 0.0978, mask_loss: 0.3790, total_rpn_loss: 0.0947, rpn_score_loss: 0.0485, rpn_box_loss: 0.0462, total_loss: 2.3791, l2_loss: 0.9783\n"
     ]
    },
    {
     "name": "stderr",
     "output_type": "stream",
     "text": [
      "INFO:sagemakercv.utils.runner.runner:Epoch [1][2200/29571]\tlr: 0.00500, eta: 2 days, 18:36:21, step time: 0.628, total_loss_0: 0.4578, class_loss_0: 0.2531, box_loss_0: 0.2047, total_loss_1: 0.3073, class_loss_1: 0.1327, box_loss_1: 0.1746, total_loss_2: 0.1621, class_loss_2: 0.0643, box_loss_2: 0.0978, mask_loss: 0.3790, total_rpn_loss: 0.0947, rpn_score_loss: 0.0485, rpn_box_loss: 0.0462, total_loss: 2.3791, l2_loss: 0.9783\n"
     ]
    },
    {
     "name": "stdout",
     "output_type": "stream",
     "text": [
      "Epoch [1][2400/29571]\tlr: 0.00500, eta: 2 days, 17:07:22, step time: 0.614, total_loss_0: 0.4451, class_loss_0: 0.2472, box_loss_0: 0.1979, total_loss_1: 0.3009, class_loss_1: 0.1314, box_loss_1: 0.1695, total_loss_2: 0.1608, class_loss_2: 0.0640, box_loss_2: 0.0967, mask_loss: 0.3671, total_rpn_loss: 0.0916, rpn_score_loss: 0.0468, rpn_box_loss: 0.0448, total_loss: 2.3420, l2_loss: 0.9766\n"
     ]
    },
    {
     "name": "stderr",
     "output_type": "stream",
     "text": [
      "INFO:sagemakercv.utils.runner.runner:Epoch [1][2400/29571]\tlr: 0.00500, eta: 2 days, 17:07:22, step time: 0.614, total_loss_0: 0.4451, class_loss_0: 0.2472, box_loss_0: 0.1979, total_loss_1: 0.3009, class_loss_1: 0.1314, box_loss_1: 0.1695, total_loss_2: 0.1608, class_loss_2: 0.0640, box_loss_2: 0.0967, mask_loss: 0.3671, total_rpn_loss: 0.0916, rpn_score_loss: 0.0468, rpn_box_loss: 0.0448, total_loss: 2.3420, l2_loss: 0.9766\n"
     ]
    },
    {
     "name": "stdout",
     "output_type": "stream",
     "text": [
      "\n",
      "*** No instances to display *** \n",
      "\n",
      "\n",
      "*** No instances to display *** \n",
      "\n",
      "\n",
      "*** No instances to display *** \n",
      "\n",
      "Epoch [1][2600/29571]\tlr: 0.00500, eta: 2 days, 18:01:17, step time: 0.623, total_loss_0: 0.4526, class_loss_0: 0.2536, box_loss_0: 0.1990, total_loss_1: 0.3027, class_loss_1: 0.1317, box_loss_1: 0.1710, total_loss_2: 0.1606, class_loss_2: 0.0638, box_loss_2: 0.0968, mask_loss: 0.3644, total_rpn_loss: 0.0888, rpn_score_loss: 0.0457, rpn_box_loss: 0.0430, total_loss: 2.3439, l2_loss: 0.9749\n"
     ]
    },
    {
     "name": "stderr",
     "output_type": "stream",
     "text": [
      "INFO:sagemakercv.utils.runner.runner:Epoch [1][2600/29571]\tlr: 0.00500, eta: 2 days, 18:01:17, step time: 0.623, total_loss_0: 0.4526, class_loss_0: 0.2536, box_loss_0: 0.1990, total_loss_1: 0.3027, class_loss_1: 0.1317, box_loss_1: 0.1710, total_loss_2: 0.1606, class_loss_2: 0.0638, box_loss_2: 0.0968, mask_loss: 0.3644, total_rpn_loss: 0.0888, rpn_score_loss: 0.0457, rpn_box_loss: 0.0430, total_loss: 2.3439, l2_loss: 0.9749\n"
     ]
    },
    {
     "name": "stdout",
     "output_type": "stream",
     "text": [
      "Epoch [1][2800/29571]\tlr: 0.00500, eta: 2 days, 17:51:06, step time: 0.622, total_loss_0: 0.4238, class_loss_0: 0.2318, box_loss_0: 0.1920, total_loss_1: 0.2897, class_loss_1: 0.1229, box_loss_1: 0.1667, total_loss_2: 0.1567, class_loss_2: 0.0603, box_loss_2: 0.0964, mask_loss: 0.3447, total_rpn_loss: 0.0895, rpn_score_loss: 0.0464, rpn_box_loss: 0.0431, total_loss: 2.2775, l2_loss: 0.9732\n"
     ]
    },
    {
     "name": "stderr",
     "output_type": "stream",
     "text": [
      "INFO:sagemakercv.utils.runner.runner:Epoch [1][2800/29571]\tlr: 0.00500, eta: 2 days, 17:51:06, step time: 0.622, total_loss_0: 0.4238, class_loss_0: 0.2318, box_loss_0: 0.1920, total_loss_1: 0.2897, class_loss_1: 0.1229, box_loss_1: 0.1667, total_loss_2: 0.1567, class_loss_2: 0.0603, box_loss_2: 0.0964, mask_loss: 0.3447, total_rpn_loss: 0.0895, rpn_score_loss: 0.0464, rpn_box_loss: 0.0431, total_loss: 2.2775, l2_loss: 0.9732\n"
     ]
    },
    {
     "name": "stdout",
     "output_type": "stream",
     "text": [
      "Epoch [1][3000/29571]\tlr: 0.00500, eta: 2 days, 17:41:56, step time: 0.621, total_loss_0: 0.4511, class_loss_0: 0.2498, box_loss_0: 0.2013, total_loss_1: 0.3048, class_loss_1: 0.1320, box_loss_1: 0.1728, total_loss_2: 0.1619, class_loss_2: 0.0645, box_loss_2: 0.0974, mask_loss: 0.3560, total_rpn_loss: 0.0908, rpn_score_loss: 0.0470, rpn_box_loss: 0.0438, total_loss: 2.3361, l2_loss: 0.9715\n"
     ]
    },
    {
     "name": "stderr",
     "output_type": "stream",
     "text": [
      "INFO:sagemakercv.utils.runner.runner:Epoch [1][3000/29571]\tlr: 0.00500, eta: 2 days, 17:41:56, step time: 0.621, total_loss_0: 0.4511, class_loss_0: 0.2498, box_loss_0: 0.2013, total_loss_1: 0.3048, class_loss_1: 0.1320, box_loss_1: 0.1728, total_loss_2: 0.1619, class_loss_2: 0.0645, box_loss_2: 0.0974, mask_loss: 0.3560, total_rpn_loss: 0.0908, rpn_score_loss: 0.0470, rpn_box_loss: 0.0438, total_loss: 2.3361, l2_loss: 0.9715\n"
     ]
    },
    {
     "name": "stdout",
     "output_type": "stream",
     "text": [
      "Epoch [1][3200/29571]\tlr: 0.00500, eta: 2 days, 17:25:29, step time: 0.619, total_loss_0: 0.4389, class_loss_0: 0.2473, box_loss_0: 0.1916, total_loss_1: 0.2960, class_loss_1: 0.1306, box_loss_1: 0.1654, total_loss_2: 0.1588, class_loss_2: 0.0634, box_loss_2: 0.0954, mask_loss: 0.3494, total_rpn_loss: 0.0886, rpn_score_loss: 0.0450, rpn_box_loss: 0.0437, total_loss: 2.3015, l2_loss: 0.9698\n"
     ]
    },
    {
     "name": "stderr",
     "output_type": "stream",
     "text": [
      "INFO:sagemakercv.utils.runner.runner:Epoch [1][3200/29571]\tlr: 0.00500, eta: 2 days, 17:25:29, step time: 0.619, total_loss_0: 0.4389, class_loss_0: 0.2473, box_loss_0: 0.1916, total_loss_1: 0.2960, class_loss_1: 0.1306, box_loss_1: 0.1654, total_loss_2: 0.1588, class_loss_2: 0.0634, box_loss_2: 0.0954, mask_loss: 0.3494, total_rpn_loss: 0.0886, rpn_score_loss: 0.0450, rpn_box_loss: 0.0437, total_loss: 2.3015, l2_loss: 0.9698\n"
     ]
    },
    {
     "name": "stdout",
     "output_type": "stream",
     "text": [
      "Epoch [1][3400/29571]\tlr: 0.00500, eta: 2 days, 16:46:19, step time: 0.613, total_loss_0: 0.4369, class_loss_0: 0.2396, box_loss_0: 0.1973, total_loss_1: 0.2969, class_loss_1: 0.1282, box_loss_1: 0.1687, total_loss_2: 0.1582, class_loss_2: 0.0626, box_loss_2: 0.0956, mask_loss: 0.3550, total_rpn_loss: 0.0837, rpn_score_loss: 0.0422, rpn_box_loss: 0.0415, total_loss: 2.2989, l2_loss: 0.9681\n"
     ]
    },
    {
     "name": "stderr",
     "output_type": "stream",
     "text": [
      "INFO:sagemakercv.utils.runner.runner:Epoch [1][3400/29571]\tlr: 0.00500, eta: 2 days, 16:46:19, step time: 0.613, total_loss_0: 0.4369, class_loss_0: 0.2396, box_loss_0: 0.1973, total_loss_1: 0.2969, class_loss_1: 0.1282, box_loss_1: 0.1687, total_loss_2: 0.1582, class_loss_2: 0.0626, box_loss_2: 0.0956, mask_loss: 0.3550, total_rpn_loss: 0.0837, rpn_score_loss: 0.0422, rpn_box_loss: 0.0415, total_loss: 2.2989, l2_loss: 0.9681\n"
     ]
    },
    {
     "name": "stdout",
     "output_type": "stream",
     "text": [
      "\n",
      "*** No instances to display *** \n",
      "\n",
      "\n",
      "*** No instances to display *** \n",
      "\n",
      "Epoch [1][3600/29571]\tlr: 0.00500, eta: 2 days, 17:35:03, step time: 0.621, total_loss_0: 0.4354, class_loss_0: 0.2428, box_loss_0: 0.1926, total_loss_1: 0.2954, class_loss_1: 0.1293, box_loss_1: 0.1661, total_loss_2: 0.1586, class_loss_2: 0.0633, box_loss_2: 0.0953, mask_loss: 0.3463, total_rpn_loss: 0.0859, rpn_score_loss: 0.0426, rpn_box_loss: 0.0433, total_loss: 2.2880, l2_loss: 0.9665\n"
     ]
    },
    {
     "name": "stderr",
     "output_type": "stream",
     "text": [
      "INFO:sagemakercv.utils.runner.runner:Epoch [1][3600/29571]\tlr: 0.00500, eta: 2 days, 17:35:03, step time: 0.621, total_loss_0: 0.4354, class_loss_0: 0.2428, box_loss_0: 0.1926, total_loss_1: 0.2954, class_loss_1: 0.1293, box_loss_1: 0.1661, total_loss_2: 0.1586, class_loss_2: 0.0633, box_loss_2: 0.0953, mask_loss: 0.3463, total_rpn_loss: 0.0859, rpn_score_loss: 0.0426, rpn_box_loss: 0.0433, total_loss: 2.2880, l2_loss: 0.9665\n"
     ]
    },
    {
     "name": "stdout",
     "output_type": "stream",
     "text": [
      "Epoch [1][3800/29571]\tlr: 0.00500, eta: 2 days, 16:37:27, step time: 0.612, total_loss_0: 0.4491, class_loss_0: 0.2545, box_loss_0: 0.1946, total_loss_1: 0.3013, class_loss_1: 0.1349, box_loss_1: 0.1664, total_loss_2: 0.1609, class_loss_2: 0.0661, box_loss_2: 0.0948, mask_loss: 0.3521, total_rpn_loss: 0.0865, rpn_score_loss: 0.0429, rpn_box_loss: 0.0436, total_loss: 2.3147, l2_loss: 0.9648\n"
     ]
    },
    {
     "name": "stderr",
     "output_type": "stream",
     "text": [
      "INFO:sagemakercv.utils.runner.runner:Epoch [1][3800/29571]\tlr: 0.00500, eta: 2 days, 16:37:27, step time: 0.612, total_loss_0: 0.4491, class_loss_0: 0.2545, box_loss_0: 0.1946, total_loss_1: 0.3013, class_loss_1: 0.1349, box_loss_1: 0.1664, total_loss_2: 0.1609, class_loss_2: 0.0661, box_loss_2: 0.0948, mask_loss: 0.3521, total_rpn_loss: 0.0865, rpn_score_loss: 0.0429, rpn_box_loss: 0.0436, total_loss: 2.3147, l2_loss: 0.9648\n"
     ]
    }
   ],
   "source": [
    "optimizer = build_optimizer(cfg)\n",
    "trainer = build_trainer(cfg, detector, optimizer, dist=cfg.DISTRIBUTION)\n",
    "runner = Runner(trainer, cfg)\n",
    "hooks = build_hooks(cfg)\n",
    "for hook in hooks:\n",
    "    runner.register_hook(hook)\n",
    "runner.run(dataset)"
   ]
  },
  {
   "cell_type": "code",
   "execution_count": null,
   "metadata": {},
   "outputs": [],
   "source": []
  }
 ],
 "metadata": {
  "instance_type": "ml.g4dn.xlarge",
  "kernelspec": {
   "display_name": "Environment (conda_tensorflow2_latest_p37)",
   "language": "python",
   "name": "conda_tensorflow2_latest_p37"
  },
  "language_info": {
   "codemirror_mode": {
    "name": "ipython",
    "version": 3
   },
   "file_extension": ".py",
   "mimetype": "text/x-python",
   "name": "python",
   "nbconvert_exporter": "python",
   "pygments_lexer": "ipython3",
   "version": "3.7.10"
  }
 },
 "nbformat": 4,
 "nbformat_minor": 4
}
