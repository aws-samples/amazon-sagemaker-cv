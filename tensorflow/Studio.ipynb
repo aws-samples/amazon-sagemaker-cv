{
 "cells": [
  {
   "cell_type": "code",
   "execution_count": 2,
   "metadata": {},
   "outputs": [
    {
     "name": "stderr",
     "output_type": "stream",
     "text": [
      "/usr/local/lib/python3.7/site-packages/tensorflow_addons/utils/ensure_tf_install.py:67: UserWarning: Tensorflow Addons supports using Python ops for all Tensorflow versions above or equal to 2.4.0 and strictly below 2.7.0 (nightly versions are not supported). \n",
      " The versions of TensorFlow you are currently using is 2.3.2 and is not supported. \n",
      "Some things might work, some things might not.\n",
      "If you were to encounter a bug, do not file an issue.\n",
      "If you want to make sure you're using a tested and supported configuration, either change the TensorFlow version or the TensorFlow Addons's version. \n",
      "You can find the compatibility matrix in TensorFlow Addon's readme:\n",
      "https://github.com/tensorflow/addons\n",
      "  UserWarning,\n"
     ]
    },
    {
     "name": "stdout",
     "output_type": "stream",
     "text": [
      "NOTE! Installing ujson may make loading annotations faster.\n"
     ]
    }
   ],
   "source": [
    "import sys\n",
    "sys.path.append('..')\n",
    "import tensorflow as tf\n",
    "from configs.default_config import _C as cfg\n",
    "cfg.merge_from_file('configs/mrcnn_bs4_local.yaml')\n",
    "from sagemakercv.detection import build_detector\n",
    "from sagemakercv.data import build_dataset\n",
    "from sagemakercv.training import build_optimizer, build_trainer\n",
    "from sagemakercv.utils.runner import build_hooks, Runner\n",
    "from sagemakercv.utils.dist_utils import get_dist_info\n",
    "from tqdm.notebook import tqdm"
   ]
  },
  {
   "cell_type": "code",
   "execution_count": 3,
   "metadata": {},
   "outputs": [],
   "source": [
    "rank, local_rank, size, local_size = get_dist_info()\n",
    "devices = tf.config.list_physical_devices('GPU')\n",
    "for device in devices:\n",
    "    tf.config.experimental.set_memory_growth(device, True)\n",
    "tf.config.set_visible_devices([devices[local_rank]], 'GPU')\n",
    "logical_devices = tf.config.list_logical_devices('GPU')\n",
    "tf.config.optimizer.set_experimental_options({\"auto_mixed_precision\": cfg.SOLVER.FP16})\n",
    "tf.config.optimizer.set_jit(cfg.SOLVER.XLA)"
   ]
  },
  {
   "cell_type": "code",
   "execution_count": 4,
   "metadata": {},
   "outputs": [
    {
     "name": "stdout",
     "output_type": "stream",
     "text": [
      "WARNING:tensorflow:From /usr/local/lib/python3.7/site-packages/tensorflow/python/util/deprecation.py:574: calling map_fn_v2 (from tensorflow.python.ops.map_fn) with dtype is deprecated and will be removed in a future version.\n",
      "Instructions for updating:\n",
      "Use fn_output_signature instead\n"
     ]
    }
   ],
   "source": [
    "dataset = iter(build_dataset(cfg))\n",
    "detector = build_detector(cfg)"
   ]
  },
  {
   "cell_type": "code",
   "execution_count": 5,
   "metadata": {},
   "outputs": [],
   "source": [
    "optimizer = build_optimizer(cfg)\n",
    "trainer = build_trainer(cfg, detector, optimizer)"
   ]
  },
  {
   "cell_type": "code",
   "execution_count": 6,
   "metadata": {},
   "outputs": [
    {
     "name": "stdout",
     "output_type": "stream",
     "text": [
      "[2021-10-14 06:57:36.532 tensorflow-2-3-gpu-p-ml-p3-8xlarge-6c95e2b4b75f3eeb94ad7c2ab312:25 INFO utils.py:27] RULE_JOB_STOP_SIGNAL_FILENAME: None\n",
      "[2021-10-14 06:57:36.563 tensorflow-2-3-gpu-p-ml-p3-8xlarge-6c95e2b4b75f3eeb94ad7c2ab312:25 INFO profiler_config_parser.py:102] Unable to find config at /opt/ml/input/config/profilerconfig.json. Profiler is disabled.\n"
     ]
    }
   ],
   "source": [
    "features, labels = next(dataset)\n",
    "result = trainer((features, labels), training=True)"
   ]
  },
  {
   "cell_type": "code",
   "execution_count": null,
   "metadata": {},
   "outputs": [
    {
     "name": "stdout",
     "output_type": "stream",
     "text": [
      "Start running, work_dir: /root/data/coco/checkpoints\n"
     ]
    },
    {
     "name": "stderr",
     "output_type": "stream",
     "text": [
      "INFO:sagemakercv.utils.runner.runner:Start running, work_dir: /root/data/coco/checkpoints\n"
     ]
    },
    {
     "name": "stdout",
     "output_type": "stream",
     "text": [
      "max: 2 epochs\n"
     ]
    },
    {
     "name": "stderr",
     "output_type": "stream",
     "text": [
      "INFO:sagemakercv.utils.runner.runner:max: 2 epochs\n"
     ]
    },
    {
     "name": "stdout",
     "output_type": "stream",
     "text": [
      "Loading checkpoint from /root/data/weights/resnet50/model.ckpt-112603...\n"
     ]
    },
    {
     "name": "stderr",
     "output_type": "stream",
     "text": [
      "INFO:sagemakercv.utils.runner.runner:Loading checkpoint from /root/data/weights/resnet50/model.ckpt-112603...\n"
     ]
    },
    {
     "name": "stdout",
     "output_type": "stream",
     "text": [
      "Start time: 2021-10-14 06:58:53.574359\n"
     ]
    },
    {
     "name": "stderr",
     "output_type": "stream",
     "text": [
      "INFO:sagemakercv.utils.runner.runner:Start time: 2021-10-14 06:58:53.574359\n"
     ]
    },
    {
     "name": "stdout",
     "output_type": "stream",
     "text": [
      "Starting epoch: 1 of 2\n"
     ]
    },
    {
     "name": "stderr",
     "output_type": "stream",
     "text": [
      "INFO:sagemakercv.utils.runner.runner:Starting epoch: 1 of 2\n"
     ]
    },
    {
     "name": "stdout",
     "output_type": "stream",
     "text": [
      "Epoch [1][50/29571]\tlr: 0.00032, eta: 12:55:56, step time: 1.036, total_loss_bbox: 1.5565, class_loss: 1.3806, box_loss: 0.1759, mask_loss: 1.0641, total_rpn_loss: 0.5283, rpn_score_loss: 0.4600, rpn_box_loss: 0.0683, total_loss: 3.1489\n"
     ]
    },
    {
     "name": "stderr",
     "output_type": "stream",
     "text": [
      "INFO:sagemakercv.utils.runner.runner:Epoch [1][50/29571]\tlr: 0.00032, eta: 12:55:56, step time: 1.036, total_loss_bbox: 1.5565, class_loss: 1.3806, box_loss: 0.1759, mask_loss: 1.0641, total_rpn_loss: 0.5283, rpn_score_loss: 0.4600, rpn_box_loss: 0.0683, total_loss: 3.1489\n"
     ]
    },
    {
     "name": "stdout",
     "output_type": "stream",
     "text": [
      "Epoch [1][100/29571]\tlr: 0.00044, eta: 2:21:56, step time: 0.190, total_loss_bbox: 0.7020, class_loss: 0.4057, box_loss: 0.2963, mask_loss: 0.7935, total_rpn_loss: 0.2274, rpn_score_loss: 0.1657, rpn_box_loss: 0.0618, total_loss: 1.7229\n"
     ]
    },
    {
     "name": "stderr",
     "output_type": "stream",
     "text": [
      "INFO:sagemakercv.utils.runner.runner:Epoch [1][100/29571]\tlr: 0.00044, eta: 2:21:56, step time: 0.190, total_loss_bbox: 0.7020, class_loss: 0.4057, box_loss: 0.2963, mask_loss: 0.7935, total_rpn_loss: 0.2274, rpn_score_loss: 0.1657, rpn_box_loss: 0.0618, total_loss: 1.7229\n"
     ]
    },
    {
     "name": "stdout",
     "output_type": "stream",
     "text": [
      "Epoch [1][150/29571]\tlr: 0.00056, eta: 2:19:59, step time: 0.187, total_loss_bbox: 0.7399, class_loss: 0.4041, box_loss: 0.3358, mask_loss: 0.7053, total_rpn_loss: 0.1745, rpn_score_loss: 0.1209, rpn_box_loss: 0.0536, total_loss: 1.6198\n"
     ]
    },
    {
     "name": "stderr",
     "output_type": "stream",
     "text": [
      "INFO:sagemakercv.utils.runner.runner:Epoch [1][150/29571]\tlr: 0.00056, eta: 2:19:59, step time: 0.187, total_loss_bbox: 0.7399, class_loss: 0.4041, box_loss: 0.3358, mask_loss: 0.7053, total_rpn_loss: 0.1745, rpn_score_loss: 0.1209, rpn_box_loss: 0.0536, total_loss: 1.6198\n"
     ]
    },
    {
     "name": "stdout",
     "output_type": "stream",
     "text": [
      "Epoch [1][200/29571]\tlr: 0.00068, eta: 2:19:33, step time: 0.187, total_loss_bbox: 0.7306, class_loss: 0.3989, box_loss: 0.3317, mask_loss: 0.6884, total_rpn_loss: 0.1785, rpn_score_loss: 0.1211, rpn_box_loss: 0.0574, total_loss: 1.5975\n"
     ]
    },
    {
     "name": "stderr",
     "output_type": "stream",
     "text": [
      "INFO:sagemakercv.utils.runner.runner:Epoch [1][200/29571]\tlr: 0.00068, eta: 2:19:33, step time: 0.187, total_loss_bbox: 0.7306, class_loss: 0.3989, box_loss: 0.3317, mask_loss: 0.6884, total_rpn_loss: 0.1785, rpn_score_loss: 0.1211, rpn_box_loss: 0.0574, total_loss: 1.5975\n"
     ]
    },
    {
     "name": "stdout",
     "output_type": "stream",
     "text": [
      "Epoch [1][250/29571]\tlr: 0.00080, eta: 2:19:19, step time: 0.187, total_loss_bbox: 0.7640, class_loss: 0.4205, box_loss: 0.3435, mask_loss: 0.6780, total_rpn_loss: 0.1499, rpn_score_loss: 0.0968, rpn_box_loss: 0.0531, total_loss: 1.5919\n"
     ]
    },
    {
     "name": "stderr",
     "output_type": "stream",
     "text": [
      "INFO:sagemakercv.utils.runner.runner:Epoch [1][250/29571]\tlr: 0.00080, eta: 2:19:19, step time: 0.187, total_loss_bbox: 0.7640, class_loss: 0.4205, box_loss: 0.3435, mask_loss: 0.6780, total_rpn_loss: 0.1499, rpn_score_loss: 0.0968, rpn_box_loss: 0.0531, total_loss: 1.5919\n"
     ]
    },
    {
     "name": "stdout",
     "output_type": "stream",
     "text": [
      "Epoch [1][300/29571]\tlr: 0.00092, eta: 2:19:20, step time: 0.187, total_loss_bbox: 0.8094, class_loss: 0.4571, box_loss: 0.3523, mask_loss: 0.6668, total_rpn_loss: 0.1463, rpn_score_loss: 0.0910, rpn_box_loss: 0.0553, total_loss: 1.6224\n"
     ]
    },
    {
     "name": "stderr",
     "output_type": "stream",
     "text": [
      "INFO:sagemakercv.utils.runner.runner:Epoch [1][300/29571]\tlr: 0.00092, eta: 2:19:20, step time: 0.187, total_loss_bbox: 0.8094, class_loss: 0.4571, box_loss: 0.3523, mask_loss: 0.6668, total_rpn_loss: 0.1463, rpn_score_loss: 0.0910, rpn_box_loss: 0.0553, total_loss: 1.6224\n"
     ]
    },
    {
     "name": "stdout",
     "output_type": "stream",
     "text": [
      "Epoch [1][350/29571]\tlr: 0.00104, eta: 2:19:30, step time: 0.187, total_loss_bbox: 0.8074, class_loss: 0.4564, box_loss: 0.3510, mask_loss: 0.6443, total_rpn_loss: 0.1441, rpn_score_loss: 0.0919, rpn_box_loss: 0.0522, total_loss: 1.5958\n"
     ]
    },
    {
     "name": "stderr",
     "output_type": "stream",
     "text": [
      "INFO:sagemakercv.utils.runner.runner:Epoch [1][350/29571]\tlr: 0.00104, eta: 2:19:30, step time: 0.187, total_loss_bbox: 0.8074, class_loss: 0.4564, box_loss: 0.3510, mask_loss: 0.6443, total_rpn_loss: 0.1441, rpn_score_loss: 0.0919, rpn_box_loss: 0.0522, total_loss: 1.5958\n"
     ]
    },
    {
     "name": "stdout",
     "output_type": "stream",
     "text": [
      "Epoch [1][400/29571]\tlr: 0.00116, eta: 2:18:58, step time: 0.187, total_loss_bbox: 0.8263, class_loss: 0.4639, box_loss: 0.3624, mask_loss: 0.6307, total_rpn_loss: 0.1245, rpn_score_loss: 0.0720, rpn_box_loss: 0.0525, total_loss: 1.5816\n"
     ]
    },
    {
     "name": "stderr",
     "output_type": "stream",
     "text": [
      "INFO:sagemakercv.utils.runner.runner:Epoch [1][400/29571]\tlr: 0.00116, eta: 2:18:58, step time: 0.187, total_loss_bbox: 0.8263, class_loss: 0.4639, box_loss: 0.3624, mask_loss: 0.6307, total_rpn_loss: 0.1245, rpn_score_loss: 0.0720, rpn_box_loss: 0.0525, total_loss: 1.5816\n"
     ]
    },
    {
     "name": "stdout",
     "output_type": "stream",
     "text": [
      "Epoch [1][450/29571]\tlr: 0.00128, eta: 2:18:55, step time: 0.187, total_loss_bbox: 0.8146, class_loss: 0.4601, box_loss: 0.3545, mask_loss: 0.6260, total_rpn_loss: 0.1380, rpn_score_loss: 0.0797, rpn_box_loss: 0.0583, total_loss: 1.5786\n"
     ]
    },
    {
     "name": "stderr",
     "output_type": "stream",
     "text": [
      "INFO:sagemakercv.utils.runner.runner:Epoch [1][450/29571]\tlr: 0.00128, eta: 2:18:55, step time: 0.187, total_loss_bbox: 0.8146, class_loss: 0.4601, box_loss: 0.3545, mask_loss: 0.6260, total_rpn_loss: 0.1380, rpn_score_loss: 0.0797, rpn_box_loss: 0.0583, total_loss: 1.5786\n"
     ]
    },
    {
     "name": "stdout",
     "output_type": "stream",
     "text": [
      "Epoch [1][500/29571]\tlr: 0.00140, eta: 2:19:27, step time: 0.188, total_loss_bbox: 0.8203, class_loss: 0.4621, box_loss: 0.3582, mask_loss: 0.6094, total_rpn_loss: 0.1272, rpn_score_loss: 0.0750, rpn_box_loss: 0.0522, total_loss: 1.5569\n"
     ]
    },
    {
     "name": "stderr",
     "output_type": "stream",
     "text": [
      "INFO:sagemakercv.utils.runner.runner:Epoch [1][500/29571]\tlr: 0.00140, eta: 2:19:27, step time: 0.188, total_loss_bbox: 0.8203, class_loss: 0.4621, box_loss: 0.3582, mask_loss: 0.6094, total_rpn_loss: 0.1272, rpn_score_loss: 0.0750, rpn_box_loss: 0.0522, total_loss: 1.5569\n"
     ]
    },
    {
     "name": "stdout",
     "output_type": "stream",
     "text": [
      "Epoch [1][550/29571]\tlr: 0.00152, eta: 2:19:12, step time: 0.188, total_loss_bbox: 0.8284, class_loss: 0.4728, box_loss: 0.3555, mask_loss: 0.5973, total_rpn_loss: 0.1300, rpn_score_loss: 0.0744, rpn_box_loss: 0.0556, total_loss: 1.5556\n"
     ]
    },
    {
     "name": "stderr",
     "output_type": "stream",
     "text": [
      "INFO:sagemakercv.utils.runner.runner:Epoch [1][550/29571]\tlr: 0.00152, eta: 2:19:12, step time: 0.188, total_loss_bbox: 0.8284, class_loss: 0.4728, box_loss: 0.3555, mask_loss: 0.5973, total_rpn_loss: 0.1300, rpn_score_loss: 0.0744, rpn_box_loss: 0.0556, total_loss: 1.5556\n"
     ]
    },
    {
     "name": "stdout",
     "output_type": "stream",
     "text": [
      "Epoch [1][600/29571]\tlr: 0.00164, eta: 2:19:40, step time: 0.189, total_loss_bbox: 0.8551, class_loss: 0.4980, box_loss: 0.3571, mask_loss: 0.5816, total_rpn_loss: 0.1334, rpn_score_loss: 0.0821, rpn_box_loss: 0.0513, total_loss: 1.5701\n"
     ]
    },
    {
     "name": "stderr",
     "output_type": "stream",
     "text": [
      "INFO:sagemakercv.utils.runner.runner:Epoch [1][600/29571]\tlr: 0.00164, eta: 2:19:40, step time: 0.189, total_loss_bbox: 0.8551, class_loss: 0.4980, box_loss: 0.3571, mask_loss: 0.5816, total_rpn_loss: 0.1334, rpn_score_loss: 0.0821, rpn_box_loss: 0.0513, total_loss: 1.5701\n"
     ]
    },
    {
     "name": "stdout",
     "output_type": "stream",
     "text": [
      "Epoch [1][650/29571]\tlr: 0.00176, eta: 2:18:09, step time: 0.187, total_loss_bbox: 0.8522, class_loss: 0.4923, box_loss: 0.3599, mask_loss: 0.5912, total_rpn_loss: 0.1151, rpn_score_loss: 0.0667, rpn_box_loss: 0.0485, total_loss: 1.5586\n"
     ]
    },
    {
     "name": "stderr",
     "output_type": "stream",
     "text": [
      "INFO:sagemakercv.utils.runner.runner:Epoch [1][650/29571]\tlr: 0.00176, eta: 2:18:09, step time: 0.187, total_loss_bbox: 0.8522, class_loss: 0.4923, box_loss: 0.3599, mask_loss: 0.5912, total_rpn_loss: 0.1151, rpn_score_loss: 0.0667, rpn_box_loss: 0.0485, total_loss: 1.5586\n"
     ]
    },
    {
     "name": "stdout",
     "output_type": "stream",
     "text": [
      "Epoch [1][700/29571]\tlr: 0.00188, eta: 2:19:10, step time: 0.188, total_loss_bbox: 0.8710, class_loss: 0.5122, box_loss: 0.3587, mask_loss: 0.5680, total_rpn_loss: 0.1239, rpn_score_loss: 0.0733, rpn_box_loss: 0.0507, total_loss: 1.5629\n"
     ]
    },
    {
     "name": "stderr",
     "output_type": "stream",
     "text": [
      "INFO:sagemakercv.utils.runner.runner:Epoch [1][700/29571]\tlr: 0.00188, eta: 2:19:10, step time: 0.188, total_loss_bbox: 0.8710, class_loss: 0.5122, box_loss: 0.3587, mask_loss: 0.5680, total_rpn_loss: 0.1239, rpn_score_loss: 0.0733, rpn_box_loss: 0.0507, total_loss: 1.5629\n"
     ]
    },
    {
     "name": "stdout",
     "output_type": "stream",
     "text": [
      "Epoch [1][750/29571]\tlr: 0.00200, eta: 2:22:41, step time: 0.193, total_loss_bbox: 0.8773, class_loss: 0.5231, box_loss: 0.3542, mask_loss: 0.5439, total_rpn_loss: 0.1239, rpn_score_loss: 0.0731, rpn_box_loss: 0.0509, total_loss: 1.5451\n"
     ]
    },
    {
     "name": "stderr",
     "output_type": "stream",
     "text": [
      "INFO:sagemakercv.utils.runner.runner:Epoch [1][750/29571]\tlr: 0.00200, eta: 2:22:41, step time: 0.193, total_loss_bbox: 0.8773, class_loss: 0.5231, box_loss: 0.3542, mask_loss: 0.5439, total_rpn_loss: 0.1239, rpn_score_loss: 0.0731, rpn_box_loss: 0.0509, total_loss: 1.5451\n"
     ]
    },
    {
     "name": "stdout",
     "output_type": "stream",
     "text": [
      "Epoch [1][800/29571]\tlr: 0.00200, eta: 2:19:44, step time: 0.190, total_loss_bbox: 0.8277, class_loss: 0.4744, box_loss: 0.3533, mask_loss: 0.5551, total_rpn_loss: 0.1197, rpn_score_loss: 0.0632, rpn_box_loss: 0.0564, total_loss: 1.5024\n"
     ]
    },
    {
     "name": "stderr",
     "output_type": "stream",
     "text": [
      "INFO:sagemakercv.utils.runner.runner:Epoch [1][800/29571]\tlr: 0.00200, eta: 2:19:44, step time: 0.190, total_loss_bbox: 0.8277, class_loss: 0.4744, box_loss: 0.3533, mask_loss: 0.5551, total_rpn_loss: 0.1197, rpn_score_loss: 0.0632, rpn_box_loss: 0.0564, total_loss: 1.5024\n"
     ]
    },
    {
     "name": "stdout",
     "output_type": "stream",
     "text": [
      "Epoch [1][850/29571]\tlr: 0.00200, eta: 2:18:38, step time: 0.188, total_loss_bbox: 0.8610, class_loss: 0.5100, box_loss: 0.3510, mask_loss: 0.5365, total_rpn_loss: 0.1245, rpn_score_loss: 0.0757, rpn_box_loss: 0.0488, total_loss: 1.5221\n"
     ]
    },
    {
     "name": "stderr",
     "output_type": "stream",
     "text": [
      "INFO:sagemakercv.utils.runner.runner:Epoch [1][850/29571]\tlr: 0.00200, eta: 2:18:38, step time: 0.188, total_loss_bbox: 0.8610, class_loss: 0.5100, box_loss: 0.3510, mask_loss: 0.5365, total_rpn_loss: 0.1245, rpn_score_loss: 0.0757, rpn_box_loss: 0.0488, total_loss: 1.5221\n"
     ]
    },
    {
     "name": "stdout",
     "output_type": "stream",
     "text": [
      "Epoch [1][900/29571]\tlr: 0.00200, eta: 2:18:11, step time: 0.188, total_loss_bbox: 0.8355, class_loss: 0.4844, box_loss: 0.3511, mask_loss: 0.5163, total_rpn_loss: 0.1163, rpn_score_loss: 0.0662, rpn_box_loss: 0.0500, total_loss: 1.4681\n"
     ]
    },
    {
     "name": "stderr",
     "output_type": "stream",
     "text": [
      "INFO:sagemakercv.utils.runner.runner:Epoch [1][900/29571]\tlr: 0.00200, eta: 2:18:11, step time: 0.188, total_loss_bbox: 0.8355, class_loss: 0.4844, box_loss: 0.3511, mask_loss: 0.5163, total_rpn_loss: 0.1163, rpn_score_loss: 0.0662, rpn_box_loss: 0.0500, total_loss: 1.4681\n"
     ]
    },
    {
     "name": "stdout",
     "output_type": "stream",
     "text": [
      "Epoch [1][950/29571]\tlr: 0.00200, eta: 2:17:53, step time: 0.188, total_loss_bbox: 0.8723, class_loss: 0.5116, box_loss: 0.3607, mask_loss: 0.5042, total_rpn_loss: 0.1055, rpn_score_loss: 0.0580, rpn_box_loss: 0.0475, total_loss: 1.4821\n"
     ]
    },
    {
     "name": "stderr",
     "output_type": "stream",
     "text": [
      "INFO:sagemakercv.utils.runner.runner:Epoch [1][950/29571]\tlr: 0.00200, eta: 2:17:53, step time: 0.188, total_loss_bbox: 0.8723, class_loss: 0.5116, box_loss: 0.3607, mask_loss: 0.5042, total_rpn_loss: 0.1055, rpn_score_loss: 0.0580, rpn_box_loss: 0.0475, total_loss: 1.4821\n"
     ]
    },
    {
     "name": "stdout",
     "output_type": "stream",
     "text": [
      "Epoch [1][1000/29571]\tlr: 0.00200, eta: 2:18:11, step time: 0.188, total_loss_bbox: 0.8466, class_loss: 0.4979, box_loss: 0.3487, mask_loss: 0.5106, total_rpn_loss: 0.1084, rpn_score_loss: 0.0618, rpn_box_loss: 0.0465, total_loss: 1.4656\n"
     ]
    },
    {
     "name": "stderr",
     "output_type": "stream",
     "text": [
      "INFO:sagemakercv.utils.runner.runner:Epoch [1][1000/29571]\tlr: 0.00200, eta: 2:18:11, step time: 0.188, total_loss_bbox: 0.8466, class_loss: 0.4979, box_loss: 0.3487, mask_loss: 0.5106, total_rpn_loss: 0.1084, rpn_score_loss: 0.0618, rpn_box_loss: 0.0465, total_loss: 1.4656\n"
     ]
    },
    {
     "name": "stdout",
     "output_type": "stream",
     "text": [
      "Epoch [1][1050/29571]\tlr: 0.00200, eta: 2:18:14, step time: 0.189, total_loss_bbox: 0.8485, class_loss: 0.4961, box_loss: 0.3524, mask_loss: 0.4899, total_rpn_loss: 0.1163, rpn_score_loss: 0.0680, rpn_box_loss: 0.0483, total_loss: 1.4547\n"
     ]
    },
    {
     "name": "stderr",
     "output_type": "stream",
     "text": [
      "INFO:sagemakercv.utils.runner.runner:Epoch [1][1050/29571]\tlr: 0.00200, eta: 2:18:14, step time: 0.189, total_loss_bbox: 0.8485, class_loss: 0.4961, box_loss: 0.3524, mask_loss: 0.4899, total_rpn_loss: 0.1163, rpn_score_loss: 0.0680, rpn_box_loss: 0.0483, total_loss: 1.4547\n"
     ]
    },
    {
     "name": "stdout",
     "output_type": "stream",
     "text": [
      "Epoch [1][1100/29571]\tlr: 0.00200, eta: 2:17:31, step time: 0.188, total_loss_bbox: 0.9034, class_loss: 0.5540, box_loss: 0.3495, mask_loss: 0.4871, total_rpn_loss: 0.1063, rpn_score_loss: 0.0598, rpn_box_loss: 0.0465, total_loss: 1.4969\n"
     ]
    },
    {
     "name": "stderr",
     "output_type": "stream",
     "text": [
      "INFO:sagemakercv.utils.runner.runner:Epoch [1][1100/29571]\tlr: 0.00200, eta: 2:17:31, step time: 0.188, total_loss_bbox: 0.9034, class_loss: 0.5540, box_loss: 0.3495, mask_loss: 0.4871, total_rpn_loss: 0.1063, rpn_score_loss: 0.0598, rpn_box_loss: 0.0465, total_loss: 1.4969\n"
     ]
    },
    {
     "name": "stdout",
     "output_type": "stream",
     "text": [
      "Epoch [1][1150/29571]\tlr: 0.00200, eta: 2:17:44, step time: 0.188, total_loss_bbox: 0.8759, class_loss: 0.5310, box_loss: 0.3449, mask_loss: 0.4815, total_rpn_loss: 0.1200, rpn_score_loss: 0.0691, rpn_box_loss: 0.0509, total_loss: 1.4775\n"
     ]
    },
    {
     "name": "stderr",
     "output_type": "stream",
     "text": [
      "INFO:sagemakercv.utils.runner.runner:Epoch [1][1150/29571]\tlr: 0.00200, eta: 2:17:44, step time: 0.188, total_loss_bbox: 0.8759, class_loss: 0.5310, box_loss: 0.3449, mask_loss: 0.4815, total_rpn_loss: 0.1200, rpn_score_loss: 0.0691, rpn_box_loss: 0.0509, total_loss: 1.4775\n"
     ]
    },
    {
     "name": "stdout",
     "output_type": "stream",
     "text": [
      "Epoch [1][1200/29571]\tlr: 0.00200, eta: 2:18:26, step time: 0.190, total_loss_bbox: 0.8264, class_loss: 0.4819, box_loss: 0.3445, mask_loss: 0.4856, total_rpn_loss: 0.1057, rpn_score_loss: 0.0582, rpn_box_loss: 0.0476, total_loss: 1.4178\n"
     ]
    },
    {
     "name": "stderr",
     "output_type": "stream",
     "text": [
      "INFO:sagemakercv.utils.runner.runner:Epoch [1][1200/29571]\tlr: 0.00200, eta: 2:18:26, step time: 0.190, total_loss_bbox: 0.8264, class_loss: 0.4819, box_loss: 0.3445, mask_loss: 0.4856, total_rpn_loss: 0.1057, rpn_score_loss: 0.0582, rpn_box_loss: 0.0476, total_loss: 1.4178\n"
     ]
    },
    {
     "name": "stdout",
     "output_type": "stream",
     "text": [
      "Epoch [1][1250/29571]\tlr: 0.00200, eta: 2:17:10, step time: 0.188, total_loss_bbox: 0.8523, class_loss: 0.5054, box_loss: 0.3469, mask_loss: 0.4829, total_rpn_loss: 0.1024, rpn_score_loss: 0.0546, rpn_box_loss: 0.0478, total_loss: 1.4375\n"
     ]
    },
    {
     "name": "stderr",
     "output_type": "stream",
     "text": [
      "INFO:sagemakercv.utils.runner.runner:Epoch [1][1250/29571]\tlr: 0.00200, eta: 2:17:10, step time: 0.188, total_loss_bbox: 0.8523, class_loss: 0.5054, box_loss: 0.3469, mask_loss: 0.4829, total_rpn_loss: 0.1024, rpn_score_loss: 0.0546, rpn_box_loss: 0.0478, total_loss: 1.4375\n"
     ]
    },
    {
     "name": "stdout",
     "output_type": "stream",
     "text": [
      "Epoch [1][1300/29571]\tlr: 0.00200, eta: 2:17:09, step time: 0.188, total_loss_bbox: 0.8382, class_loss: 0.4887, box_loss: 0.3496, mask_loss: 0.4678, total_rpn_loss: 0.0980, rpn_score_loss: 0.0523, rpn_box_loss: 0.0458, total_loss: 1.4041\n"
     ]
    },
    {
     "name": "stderr",
     "output_type": "stream",
     "text": [
      "INFO:sagemakercv.utils.runner.runner:Epoch [1][1300/29571]\tlr: 0.00200, eta: 2:17:09, step time: 0.188, total_loss_bbox: 0.8382, class_loss: 0.4887, box_loss: 0.3496, mask_loss: 0.4678, total_rpn_loss: 0.0980, rpn_score_loss: 0.0523, rpn_box_loss: 0.0458, total_loss: 1.4041\n"
     ]
    },
    {
     "name": "stdout",
     "output_type": "stream",
     "text": [
      "Epoch [1][1350/29571]\tlr: 0.00200, eta: 2:16:45, step time: 0.188, total_loss_bbox: 0.8275, class_loss: 0.4801, box_loss: 0.3474, mask_loss: 0.4739, total_rpn_loss: 0.1033, rpn_score_loss: 0.0542, rpn_box_loss: 0.0492, total_loss: 1.4047\n"
     ]
    },
    {
     "name": "stderr",
     "output_type": "stream",
     "text": [
      "INFO:sagemakercv.utils.runner.runner:Epoch [1][1350/29571]\tlr: 0.00200, eta: 2:16:45, step time: 0.188, total_loss_bbox: 0.8275, class_loss: 0.4801, box_loss: 0.3474, mask_loss: 0.4739, total_rpn_loss: 0.1033, rpn_score_loss: 0.0542, rpn_box_loss: 0.0492, total_loss: 1.4047\n"
     ]
    },
    {
     "name": "stdout",
     "output_type": "stream",
     "text": [
      "Epoch [1][1400/29571]\tlr: 0.00200, eta: 2:16:35, step time: 0.188, total_loss_bbox: 0.8130, class_loss: 0.4715, box_loss: 0.3416, mask_loss: 0.4671, total_rpn_loss: 0.0953, rpn_score_loss: 0.0484, rpn_box_loss: 0.0469, total_loss: 1.3755\n"
     ]
    },
    {
     "name": "stderr",
     "output_type": "stream",
     "text": [
      "INFO:sagemakercv.utils.runner.runner:Epoch [1][1400/29571]\tlr: 0.00200, eta: 2:16:35, step time: 0.188, total_loss_bbox: 0.8130, class_loss: 0.4715, box_loss: 0.3416, mask_loss: 0.4671, total_rpn_loss: 0.0953, rpn_score_loss: 0.0484, rpn_box_loss: 0.0469, total_loss: 1.3755\n"
     ]
    }
   ],
   "source": [
    "runner = Runner(trainer, cfg)\n",
    "hooks = build_hooks(cfg)\n",
    "for hook in hooks:\n",
    "    runner.register_hook(hook)\n",
    "runner.run(dataset)"
   ]
  },
  {
   "cell_type": "code",
   "execution_count": null,
   "metadata": {},
   "outputs": [],
   "source": []
  }
 ],
 "metadata": {
  "instance_type": "ml.g4dn.xlarge",
  "kernelspec": {
   "display_name": "Python 3 (TensorFlow 2.3 Python 3.7 GPU Optimized)",
   "language": "python",
   "name": "python3__SAGEMAKER_INTERNAL__arn:aws:sagemaker:us-west-2:236514542706:image/tensorflow-2.3-gpu-py37-cu110-ubuntu18.04-v3"
  },
  "language_info": {
   "codemirror_mode": {
    "name": "ipython",
    "version": 3
   },
   "file_extension": ".py",
   "mimetype": "text/x-python",
   "name": "python",
   "nbconvert_exporter": "python",
   "pygments_lexer": "ipython3",
   "version": "3.7.10"
  }
 },
 "nbformat": 4,
 "nbformat_minor": 4
}
